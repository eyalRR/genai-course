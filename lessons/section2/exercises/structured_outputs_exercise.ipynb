{
 "cells": [
  {
   "cell_type": "markdown",
   "metadata": {},
   "source": [
    "# Structured Outputs"
   ]
  },
  {
   "cell_type": "markdown",
   "metadata": {},
   "source": [
    "## Explanation of the code:\n",
    "\n",
    "This code demonstrates how to use OpenAI's Beta API for structured outputs, allowing you to receive API responses in predefined formats using Pydantic models.\n",
    "\n",
    "**Steps:**\n",
    "\n",
    "1. **Import necessary libraries:**\n",
    "   - `BaseModel` from `pydantic`: Used to define the structure of the desired output data.\n",
    "   - `OpenAI` from `openai`: The OpenAI Python library.\n",
    "\n",
    "2. **Define Pydantic Model:**\n",
    "   - `class CalendarEvent(BaseModel): ...`: Defines a Pydantic model named `CalendarEvent` to represent the structure of a calendar event.\n",
    "     - `name: str`:  Field for the event name (string).\n",
    "     - `date: str`:  Field for the event date (string).\n",
    "     - `participants: list[str]`: Field for a list of participants (list of strings).\n",
    "\n",
    "3. **Initialize OpenAI client:**\n",
    "   - `client = OpenAI()`: Creates an OpenAI client object.\n",
    "\n",
    "4. **Parse chat completion with structured output:**\n",
    "   - `completion = client.beta.chat.completions.parse(...)`: Calls the `beta.chat.completions.parse` method to get a chat completion with structured output.\n",
    "     - `model=\"gpt-4o-2024-08-06\"`: Specifies the model to use.\n",
    "     - `messages=[...]`: Defines the messages for the chat completion.\n",
    "       - `{\"role\": \"system\", \"content\": \"Extract the event information.\"}`: System message instructing the model to extract event information.\n",
    "       - `{\"role\": \"user\", \"content\": \"Alice and Bob are going to a science fair on Friday.\"}`: User message providing the text to extract information from.\n",
    "     - `response_format=CalendarEvent`:  Specifies that the response should be parsed into the `CalendarEvent` Pydantic model.\n",
    "\n",
    "5. **Access parsed output:**\n",
    "   - `event = completion.choices[0].message.parsed`: Accesses the parsed `CalendarEvent` object from the completion response. The parsed object is available in `completion.choices[0].message.parsed`.\n",
    "\n",
    "This code demonstrates how to get structured data from the OpenAI API by defining a Pydantic model and using the `client.beta.chat.completions.parse` method. The API response is automatically parsed into the `CalendarEvent` object, making it easy to work with structured data in your code."
   ]
  },
  {
   "cell_type": "code",
   "execution_count": 1,
   "metadata": {},
   "outputs": [],
   "source": [
    "from pydantic import BaseModel\n",
    "from openai import OpenAI\n",
    "\n",
    "client = OpenAI()\n",
    "\n",
    "class CalendarEvent(BaseModel):\n",
    "\tname: str\n",
    "\tdate: str\n",
    "\tparticipants: list[str]\n",
    "\n",
    "completion = client.beta.chat.completions.parse(\n",
    "\tmodel=\"gpt-4o-2024-08-06\",\n",
    "\tmessages=[\n",
    "\t\t{\"role\": \"system\", \"content\": \"Extract the event information.\"},\n",
    "\t\t{\"role\": \"user\", \"content\": \"Alice and Bob are going to a science fair on Friday.\"},\n",
    "\t],\n",
    "\tresponse_format=CalendarEvent,\n",
    ")\n",
    "\n",
    "event = completion.choices[0].message.parsed"
   ]
  },
  {
   "cell_type": "code",
   "execution_count": 25,
   "metadata": {},
   "outputs": [
    {
     "name": "stdout",
     "output_type": "stream",
     "text": [
      "<class '__main__.CalendarEvent'> \n",
      "\n",
      "name is Science Fair\n",
      "date is Friday\n",
      "participants are ['Alice', 'Bob']\n"
     ]
    }
   ],
   "source": [
    "print(type(event), f\"\\n\")\n",
    "\n",
    "print('name is', event.name)\n",
    "print('date is', event.date)\n",
    "print('participants are', event.participants)"
   ]
  },
  {
   "cell_type": "markdown",
   "metadata": {},
   "source": [
    "## Beginner Exercise:\n",
    "\n",
    "**Task:** Modify the code to extract information about a book from the user message \"I want to read 'The Hitchhiker's Guide to the Galaxy' by Douglas Adams.\" and create a Pydantic model `Book` with fields `title` and `author`.\n",
    "\n",
    "**Hint:**\n",
    "   - Define a new Pydantic model `Book` with `title: str` and `author: str` fields.\n",
    "   - Modify the `response_format` parameter in `client.beta.chat.completions.parse` to use the `Book` model.\n",
    "   - Change the user `content` to \"I want to read 'The Hitchhiker's Guide to the Galaxy' by Douglas Adams.\""
   ]
  },
  {
   "cell_type": "code",
   "execution_count": null,
   "metadata": {},
   "outputs": [],
   "source": [
    "# solution:"
   ]
  }
 ],
 "metadata": {
  "kernelspec": {
   "display_name": "genaienv",
   "language": "python",
   "name": "python3"
  },
  "language_info": {
   "codemirror_mode": {
    "name": "ipython",
    "version": 3
   },
   "file_extension": ".py",
   "mimetype": "text/x-python",
   "name": "python",
   "nbconvert_exporter": "python",
   "pygments_lexer": "ipython3",
   "version": "3.12.8"
  }
 },
 "nbformat": 4,
 "nbformat_minor": 4
}
