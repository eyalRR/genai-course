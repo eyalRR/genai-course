{
 "cells": [
  {
   "cell_type": "markdown",
   "metadata": {},
   "source": [
    "# Speech to Text"
   ]
  },
  {
   "cell_type": "markdown",
   "metadata": {},
   "source": [
    "## Explanation of the code:\n",
    "\n",
    "This code demonstrates how to use the OpenAI API to transcribe audio files to text using the Whisper model.\n",
    "\n",
    "**Steps:**\n",
    "\n",
    "1. **Import OpenAI library:**\n",
    "   - `from openai import OpenAI`: Imports the OpenAI Python library.\n",
    "\n",
    "2. **Initialize OpenAI client:**\n",
    "   - `client = OpenAI()`: Creates an OpenAI client object.\n",
    "\n",
    "3. **Open audio file:**\n",
    "   - `audio_file= open(\"/path/to/file/audio.mp3\", \"rb\")`: Opens the audio file located at \"/path/to/file/audio.mp3\" in read binary mode (`rb`). **Note:** You need to replace \"/path/to/file/audio.mp3\" with the actual path to your audio file.\n",
    "\n",
    "4. **Create transcription:**\n",
    "   - `transcription = client.audio.transcriptions.create(...)`: Calls the `audio.transcriptions.create` method to transcribe the audio file.\n",
    "     - `model=\"whisper-1\"`: Specifies the Whisper-1 model for speech-to-text.\n",
    "     - `file=audio_file`:  Passes the opened audio file to be transcribed.\n",
    "\n",
    "5. **Print transcription text:**\n",
    "   - `print(transcription.text)`: Prints the transcribed text from the audio file.\n",
    "\n",
    "This code snippet provides a basic example of transcribing an audio file using the OpenAI API. Ensure you have an audio file in MP3 format and replace the placeholder path with the correct path to your file."
   ]
  },
  {
   "cell_type": "code",
   "execution_count": 2,
   "metadata": {},
   "outputs": [
    {
     "name": "stdout",
     "output_type": "stream",
     "text": [
      "Yes, Golden Retrievers are excellent family dogs. They are known for their friendly, gentle, and tolerant temperament, making them wonderful companions for children. They're also intelligent and eager to please, which makes them relatively easy to train. Overall, they're a great choice for a family pet.\n"
     ]
    }
   ],
   "source": [
    "from openai import OpenAI\n",
    "\n",
    "client = OpenAI()\n",
    "\n",
    "audio_file= open(\"../audio/dog.wav\", \"rb\")\n",
    "\n",
    "transcription = client.audio.transcriptions.create(\n",
    "\tmodel=\"whisper-1\", \n",
    "\tfile=audio_file\n",
    ")\n",
    "\n",
    "print(transcription.text)"
   ]
  },
  {
   "cell_type": "markdown",
   "metadata": {},
   "source": [
    "## Beginner Exercise:\n",
    "\n",
    "**Task:** Modify the code to transcribe an audio file named \"protest-news.wav\" located in the same directory as the script and print the transcribed text.\n",
    "\n",
    "**Hint:**\n",
    "   -  Make sure you have a file named \"protest-news.wav\" in the same directory.\n",
    "   -  Modify the `open()` function to correctly point to \"protest-news.wav\". You might not need the full path if it's in the same directory."
   ]
  },
  {
   "cell_type": "code",
   "execution_count": null,
   "metadata": {},
   "outputs": [],
   "source": [
    "# Solution:"
   ]
  }
 ],
 "metadata": {
  "kernelspec": {
   "display_name": "genaienv",
   "language": "python",
   "name": "python3"
  },
  "language_info": {
   "codemirror_mode": {
    "name": "ipython",
    "version": 3
   },
   "file_extension": ".py",
   "mimetype": "text/x-python",
   "name": "python",
   "nbconvert_exporter": "python",
   "pygments_lexer": "ipython3",
   "version": "3.12.8"
  }
 },
 "nbformat": 4,
 "nbformat_minor": 4
}
