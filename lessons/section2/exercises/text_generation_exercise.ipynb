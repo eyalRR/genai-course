{
 "cells": [
  {
   "cell_type": "markdown",
   "metadata": {},
   "source": [
    "# Text Generation"
   ]
  },
  {
   "cell_type": "markdown",
   "metadata": {},
   "source": [
    "## Explanation of the code:\n",
    "\n",
    "This code demonstrates how to use the OpenAI API for basic text generation using the `gpt-4o` model.\n",
    "\n",
    "**Steps:**\n",
    "\n",
    "1. **Import OpenAI library:**\n",
    "   - `from openai import OpenAI`: Imports the OpenAI Python library.\n",
    "\n",
    "2. **Initialize OpenAI client:**\n",
    "   - `client = OpenAI()`: Creates an OpenAI client object.\n",
    "\n",
    "3. **Generate text using chat completions:**\n",
    "   - `completion = client.chat.completions.create(...)`: Calls the `chat.completions.create` method to generate text.\n",
    "     - `model=\"gpt-4o\"`: Specifies the `gpt-4o` model for text generation. This is a general-purpose model capable of handling various text-based tasks.\n",
    "     - `messages=[...]`: Defines the conversation messages. In this case, it includes a system message and a user message:\n",
    "       - `{\"role\": \"developer\", \"content\": \"You are a helpful assistant.\"}`:  This is a system message setting the persona of the assistant to be helpful. Although the role is \"developer\" here, it should be \"system\".\n",
    "       - `{\"role\": \"user\", \"content\": \"Write a poem about a cat named Whiskers who loves to play with yarn.\"}`: This is the user's request, asking the model to write a poem about a specific topic.\n",
    "\n",
    "4. **Print the generated message:**\n",
    "   - `print(completion.choices[0].message)`: Prints the generated message from the model. The `completion.choices` list contains completion choices, and we access the first choice (`[0]`) and then the message content.\n",
    "\n",
    "This code snippet provides a simple example of generating text using the OpenAI API. You can modify the `content` of the user message to request different types of text generation, such as stories, articles, summaries, etc. You can also adjust the system message to guide the model's behavior and persona."
   ]
  },
  {
   "cell_type": "code",
   "execution_count": 1,
   "metadata": {},
   "outputs": [
    {
     "name": "stdout",
     "output_type": "stream",
     "text": [
      "ChatCompletionMessage(content='In a sunlit corner, where the shadows dance,  \\nLives a fluffy feline, with a playful prance.  \\nNamed Whiskers, she glimmers, a coat soft and fine,  \\nWith emerald eyes sparkling, her spirit a shine.  \\n\\nOh, Whiskers loves yarn, it’s her greatest delight,  \\nShe pounces and tumbles from morning till night.  \\nA tangle of colors, all bright, bold, and sweet,  \\nShe’s the queen of the fibers, a yarn ball defeat.  \\n\\nWith a flick of her paw, and a flick of her tail,  \\nShe dashes and darts as if chasing a trail.  \\nRolls of red ribbon, and skeins azure blue,  \\nIn her whimsical world, there’s always something new.  \\n\\nShe leaps like a dancer, so graceful, so spry,  \\nA tapestry woven where fantasies lie.  \\nWith each twist and turn, she uncovers her glee,  \\nA kingdom of yarn, as far as the eye can see.  \\n\\nOh, the knitting needles, they clatter and clank,  \\nAs Whiskers weaves tales in her soft, cozy bank.  \\nShe chases the strands, a small whirlwind of fluff,  \\nWith a purr of contentment, she can’t get enough.  \\n\\nSo here’s to dear Whiskers, the yarn-loving cat,  \\nWith a heart full of joy, and a mind that’s quite sprat.  \\nIn a world made of yarn, with laughter and cheer,  \\nShe spins every moment, and keeps us all near.', refusal=None, role='assistant', audio=None, function_call=None, tool_calls=None)\n"
     ]
    }
   ],
   "source": [
    "from openai import OpenAI\n",
    "\n",
    "client = OpenAI()\n",
    "\n",
    "completion = client.chat.completions.create(\n",
    "\tmodel=\"gpt-4o-mini\",\n",
    "\tmessages=[\n",
    "\t\t{\"role\": \"developer\", \"content\": \"You are a helpful assistant.\"},\n",
    "\t\t{\n",
    "\t\t\t\"role\": \"user\",\n",
    "\t\t\t\"content\": \"Write a poem about a cat named Whiskers who loves to play with yarn.\",\n",
    "\t\t}\n",
    "\t]\n",
    ")\n",
    "\n",
    "print(completion.choices[0].message)"
   ]
  },
  {
   "cell_type": "code",
   "execution_count": 2,
   "metadata": {},
   "outputs": [
    {
     "name": "stdout",
     "output_type": "stream",
     "text": [
      "In a sunlit corner, where the shadows dance,  \n",
      "Lives a fluffy feline, with a playful prance.  \n",
      "Named Whiskers, she glimmers, a coat soft and fine,  \n",
      "With emerald eyes sparkling, her spirit a shine.  \n",
      "\n",
      "Oh, Whiskers loves yarn, it’s her greatest delight,  \n",
      "She pounces and tumbles from morning till night.  \n",
      "A tangle of colors, all bright, bold, and sweet,  \n",
      "She’s the queen of the fibers, a yarn ball defeat.  \n",
      "\n",
      "With a flick of her paw, and a flick of her tail,  \n",
      "She dashes and darts as if chasing a trail.  \n",
      "Rolls of red ribbon, and skeins azure blue,  \n",
      "In her whimsical world, there’s always something new.  \n",
      "\n",
      "She leaps like a dancer, so graceful, so spry,  \n",
      "A tapestry woven where fantasies lie.  \n",
      "With each twist and turn, she uncovers her glee,  \n",
      "A kingdom of yarn, as far as the eye can see.  \n",
      "\n",
      "Oh, the knitting needles, they clatter and clank,  \n",
      "As Whiskers weaves tales in her soft, cozy bank.  \n",
      "She chases the strands, a small whirlwind of fluff,  \n",
      "With a purr of contentment, she can’t get enough.  \n",
      "\n",
      "So here’s to dear Whiskers, the yarn-loving cat,  \n",
      "With a heart full of joy, and a mind that’s quite sprat.  \n",
      "In a world made of yarn, with laughter and cheer,  \n",
      "She spins every moment, and keeps us all near.\n"
     ]
    }
   ],
   "source": [
    "print(completion.choices[0].message.content)"
   ]
  },
  {
   "cell_type": "markdown",
   "metadata": {},
   "source": [
    "## Beginner Exercise:\n",
    "\n",
    "**Task:** Modify the code to generate a short story about a dog who goes on an adventure in the park.\n",
    "\n",
    "**Hint:**\n",
    "   - Change the `content` in the user message to ask for a short story about a dog's adventure in the park. You can keep the system message the same or modify it as you see fit."
   ]
  },
  {
   "cell_type": "code",
   "execution_count": null,
   "metadata": {},
   "outputs": [],
   "source": [
    "# Solution:"
   ]
  }
 ],
 "metadata": {
  "kernelspec": {
   "display_name": "genaienv",
   "language": "python",
   "name": "python3"
  },
  "language_info": {
   "codemirror_mode": {
    "name": "ipython",
    "version": 3
   },
   "file_extension": ".py",
   "mimetype": "text/x-python",
   "name": "python",
   "nbconvert_exporter": "python",
   "pygments_lexer": "ipython3",
   "version": "3.12.8"
  }
 },
 "nbformat": 4,
 "nbformat_minor": 4
}
