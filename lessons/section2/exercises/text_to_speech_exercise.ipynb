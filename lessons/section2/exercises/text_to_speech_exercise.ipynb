{
 "cells": [
  {
   "cell_type": "markdown",
   "metadata": {},
   "source": [
    "# Text to Speech"
   ]
  },
  {
   "cell_type": "markdown",
   "metadata": {},
   "source": [
    "## Explanation of the code:\n",
    "\n",
    "This code demonstrates how to use the OpenAI API to convert text to speech using the `tts-1` model and save it to an MP3 file.\n",
    "\n",
    "**Steps:**\n",
    "\n",
    "1. **Import necessary libraries:**\n",
    "   - `Path` from `pathlib`: Used for handling file paths in a platform-independent way.\n",
    "   - `OpenAI` from `openai`: The OpenAI Python library.\n",
    "\n",
    "2. **Initialize OpenAI client:**\n",
    "   - `client = OpenAI()`: Creates an OpenAI client object.\n",
    "\n",
    "3. **Define speech file path:**\n",
    "   - `speech_file_path = \"../audio/speech.mp3\"`: Defines the path where the generated speech MP3 file will be saved. \n",
    "\n",
    "4. **Generate speech:**\n",
    "   - `response = client.audio.speech.create(...)`: Calls the `audio.speech.create` method to generate speech from text.\n",
    "     - `model=\"tts-1\"`: Specifies the `tts-1` model for text-to-speech.\n",
    "     - `voice=\"alloy\"`: Selects the \"alloy\" voice for the speech. OpenAI offers different voice options.\n",
    "     - `input=\"Today is a wonderful day to build something people love!\"`:  The text input that will be converted to speech.\n",
    "\n",
    "5. **Stream speech to file:**\n",
    "   - `response.stream_to_file(speech_file_path)`: Streams the audio response directly to the specified file path, saving the generated speech as \"speech.mp3\".\n",
    "\n",
    "This code snippet provides a basic example of converting text to speech using the OpenAI API and saving the output to an MP3 file. You can modify the `input` text to generate speech for different phrases or sentences and explore different voice options."
   ]
  },
  {
   "cell_type": "code",
   "execution_count": 6,
   "metadata": {},
   "outputs": [
    {
     "name": "stderr",
     "output_type": "stream",
     "text": [
      "C:\\Users\\eyalra\\AppData\\Local\\Temp\\ipykernel_26368\\319948989.py:13: DeprecationWarning: Due to a bug, this method doesn't actually stream the response content, `.with_streaming_response.method()` should be used instead\n",
      "  response.stream_to_file(speech_file_path)\n"
     ]
    }
   ],
   "source": [
    "from openai import OpenAI\n",
    "\n",
    "client = OpenAI()\n",
    "\n",
    "speech_file_path = \"../audio/speech.mp3\"\n",
    "\n",
    "response = client.audio.speech.create(\n",
    "\tmodel=\"tts-1\",\n",
    "\tvoice=\"alloy\",\n",
    "\tinput=\"Today is a wonderful day to build something people love!\",\n",
    ")\n",
    "\n",
    "response.stream_to_file(speech_file_path)"
   ]
  },
  {
   "cell_type": "markdown",
   "metadata": {},
   "source": [
    "## Beginner Exercise:\n",
    "\n",
    "**Task:** Modify the code to generate speech for the text \"Hello, how are you today?\" and save it to a file named \"greeting.mp3\" in the same directory.\n",
    "\n",
    "**Hint:**\n",
    "   - Change the `input` parameter in `client.audio.speech.create` to the new text.\n",
    "   - Modify the `speech_file_path` to save the output to \"greeting.mp3\"."
   ]
  },
  {
   "cell_type": "code",
   "execution_count": null,
   "metadata": {},
   "outputs": [],
   "source": [
    "# Solution:"
   ]
  }
 ],
 "metadata": {
  "kernelspec": {
   "display_name": "genaienv",
   "language": "python",
   "name": "python3"
  },
  "language_info": {
   "codemirror_mode": {
    "name": "ipython",
    "version": 3
   },
   "file_extension": ".py",
   "mimetype": "text/x-python",
   "name": "python",
   "nbconvert_exporter": "python",
   "pygments_lexer": "ipython3",
   "version": "3.12.8"
  }
 },
 "nbformat": 4,
 "nbformat_minor": 4
}
