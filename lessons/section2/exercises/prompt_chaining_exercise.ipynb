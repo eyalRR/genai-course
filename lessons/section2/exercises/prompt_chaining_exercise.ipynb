{
 "cells": [
  {
   "cell_type": "markdown",
   "metadata": {},
   "source": [
    "# Prompt Chaining"
   ]
  },
  {
   "cell_type": "markdown",
   "metadata": {},
   "source": [
    "## Explanation of Prompt Chaining:\n",
    "\n",
    "Prompt chaining is a technique used in large language models (LLMs) to solve complex tasks by breaking them down into smaller, sequential subtasks. The output from one subtask becomes the input for the next, creating a 'chain' of prompts. This approach helps manage complexity and allows the model to focus on specific aspects of a larger problem in each step.\n",
    "\n",
    "In this example, we are tackling the complex task of understanding and mitigating the impact of climate change on marine ecosystems. Instead of asking one large, complicated question, we break it down into four subtasks:\n",
    "\n",
    "1. **Summarize trends:** Understand the basic problem by summarizing temperature changes.\n",
    "2. **Identify studies:** Find relevant research based on the summarized trends.\n",
    "3. **Summarize findings:**  Extract key information from the identified studies.\n",
    "4. **Propose solutions:**  Suggest actions based on the summarized findings.\n",
    "\n",
    "By chaining these prompts, we guide the LLM through a logical progression, making it easier to arrive at a well-informed and structured answer.\n",
    "## Prompt Chaining: Climate Change Marine Ecosystem Analysis\n",
    "\n",
    "🌊 Prompt Chain Workflow:\n",
    "\n",
    "1. 📈 Trends Summarization\n",
    "   ↓\n",
    "2. 🔍 Research Identification\n",
    "   ↓\n",
    "3. 📊 Findings Summary\n",
    "   ↓\n",
    "4. 🌱 Solution Proposal\n",
    "\n",
    "➡️ Visual Representation: [Circular Flow Diagram]\n",
    "   \n",
    "🔗 Chain Stages:\n",
    "   Step 1 Output → Step 2 Input\n",
    "   Step 2 Output → Step 3 Input\n",
    "   Step 3 Output → Step 4 Input\n",
    "\n",
    "🖼️ Key Visual Metaphors:\n",
    "- Interconnected Gears\n",
    "- Cascading Waterfall\n",
    "- Linked Network Nodes\n",
    "\n",
    "🌍 Focus Area: Marine Ecosystem Resilience\n"
   ]
  },
  {
   "cell_type": "markdown",
   "metadata": {},
   "source": [
    "\n",
    "For our subtasks above, we could create the following prompts:"
   ]
  },
  {
   "cell_type": "markdown",
   "metadata": {},
   "source": [
    "**Subtask 1 Prompt:** \"Summarize the key trends in global temperature changes over the past century.\""
   ]
  },
  {
   "cell_type": "markdown",
   "metadata": {},
   "source": [
    "**Subtask 2 Prompt:** \"Based on the trends identified, list the major scientific studies that discuss the causes of these changes.\""
   ]
  },
  {
   "cell_type": "markdown",
   "metadata": {},
   "source": [
    "**Subtask 3 Prompt:** \"Summarize the findings of the listed studies, focusing on the impact of climate change on marine ecosystems.\""
   ]
  },
  {
   "cell_type": "markdown",
   "metadata": {},
   "source": [
    "**Subtask 4 Prompt:** \"Propose three strategies to mitigate the impact of climate change on marine ecosystems based on the summarized findings.\""
   ]
  },
  {
   "cell_type": "code",
   "execution_count": 8,
   "metadata": {},
   "outputs": [
    {
     "name": "stdout",
     "output_type": "stream",
     "text": [
      "\n",
      "--- Task 1 Response ---\n",
      "Over the past century, several key trends in global temperature changes have been observed:\n",
      "\n",
      "1. **Warming Trend**: The Earth's average surface temperature has increased significantly, with an estimated rise of about 1.2 degrees Celsius (2.2 degrees Fahrenheit) since the late 19th century. This trend has accelerated since the 1970s.\n",
      "\n",
      "2. **Increasing Frequency of Record Temperatures**: There has been a marked increase in the frequency and intensity of heatwaves, with numerous records of high temperatures being set in recent years.\n",
      "\n",
      "3. **Ocean Temperature Rise**: The oceans have absorbed much of this heat, leading to rising sea surface temperatures, which have implications for marine ecosystems and weather patterns.\n",
      "\n",
      "4. **Regional Variations**: While the global average temperature has risen, the extent of warming is not uniform. Some regions, such as the Arctic, have experienced more pronounced warming (over 2 degrees Celsius) compared to the global average, leading to significant impacts like ice melt and changes in wildlife habitats.\n",
      "\n",
      "5. **Influence of Greenhouse Gases**: The increase in global temperatures is closely linked to rising levels of greenhouse gases, particularly carbon dioxide (CO2) and methane (CH4), due to human activities such as fossil fuel combustion, deforestation, and industrial processes.\n",
      "\n",
      "6. **Feedback Mechanisms**: The warming climate has led to various feedback mechanisms, such as reduced ice cover, which decreases the Earth's albedo (reflectivity) and further contributes to warming.\n",
      "\n",
      "7. **Long-term Projections**: Climate models project that if current trends continue, global temperatures could rise by an additional 1 to 4 degrees Celsius by the end of the century, depending on greenhouse gas emissions scenarios.\n",
      "\n",
      "8. **Impact on Climate Systems**: The rising temperatures have significant implications for weather patterns, precipitation, and extreme weather events, leading to increased risks of droughts, floods, and hurricanes.\n",
      "\n",
      "Overall, the trend indicates that immediate and sustained action is crucial to mitigate further warming and its associated impacts on the planet and human societies.\n",
      "\n",
      "--- Task 2 Response ---\n",
      "Here are some major scientific studies and reports that discuss the causes of global temperature changes and the associated trends:\n",
      "\n",
      "1. **Intergovernmental Panel on Climate Change (IPCC) Assessment Reports**:\n",
      "   - **AR5 (2014)**: The Fifth Assessment Report (AR5) extensively discusses human influence on climate. It provides comprehensive evaluations of climate change causes, impacts, and projections based on a wide array of studies.\n",
      "   - **AR6 (2021)**: The Sixth Assessment Report (AR6) further refines the understanding of greenhouse gas emissions and their impacts on the climate system, enhancing discussions of feedback mechanisms and regional variations.\n",
      "\n",
      "2. **National Climate Assessment (USGCRP)**:\n",
      "   - The National Climate Assessment reports to the U.S. Congress about the effects of climate change on various systems, discussing both the human factors and natural processes driving temperature changes in the U.S. and globally.\n",
      "\n",
      "3. **\"Climate Change Evidence and Causes\" by the National Academy of Sciences (2014)**:\n",
      "   - This publication outlines the evidence for climate change and discusses the causes, particularly the role of human-induced factors in temperature rise.\n",
      "\n",
      "4. **\"The Science of Climate Change: A Physical Science Perspective\" (2010) by the American Geophysical Union**:\n",
      "   - This report discusses the basic physical principles governing climate change, including the greenhouse gas effect and the role of aerosols.\n",
      "\n",
      "5. **\"Global Warming of 1.5°C\" Special Report (2018) by IPCC**:\n",
      "   - This special report discusses the implications of a 1.5°C increase, emphasizing the significant anthropogenic factors contributing to temperature changes.\n",
      "\n",
      "6. **\"Ocean Heat Content and Its Role in Climate Change\" (2015)** by the American Meteorological Society:\n",
      "   - This study emphasizes the importance of ocean heat content in understanding climate change and its links to atmospheric warming.\n",
      "\n",
      "7. **\"Climate Change: Evidence and Causes\" by the National Academy of Sciences (2019)**:\n",
      "   - This report reviews the evidence surrounding climate change and highlights human contributions to recent temperature increases.\n",
      "\n",
      "8. **Papers by James Hansen and colleagues**:\n",
      "   - Hansen’s research often focuses on climate sensitivity and the role of CO2 in historical climate changes. His work has helped to establish the connection between greenhouse gas emissions and climate warming.\n",
      "\n",
      "9. **\"Climate Change and the Health of our Planet\" (2021) by various climate and health institutions**:\n",
      "   - This report links climate change to health outcomes, while also detailing the causes of climate change, including human activities.\n",
      "\n",
      "10. **\"Feedbacks, Climate Sensitivity, and the Climate Stability Paradigm\" (2014)** by various researchers:\n",
      "   - This study delves into the feedback mechanisms like ice-albedo feedback and how they exacerbate warming trends.\n",
      "\n",
      "These studies represent a fraction of the extensive literature examining the causes of climate change, amplifying awareness and understanding of the human influence on global temperature changes over the past century.\n",
      "\n",
      "--- Task 3 Response ---\n",
      "The studies and reports listed provide a comprehensive understanding of how climate change is affecting marine ecosystems, highlighting various challenges and consequences stemming from rising global temperatures. Here’s a summary of key findings related to the impact on marine ecosystems:\n",
      "\n",
      "1. **IPCC Assessment Reports (AR5 and AR6)**:\n",
      "   - These reports indicate that rising temperatures lead to ocean warming, which contributes to changes in marine biodiversity, including shifts in species distributions and disruptions in food webs. Ocean acidification, a byproduct of increased CO2 absorption, is also emphasized as a significant threat to marine life, particularly for calcifying organisms such as corals and shellfish.\n",
      "\n",
      "2. **National Climate Assessment**:\n",
      "   - The assessment outlines the vulnerability of marine ecosystems to temperature changes. It examines the effects on fisheries, coral reefs, and coastal habitats, noting that altered marine environments can lead to reduced fish stocks and degraded habitats.\n",
      "\n",
      "3. **\"Climate Change Evidence and Causes\" by the National Academy of Sciences**:\n",
      "   - This publication highlights how human-induced climate change is causing marine species to migrate poleward and to deeper waters, altering ecosystem dynamics. It underscores the importance of understanding these shifts in managing marine resources effectively.\n",
      "\n",
      "4. **\"The Science of Climate Change\" (American Geophysical Union)**:\n",
      "   - The report discusses the fundamental physical processes, including how increasing global temperatures contribute to thermal expansion of seawater and loss of polar ice, impacting sea level rise and coastal ecosystems.\n",
      "\n",
      "5. **\"Global Warming of 1.5°C\" Special Report**:\n",
      "   - This special report identifies the acute threats to coral reefs and associated marine biodiversity from temperature increases. It emphasizes that limiting warming to 1.5°C is crucial for the survival of these ecosystems.\n",
      "\n",
      "6. **\"Ocean Heat Content and Its Role in Climate Change\"**:\n",
      "   - This study points out that the majority of global warming is being absorbed by the oceans, leading to increased ocean heat content. Such warming affects marine species’ reproduction and survival, and alters the structure and function of marine ecosystems.\n",
      "\n",
      "7. **\"Climate Change: Evidence and Causes\" (National Academy of Sciences)**:\n",
      "   - The report further reviews the impacts of climate change on marine ecosystems, including loss of biodiversity and changes in species distributions, emphasizing the connectivity between marine systems and human societal needs.\n",
      "\n",
      "8. **Papers by James Hansen and colleagues**:\n",
      "   - Hansen’s work suggests that higher atmospheric CO2 levels are linked to ocean warming and acidification, which together threaten marine organisms’ ability to grow and reproduce, particularly affecting reefs and shellfish.\n",
      "\n",
      "9. **\"Climate Change and the Health of our Planet\"**:\n",
      "   - This report discusses how climate change can exacerbate existing stresses on marine ecosystems, such as pollution and overfishing, while also highlighting the implications for human health due to reliance on marine resources.\n",
      "\n",
      "10. **\"Feedbacks, Climate Sensitivity, and the Climate Stability Paradigm\"**:\n",
      "    - The study notes the potential for feedback mechanisms, such as the loss of ice-covered regions, to further exacerbate warming and impact marine habitats by disrupting nutrient cycles and altering habitat availability.\n",
      "\n",
      "In summary, the reviewed studies collectively underscore the profound impact of climate change on marine ecosystems, characterized by rising ocean temperatures, acidification, habitat loss, shifting species distributions, and altered food webs. These changes threaten biodiversity, fisheries, and the services marine environments provide, necessitating immediate action to mitigate climate change and protect these vital ecosystems.\n",
      "\n",
      "--- Task 4 Response ---\n",
      "Based on the summarized findings from the various studies and reports regarding the impact of climate change on marine ecosystems, here are three strategies to mitigate these impacts:\n",
      "\n",
      "1. **Strengthening Marine Protected Areas (MPAs)**:\n",
      "   - **Establish and expand MPAs**: Create additional marine protected areas where fishing, development, and other disruptive activities are restricted to foster biodiversity recovery and resilience.\n",
      "   - **Integrate climate considerations**: Design MPAs with consideration of climate change projections, ensuring that they encompass areas that are likely to be refuges for species migrating due to changing temperatures and ocean conditions.\n",
      "   - **Implement dynamic management**: Utilize adaptive management practices where key indicators (e.g., species populations, habitat health) are regularly monitored and used to adjust protection measures and rules in response to changing environmental conditions.\n",
      "\n",
      "2. **Promoting Sustainable Fisheries and Aquaculture**:\n",
      "   - **Implement sustainable fishing practices**: Enforce regulations that limit overfishing and encourage the use of methods that minimize bycatch and habitat destruction, helping fisheries to remain viable as fish stocks adapt to climate shifts.\n",
      "   - **Support aquaculture innovations**: Invest in sustainable aquaculture methods that reduce reliance on wild stocks and can withstand climate impacts (e.g., breeding salt-tolerant strains of shellfish) to enhance food security and reduce pressure on wild fish populations.\n",
      "   - **Foster community involvement and stakeholder education**: Engage local communities in sustainable resource management and educate them about the impacts of climate change on marine resources to promote stewardship of marine ecosystems.\n",
      "\n",
      "3. **Reducing Ocean Pollution and Improving Coastal Resilience**:\n",
      "   - **Implement pollution reduction policies**: Enforce stricter regulations on land-based sources of pollution, such as agricultural runoff and plastic waste, which exacerbate the stressors on marine ecosystems and hinder their ability to cope with climate change.\n",
      "   - **Enhance coastal ecosystem restoration**: Prioritize restoration efforts for key coastal habitats, such as mangroves, salt marshes, and seagrasses, which serve as buffer zones against climate impacts, provide carbon sequestration, and support biodiversity.\n",
      "   - **Invest in community resilience initiatives**: Provide funding and technical assistance for coastal communities to build resilience against climate change impacts, including the development of green infrastructure that protects marine habitats while enhancing shoreline stability.\n",
      "\n",
      "Implementing these strategies can help mitigate climate change impacts on marine ecosystems, preserve biodiversity and fisheries, and enhance the resilience of both marine environments and human communities that rely on them.\n"
     ]
    }
   ],
   "source": [
    "from openai import OpenAI\n",
    "\n",
    "client = OpenAI()\n",
    "\n",
    "responses = []\n",
    "tasks = [\n",
    "    \"Summarize the key trends in global temperature changes over the past century.\",\n",
    "    \"Based on the trends identified, list the major scientific studies that discuss the causes of these changes.\",\n",
    "    \"Summarize the findings of the listed studies, focusing on the impact of climate change on marine ecosystems.\",\n",
    "    \"Propose three strategies to mitigate the impact of climate change on marine ecosystems based on the summarized findings.\"\n",
    "]\n",
    "\n",
    "# First task\n",
    "first_response = client.chat.completions.create(\n",
    "    model=\"gpt-4o-mini\",\n",
    "    messages=[\n",
    "        {\"role\": \"developer\", \"content\": \"You are a climate science expert.\"},\n",
    "        {\"role\": \"user\", \"content\": tasks[0]}\n",
    "    ]\n",
    ")\n",
    "responses.append(first_response.choices[0].message.content)\n",
    "\n",
    "# Subsequent tasks using previous response as context\n",
    "for i in range(1, len(tasks)):\n",
    "    response = client.chat.completions.create(\n",
    "        model=\"gpt-4o-mini\",\n",
    "        messages=[\n",
    "            {\"role\": \"developer\", \"content\": \"You are a climate science expert.\"},\n",
    "            {\"role\": \"user\", \"content\": f\"Previous analysis: {responses[i-1]}\"},\n",
    "            {\"role\": \"user\", \"content\": tasks[i]}\n",
    "        ]\n",
    "    )\n",
    "    responses.append(response.choices[0].message.content)\n",
    "\n",
    "# Print the responses to see the progression\n",
    "for i, response in enumerate(responses, 1):\n",
    "    print(f\"\\n--- Task {i} Response ---\")\n",
    "    print(response)"
   ]
  },
  {
   "cell_type": "markdown",
   "metadata": {},
   "source": [
    "## Beginner Exercise:\n",
    "\n",
    "**Task:** Create a prompt chain of 2 subtasks to plan a trip to Paris.\n",
    "\n",
    "**Subtask 1:**  Ask the LLM to list the main attractions in Paris.\n",
    "**Subtask 2:** Based on the list of attractions, ask the LLM to suggest a 3-day itinerary.\n",
    "\n",
    "**Hint:**  Think about how you would break down the task of planning a trip into smaller steps. Start with broad questions and then refine them based on the answers."
   ]
  },
  {
   "cell_type": "code",
   "execution_count": null,
   "metadata": {},
   "outputs": [],
   "source": [
    "# Solution"
   ]
  }
 ],
 "metadata": {
  "kernelspec": {
   "display_name": "genaienv",
   "language": "python",
   "name": "python3"
  },
  "language_info": {
   "codemirror_mode": {
    "name": "ipython",
    "version": 3
   },
   "file_extension": ".py",
   "mimetype": "text/x-python",
   "name": "python",
   "nbconvert_exporter": "python",
   "pygments_lexer": "ipython3",
   "version": "3.12.8"
  }
 },
 "nbformat": 4,
 "nbformat_minor": 4
}
