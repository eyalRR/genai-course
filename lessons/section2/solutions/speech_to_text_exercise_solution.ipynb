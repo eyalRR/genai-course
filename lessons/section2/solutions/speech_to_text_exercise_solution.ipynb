{
 "cells": [
  {
   "cell_type": "markdown",
   "metadata": {},
   "source": [
    "# Solution to Beginner Exercise:"
   ]
  },
  {
   "cell_type": "code",
   "execution_count": 5,
   "metadata": {},
   "outputs": [
    {
     "name": "stdout",
     "output_type": "stream",
     "text": [
      "Another night of unrest in the U.S. with protests in some 75 American cities after the death of a black man in police custody. The National Guard has been deployed in a number of states, curfews extended in several major cities as police struggle to contain the situation.\n"
     ]
    }
   ],
   "source": [
    "# Solution to Beginner Exercise:\n",
    "\n",
    "from openai import OpenAI\n",
    "\n",
    "client = OpenAI()\n",
    "\n",
    "audio_file= open(\"../audio/protest-news.wav\", \"rb\")\n",
    "\n",
    "transcription = client.audio.transcriptions.create(\n",
    "\n",
    "    model=\"whisper-1\", \n",
    "\n",
    "    file=audio_file\n",
    "\n",
    ")\n",
    "\n",
    "\n",
    "print(transcription.text)"
   ]
  }
 ],
 "metadata": {
  "kernelspec": {
   "display_name": "genaienv",
   "language": "python",
   "name": "python3"
  },
  "language_info": {
   "codemirror_mode": {
    "name": "ipython",
    "version": 3
   },
   "file_extension": ".py",
   "mimetype": "text/x-python",
   "name": "python",
   "nbconvert_exporter": "python",
   "pygments_lexer": "ipython3",
   "version": "3.12.8"
  }
 },
 "nbformat": 4,
 "nbformat_minor": 4
}
