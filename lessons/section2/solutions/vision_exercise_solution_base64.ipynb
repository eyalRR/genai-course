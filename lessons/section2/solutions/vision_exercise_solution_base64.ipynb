{
 "cells": [
  {
   "cell_type": "markdown",
   "metadata": {},
   "source": [
    "# Solution to Beginner Exercise (Analyzing Image from Base64 Encoding):"
   ]
  },
  {
   "cell_type": "code",
   "execution_count": 1,
   "metadata": {},
   "outputs": [
    {
     "name": "stdout",
     "output_type": "stream",
     "text": [
      "The image features a close-up of a cat and a dog. The cat has a light-colored fur with some stripes and is raising one paw. The dog appears to be a corgi, known for its short legs and distinctive ears. They are positioned closely together against a blurred background.\n"
     ]
    }
   ],
   "source": [
    "# Solution to Beginner Exercise (Analyzing Image from Base64 Encoding):\n",
    "\n",
    "import base64\n",
    "from openai import OpenAI\n",
    "\n",
    "client = OpenAI()\n",
    "\n",
    "# Function to encode the image\n",
    "def encode_image(image_path):\n",
    "\twith open(image_path, \"rb\") as image_file:\n",
    "\t\treturn base64.b64encode(image_file.read()).decode(\"utf-8\")\n",
    "\n",
    "# Path to your image - replace with your local image path\n",
    "image_path = \"../images/corgi_and_cat_paw.png\" # Replace with your image path\n",
    "\n",
    "# Getting the Base64 string\n",
    "base64_image = encode_image(image_path)\n",
    "\n",
    "response = client.chat.completions.create(\n",
    "\tmodel=\"gpt-4o-mini\",\n",
    "\tmessages=[\n",
    "\t\t{\n",
    "\t\t\t\"role\": \"user\",\n",
    "\t\t\t\"content\": [\n",
    "\t\t\t\t{\n",
    "\t\t\t\t\t\"type\": \"text\",\n",
    "\t\t\t\t\t\"text\": \"What is in this image?\",\n",
    "\t\t\t\t},\n",
    "\t\t\t\t{\n",
    "\t\t\t\t\t\"type\": \"image_url\",\n",
    "\t\t\t\t\t\"image_url\": {\"url\": f\"data:image/jpeg;base64,{base64_image}\"},\n",
    "\t\t\t\t},\n",
    "\t\t\t],\n",
    "\t\t}\n",
    "\t],\n",
    ")\n",
    "\n",
    "print(response.choices[0].message.content)"
   ]
  }
 ],
 "metadata": {
  "kernelspec": {
   "display_name": "genaienv",
   "language": "python",
   "name": "python3"
  },
  "language_info": {
   "codemirror_mode": {
    "name": "ipython",
    "version": 3
   },
   "file_extension": ".py",
   "mimetype": "text/x-python",
   "name": "python",
   "nbconvert_exporter": "python",
   "pygments_lexer": "ipython3",
   "version": "3.12.8"
  }
 },
 "nbformat": 4,
 "nbformat_minor": 4
}
