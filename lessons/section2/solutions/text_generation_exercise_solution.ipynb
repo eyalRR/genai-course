{
 "cells": [
  {
   "cell_type": "markdown",
   "metadata": {},
   "source": [
    "# Solution to Beginner Exercise:"
   ]
  },
  {
   "cell_type": "code",
   "execution_count": 2,
   "metadata": {},
   "outputs": [
    {
     "name": "stdout",
     "output_type": "stream",
     "text": [
      "On a bright and sunny Saturday morning, Max, a spirited golden retriever with a soft, wagging tail, awoke with excitement. Today was special; his owner, Lucy, had promised to take him to the park. The scent of adventure filled the air as he bounced around the house, his nails clicking on the wooden floor, eager for the day ahead.\n",
      "\n",
      "Finally, Lucy grabbed Max's red leash and they stepped outside. The world felt alive; the sun was shining, birds were chirping, and a gentle breeze rustled the trees. Max tugged at the leash, urging Lucy to walk faster. As they entered the park, a myriad of smells surrounded him—freshly cut grass, blooming flowers, and the faint scent of barbecue in the distance.\n",
      "\n",
      "Once they reached the open fields, Lucy unhooked the leash. Max bolted ahead, paws pounding the ground as he sprinted toward a group of children flying colorful kites. He leaped around them, barking happily, his golden fur gleaming in the sunlight. The children laughed, tossing him a ball to chase.\n",
      "\n",
      "With the ball in his mouth, Max dashed towards the nearby pond, where ducks paddled lazily across the water. Max loved ducks! He splashed at the water's edge, quacking back at them in his best imitation. Suddenly, one little drake waddled closer, and Max couldn't resist the urge to play. With a playful bark, he jumped into the water, causing waves to ripple outwards. The ducks quacked in surprise, flapping their wings and retreating a few feet. Max loved the coolness of the pond on this warm day, and he swam back and forth, enjoying the splashes and splatters.\n",
      "\n",
      "Just then, his attention was caught by a fluttering butterfly that danced in the air. It was bright yellow, darting and flitting from flower to flower. Max's instincts kicked in, and he started to chase it, bounding through the flowers, his nose sniffing the sweet nectar of blossoms along the way. The butterfly led him on a merry chase, zigzagging through the park, past the playground, and deeper into the flower garden.\n",
      "\n",
      "Lucy watched, laughing as Max frolicked through the blooms, finally stopping at a particularly vibrant patch of daisies. He plopped down, panting but happy, completely captivated by the world around him. As he rolled in the grass, soaking up the sun’s rays, he noticed a little boy sitting nearby, tears rolling down his cheeks. Concerned, Max trotted over, his tail wagging gently, sensing the boy’s sadness.\n",
      "\n",
      "The boy looked up, surprised by the friendly dog. Max nudged him with his wet nose and licked his hand, as if to say, “It’s okay, everything will be alright.” The boy’s face broke into a small smile as he pet Max’s soft fur. In that moment, it was as if Max had forgotten about the butterfly, and the joyful chase transformed into the fulfillment of a new purpose—bringing cheer to someone in need.\n",
      "\n",
      "After a while, Lucy called Max, and he returned, the little boy waving goodbye with a brighter expression. Max and Lucy continued their adventure, playing fetch, meeting new friends, and exploring every nook of the park. As the sun started to set, casting a golden glow across the landscape, Max lay beside Lucy, tired but content.\n",
      "\n",
      "On that splendid day, Max realized that adventure wasn’t just about running and chasing; it was also about spreading joy and making memories. With one last wag of his tail, he leaned against Lucy, grateful for a wonderful day in the park, already dreaming of the adventures tomorrow would bring.\n"
     ]
    }
   ],
   "source": [
    "# Solution to Beginner Exercise:\n",
    "\n",
    "from openai import OpenAI\n",
    "\n",
    "client = OpenAI()\n",
    "\n",
    "completion = client.chat.completions.create(\n",
    "    model=\"gpt-4o-mini\",\n",
    "    messages=[\n",
    "        {\"role\": \"system\", \"content\": \"You are a helpful assistant.\"},\n",
    "        {\n",
    "            \"role\": \"user\",\n",
    "            \"content\": \"Write a short story about a dog who goes on an adventure in the park.\",\n",
    "        }\n",
    "    ]\n",
    ")\n",
    "\n",
    "print(completion.choices[0].message.content)"
   ]
  }
 ],
 "metadata": {
  "kernelspec": {
   "display_name": "genaienv",
   "language": "python",
   "name": "python3"
  },
  "language_info": {
   "codemirror_mode": {
    "name": "ipython",
    "version": 3
   },
   "file_extension": ".py",
   "mimetype": "text/x-python",
   "name": "python",
   "nbconvert_exporter": "python",
   "pygments_lexer": "ipython3",
   "version": "3.12.8"
  }
 },
 "nbformat": 4,
 "nbformat_minor": 4
}
