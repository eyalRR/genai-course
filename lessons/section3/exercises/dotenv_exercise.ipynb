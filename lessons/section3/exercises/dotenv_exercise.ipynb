{
 "cells": [
  {
   "cell_type": "markdown",
   "metadata": {},
   "source": [
    "# dotenv File for Claude API - Exercise"
   ]
  },
  {
   "cell_type": "markdown",
   "metadata": {},
   "source": [
    "## Introduction to dotenv Files\n",
    "\n",
    "When working with APIs, especially cloud-based services like Claude, you'll often need to use API keys to authenticate your requests.  It's crucial to keep these API keys secret and not hardcode them directly into your scripts.  This is where `.dotenv` files come in.\n",
    "\n",
    "A `.dotenv` file is a plain text file that stores environment variables. Environment variables are key-value pairs that can be accessed by programs running on your system. By storing your API keys in a `.dotenv` file, you can keep them separate from your code and easily manage them.\n",
    "\n",
    "**Why use `.dotenv` files?**\n",
    "\n",
    "*   **Security:** Prevents accidental exposure of API keys in your code, especially when sharing or version controlling your projects.\n",
    "*   **Configuration Management:** Makes it easy to manage different configurations for development, testing, and production environments.\n",
    "*   **Best Practices:**  Following industry best practices for securing sensitive information.\n"
   ]
  },
  {
   "cell_type": "markdown",
   "metadata": {},
   "source": [
    "## Prerequisites\n",
    "\n",
    "Before we start, make sure you have the `python-dotenv` library installed. If you don't have it installed, you can install it using pip:\n",
    "\n",
    "```bash\n",
    "pip install python-dotenv\n",
    "```"
   ]
  },
  {
   "cell_type": "markdown",
   "metadata": {},
   "source": [
    "## Step 1: Create a `.env` file\n",
    "\n",
    "In the same directory as your Python script (or Jupyter Notebook), create a new file named `.env` (no filename extension).  \n",
    "\n",
    "Open the `.env` file and add your API key as an environment variable. For example, if you want to store your Claude API key, you can add a line like this:\n",
    "\n",
    "```\n",
    "CLAUDE_API_KEY=YOUR_ACTUAL_API_KEY\n",
    "```\n",
    "\n",
    "**Important:** Replace `YOUR_ACTUAL_API_KEY` with your actual Claude API key. For this exercise, you can use a dummy key for now, but remember to use your real key when working with the Claude API.\n",
    "\n",
    "```\n",
    "CLAUDE_API_KEY=YOUR_DUMMY_API_KEY_FOR_EXERCISE\n",
    "```\n",
    "\n",
    "Each line in the `.env` file represents an environment variable in the format `KEY=VALUE`. You can add multiple environment variables to this file, each on a new line."
   ]
  },
  {
   "cell_type": "markdown",
   "metadata": {},
   "source": [
    "## Step 2: Load environment variables in Python\n",
    "\n",
    "Now, let's write a Python script to load the environment variables from the `.env` file using the `python-dotenv` library."
   ]
  },
  {
   "cell_type": "code",
   "execution_count": null,
   "metadata": {},
   "outputs": [],
   "source": [
    "import os\n",
    "from dotenv import load_dotenv\n",
    "\n",
    "# Load environment variables from .env file\n",
    "load_dotenv()\n",
    "\n",
    "# Access the API key using os.getenv()\n",
    "claude_api_key = os.getenv(\"ANTHROPIC_API_KEY\")\n",
    "\n",
    "# Print the API key (for demonstration purposes only, in real applications, avoid printing sensitive information)\n",
    "print(f\"Claude API Key: {claude_api_key}\")\n",
    "\n",
    "# Verify that the API key is loaded (optional)\n",
    "if claude_api_key:\n",
    "    print(\"API key loaded successfully!\")\n",
    "else:\n",
    "    print(\"Failed to load API key. Make sure you have a .env file with CLAUDE_API_KEY defined.\")"
   ]
  },
  {
   "cell_type": "markdown",
   "metadata": {},
   "source": [
    "**Explanation:**\n",
    "\n",
    "1.  **`import os`:**  Imports the `os` module, which provides functions for interacting with the operating system, including accessing environment variables.\n",
    "2.  **`from dotenv import load_dotenv`:** Imports the `load_dotenv` function from the `python-dotenv` library.\n",
    "3.  **`load_dotenv()`:**  This function reads the `.env` file in the current directory and loads the variables defined in it into the environment.\n",
    "4.  **`claude_api_key = os.getenv(\"CLAUDE_API_KEY\")`:**  Retrieves the value of the `CLAUDE_API_KEY` environment variable using `os.getenv()`. If the variable is not found, it will return `None`.\n",
    "5.  **`print(f\"Claude API Key: {claude_api_key}\")`:** Prints the loaded API key to the console. **In real-world applications, avoid printing sensitive information like API keys.** This is just for demonstration purposes.\n",
    "6.  **Verification:** The `if/else` block checks if `claude_api_key` is not `None`, indicating whether the API key was loaded successfully."
   ]
  },
  {
   "cell_type": "markdown",
   "metadata": {},
   "source": [
    "## Exercise: Create your own `.env` file and load a variable\n",
    "\n",
    "1.  Create a new `.env` file in the same directory as this notebook.\n",
    "2.  Inside the `.env` file, define a variable named `MY_VARIABLE` and assign it a string value of your choice (e.g., `MY_VARIABLE=hello_dotenv`).\n",
    "3.  Modify the Python code in the cell below to load the `.env` file and retrieve the value of `MY_VARIABLE`.\n",
    "4.  Print the value of `MY_VARIABLE` to verify that it's loaded correctly."
   ]
  },
  {
   "cell_type": "code",
   "execution_count": null,
   "metadata": {},
   "outputs": [],
   "source": [
    "# Exercise code here\n",
    "# Load dotenv, retrieve MY_VARIABLE, and print it"
   ]
  },
  {
   "cell_type": "markdown",
   "metadata": {},
   "source": [
    "## Solution (for Exercise)"
   ]
  },
  {
   "cell_type": "code",
   "execution_count": null,
   "metadata": {},
   "outputs": [],
   "source": [
    "# Solution:"
   ]
  }
 ],
 "metadata": {
  "kernelspec": {
   "display_name": "genaienv",
   "language": "python",
   "name": "python3"
  },
  "language_info": {
   "codemirror_mode": {
    "name": "ipython",
    "version": 3
   },
   "file_extension": ".py",
   "mimetype": "text/x-python",
   "name": "python",
   "nbconvert_exporter": "python",
   "pygments_lexer": "ipython3",
   "version": "3.12.8"
  }
 },
 "nbformat": 4,
 "nbformat_minor": 4
}
