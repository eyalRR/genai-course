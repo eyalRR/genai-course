{
 "cells": [
  {
   "cell_type": "markdown",
   "metadata": {},
   "source": [
    "# Managing Prompts with Dictionaries - Exercise"
   ]
  },
  {
   "cell_type": "markdown",
   "metadata": {},
   "source": [
    "## Introduction to Prompt Management using Dictionaries\n",
    "\n",
    "As you work more with Claude API, you'll find yourself using various prompts for different tasks.  Managing these prompts efficiently becomes important for organization and reusability. Python dictionaries are a great way to store and manage your prompts.\n",
    "\n",
    "**Why use dictionaries for prompt management?**\n",
    "\n",
    "*   **Organization:** Dictionaries allow you to store prompts with descriptive keys, making it easy to find and use them.\n",
    "*   **Reusability:** You can easily reuse prompts stored in dictionaries across different parts of your code.\n",
    "*   **Maintainability:**  Centralizing prompts in dictionaries makes it easier to update and maintain them.\n"
   ]
  },
  {
   "cell_type": "markdown",
   "metadata": {},
   "source": [
    "## Step 1: Create a dictionary to store prompts\n",
    "\n",
    "Let's create a dictionary to store a few prompts related to different topics."
   ]
  },
  {
   "cell_type": "code",
   "execution_count": 1,
   "metadata": {},
   "outputs": [
    {
     "name": "stdout",
     "output_type": "stream",
     "text": [
      "Summarize the following article in three sentences: The quick brown rabbit jumps over the lazy frogs with no effort.\n"
     ]
    }
   ],
   "source": [
    "# Dictionary to store prompts\n",
    "prompt_templates = {\n",
    "    \"summarize_article\": \"Summarize the following article in three sentences: {article_text}\",\n",
    "    \"translate_to_french\": \"Translate the following English text to French: {english_text}\",\n",
    "    \"generate_story_idea\": \"Generate a creative story idea based on the following keywords: {keywords}\"\n",
    "}\n",
    "\n",
    "# Example usage of a prompt template\n",
    "summarize_prompt = prompt_templates[\"summarize_article\"].format(article_text=\"The quick brown rabbit jumps over the lazy frogs with no effort.\")\n",
    "print(summarize_prompt)"
   ]
  },
  {
   "cell_type": "markdown",
   "metadata": {},
   "source": [
    "**Explanation:**\n",
    "\n",
    "1.  **`prompt_templates = {...}`:**  A dictionary named `prompt_templates` is created. The keys are descriptive names for the prompts (e.g., `\"summarize_article\"`), and the values are the prompt strings themselves.\n",
    "2.  **Placeholders:** Notice the use of placeholders like `{article_text}`, `{english_text}`, and `{keywords}` in the prompt strings. These are placeholders that we can replace with actual values when we want to use the prompt.\n",
    "3.  **`prompt_templates[\"summarize_article\"].format(...)`:**  This line demonstrates how to use a prompt template from the dictionary. \n",
    "    *   `prompt_templates[\"summarize_article\"]` retrieves the prompt string associated with the key `\"summarize_article\"`.\n",
    "    *   `.format(article_text=\"...\")` uses the `.format()` method to replace the `{article_text}` placeholder with the provided article text. \n",
    "4.  **`print(summarize_prompt)`:** Prints the formatted prompt."
   ]
  },
  {
   "cell_type": "markdown",
   "metadata": {},
   "source": [
    "## Step 2: Create functions to generate prompts (Optional, but recommended for better organization)"
   ]
  },
  {
   "cell_type": "code",
   "execution_count": 2,
   "metadata": {},
   "outputs": [
    {
     "name": "stdout",
     "output_type": "stream",
     "text": [
      "Generate a creative story idea based on the following keywords: space travel, time paradox, artificial intelligence\n"
     ]
    }
   ],
   "source": [
    "# Prompt template dictionary (same as before)\n",
    "prompt_templates = {\n",
    "    \"summarize_article\": \"Summarize the following article in three sentences: {article_text}\",\n",
    "    \"translate_to_french\": \"Translate the following English text to French: {english_text}\",\n",
    "    \"generate_story_idea\": \"Generate a creative story idea based on the following keywords: {keywords}\"\n",
    "}\n",
    "\n",
    "def get_summarize_prompt(article_text):\n",
    "    return prompt_templates[\"summarize_article\"].format(article_text=article_text)\n",
    "\n",
    "def get_translate_prompt(english_text):\n",
    "    return prompt_templates[\"translate_to_french\"].format(english_text=english_text)\n",
    "\n",
    "def get_story_idea_prompt(keywords):\n",
    "    return prompt_templates[\"generate_story_idea\"].format(keywords=keywords)\n",
    "\n",
    "# Example usage of prompt functions\n",
    "story_prompt = get_story_idea_prompt(keywords=\"space travel, time paradox, artificial intelligence\")\n",
    "print(story_prompt)"
   ]
  },
  {
   "cell_type": "markdown",
   "metadata": {},
   "source": [
    "**Explanation:**\n",
    "\n",
    "1.  **Prompt Template Dictionary:** The `prompt_templates` dictionary remains the same.\n",
    "2.  **Prompt Generation Functions:**  We define functions like `get_summarize_prompt`, `get_translate_prompt`, and `get_story_idea_prompt`. Each function takes specific input parameters (e.g., `article_text`, `english_text`, `keywords`) and uses the corresponding prompt template from the dictionary to generate a formatted prompt.\n",
    "3.  **`get_story_idea_prompt(keywords=\"...\")`:**  This line shows how to use a prompt function. It calls `get_story_idea_prompt` with keywords to generate a story idea prompt.\n",
    "4.  **`print(story_prompt)`:** Prints the generated story idea prompt."
   ]
  },
  {
   "cell_type": "markdown",
   "metadata": {},
   "source": [
    "## Step 3: Integrate with Claude API (Example using summarize prompt)"
   ]
  },
  {
   "cell_type": "code",
   "execution_count": 1,
   "metadata": {},
   "outputs": [
    {
     "name": "stdout",
     "output_type": "stream",
     "text": [
      "Summary:\n",
      "\n",
      "In a surprising twist, a quick brown rabbit effortlessly jumps over lazy frogs. Frogs, known for their own jumping abilities, croaking sounds, protruding eyes, and preference for damp habitats, are outmatched by the rabbit. Rabbits, small mammals characterized by their long ears, soft fur, and strong hind legs, are well-equipped for hopping and can apparently surpass even the most agile amphibians.\n"
     ]
    }
   ],
   "source": [
    "import anthropic\n",
    "import os\n",
    "from dotenv import load_dotenv\n",
    "\n",
    "# Load environment variables and initialize Claude client (same as before)\n",
    "load_dotenv()\n",
    "api_key = os.getenv(\"CLAUDE_API_KEY\")\n",
    "client = anthropic.Anthropic(api_key=api_key)\n",
    "\n",
    "# Prompt template dictionary (same as before)\n",
    "prompt_templates = {\n",
    "    \"summarize_article\": \"Summarize the following article in three sentences: {article_text}\",\n",
    "    \"translate_to_french\": \"Translate the following English text to French: {english_text}\",\n",
    "    \"generate_story_idea\": \"Generate a creative story idea based on the following keywords: {keywords}\"\n",
    "}\n",
    "\n",
    "def get_summarize_prompt(article_text):\n",
    "    return prompt_templates[\"summarize_article\"].format(article_text=article_text)\n",
    "\n",
    "# Article text to summarize\n",
    "article = \"\"\"\n",
    "The quick brown rabbit jumps over the lazy frogs with no effort. \n",
    "Frogs are amphibians known for their jumping abilities, croaking sounds, protruding eyes, and habitat in damp areas.\n",
    "Rabbits are small mammals with long ears, soft fur, and strong hind legs for hopping.\n",
    "\"\"\"\n",
    "\n",
    "# Get summarize prompt\n",
    "summarize_prompt = get_summarize_prompt(article_text=article)\n",
    "\n",
    "# Send prompt to Claude and get response\n",
    "messages = [\n",
    "    {\"role\": \"user\", \"content\": summarize_prompt}\n",
    "]\n",
    "\n",
    "try:\n",
    "    response = client.messages.create(\n",
    "        model=\"claude-3-opus-20240229\", # Or another Claude model\n",
    "        max_tokens=100,\n",
    "        messages=messages\n",
    "    )\n",
    "    print(\"Summary:\\n\")\n",
    "    print(response.content[0].text)\n",
    "\n",
    "except anthropic.APIError as e:\n",
    "    print(f\"Error calling Claude API: {e}\")\n",
    "    print(\"Please ensure you have a valid API key and the Claude API is accessible.\")"
   ]
  },
  {
   "cell_type": "markdown",
   "metadata": {},
   "source": [
    "**Explanation:**\n",
    "\n",
    "1.  **API Key and Client Setup:**  The code starts by setting up the API key and Claude client, as in the previous exercises.\n",
    "2.  **Prompt Templates and Functions:**  It defines the `prompt_templates` dictionary and the `get_summarize_prompt` function from **Step 2**.\n",
    "3.  **Article Text:**  An example `article` text is defined.\n",
    "4.  **Generating Summarize Prompt:** `summarize_prompt = get_summarize_prompt(article_text=article)` uses the `get_summarize_prompt` function to create a prompt for summarizing the article.\n",
    "5.  **Sending Prompt to Claude:** The code then sends the `summarize_prompt` to Claude API using `client.messages.create(...)` and prints the summary response.\n",
    "6.  **Error Handling:** Includes error handling for API calls."
   ]
  },
  {
   "cell_type": "markdown",
   "metadata": {},
   "source": [
    "## Exercise:  Use a different prompt template and function\n",
    "\n",
    "1.  Choose a different prompt template from the `prompt_templates` dictionary (e.g., `\"translate_to_french\"` or `\"generate_story_idea\"`).\n",
    "2.  Modify the code in **Step 3** to use the chosen prompt template and its corresponding function (e.g., `get_translate_prompt` or `get_story_idea_prompt`).\n",
    "3.  Provide appropriate input text or keywords for the chosen prompt.\n",
    "4.  Run the modified code and observe Claude's response using the new prompt."
   ]
  },
  {
   "cell_type": "code",
   "execution_count": null,
   "metadata": {},
   "outputs": [],
   "source": [
    "# Exercise code here\n",
    "# Modify Step 3 to use a different prompt template and function"
   ]
  },
  {
   "cell_type": "markdown",
   "metadata": {},
   "source": [
    "## Solution (for Exercise - Example using \"translate_to_french\" prompt)"
   ]
  },
  {
   "cell_type": "code",
   "execution_count": null,
   "metadata": {},
   "outputs": [],
   "source": [
    "# Solution (Example using \"translate_to_french\" prompt):\n",
    "\n",
    "# ... (rest of the code from Step 3 remains the same until the prompt generation part) ...\n",
    "\n",
    "# English text to translate\n",
    "english_text = \"Hello, how are you?\"\n",
    "\n",
    "# Get translate prompt\n",
    "translate_prompt = get_translate_prompt(english_text=english_text)\n",
    "\n",
    "# Send prompt to Claude and get response (same as before) ...\n"
   ]
  }
 ],
 "metadata": {
  "kernelspec": {
   "display_name": "genaienv",
   "language": "python",
   "name": "python3"
  },
  "language_info": {
   "codemirror_mode": {
    "name": "ipython",
    "version": 3
   },
   "file_extension": ".py",
   "mimetype": "text/x-python",
   "name": "python",
   "nbconvert_exporter": "python",
   "pygments_lexer": "ipython3",
   "version": "3.12.8"
  }
 },
 "nbformat": 4,
 "nbformat_minor": 4
}
