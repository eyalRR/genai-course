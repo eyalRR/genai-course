{
 "cells": [
  {
   "cell_type": "markdown",
   "metadata": {},
   "source": [
    "# \"Uploading\" PDFs to Claude Via the API\n",
    "\n",
    "https://github.com/anthropics/anthropic-cookbook/blob/main/misc/pdf_upload_summarization.ipynb\n"
   ]
  },
  {
   "cell_type": "markdown",
   "metadata": {},
   "source": [
    "One really nice feature of Claude.ai is the ability to upload PDFs. Let's mock up that feature in a notebook, and then test it out by summarizing a long PDF.\n",
    "\n",
    "We'll start by installing the Anthropic client and create an instance of it we will use throughout the notebook."
   ]
  },
  {
   "cell_type": "code",
   "execution_count": 1,
   "metadata": {},
   "outputs": [],
   "source": [
    "import os\n",
    "from dotenv import load_dotenv\n",
    "\n",
    "# Load environment variables from .env file\n",
    "load_dotenv()\n",
    "\n",
    "# Access the API key using os.getenv()\n",
    "claude_api_key = os.getenv(\"ANTHROPIC_API_KEY\")"
   ]
  },
  {
   "cell_type": "code",
   "execution_count": 6,
   "metadata": {},
   "outputs": [],
   "source": [
    "from anthropic import Anthropic\n",
    "# While PDF support is in beta, you must pass in the correct beta header\n",
    "client = Anthropic(api_key=claude_api_key, default_headers={\n",
    "    \"anthropic-beta\": \"pdfs-2024-09-25\"\n",
    "  }\n",
    ")\n",
    "# For now, only claude-3-5-sonnet-20241022 supports PDFs\n",
    "MODEL_NAME = \"claude-3-5-sonnet-20241022\""
   ]
  },
  {
   "cell_type": "markdown",
   "metadata": {},
   "source": [
    "We already have a PDF available in the ../multimodal/documents directory. We'll convert the PDF file into base64 encoded bytes. This is the format required for the PDF document block in the Anthropic API. Note that this type of extraction works for both text and visual elements (like charts and graphs)."
   ]
  },
  {
   "cell_type": "code",
   "execution_count": 3,
   "metadata": {},
   "outputs": [],
   "source": [
    "import base64\n",
    "\n",
    "# Start by reading in the PDF and encoding it as base64\n",
    "file_name = \"../documents/constitutional-ai-paper.pdf\"\n",
    "with open(file_name, \"rb\") as pdf_file:\n",
    "  binary_data = pdf_file.read()\n",
    "  base64_encoded_data = base64.standard_b64encode(binary_data)\n",
    "  base64_string = base64_encoded_data.decode(\"utf-8\")"
   ]
  },
  {
   "cell_type": "markdown",
   "metadata": {},
   "source": [
    "With the paper downloaded and in memory, we can ask Claude to perform various fun tasks with it. We'll pass the document ot the model alongside a simple question."
   ]
  },
  {
   "cell_type": "code",
   "execution_count": 4,
   "metadata": {},
   "outputs": [],
   "source": [
    "prompt = \"\"\"\n",
    "Please do the following:\n",
    "1. Summarize the abstract at a kindergarten reading level. (In <kindergarten_abstract> tags.)\n",
    "2. Write the Methods section as a recipe from the Moosewood Cookbook. (In <moosewood_methods> tags.)\n",
    "3. Compose a short poem epistolizing the results in the style of Homer. (In <homer_results> tags.)\n",
    "\"\"\"\n",
    "messages = [\n",
    "    {\n",
    "        \"role\": 'user',\n",
    "        \"content\": [\n",
    "            {\"type\": \"document\", \"source\": {\"type\": \"base64\", \"media_type\": \"application/pdf\", \"data\": base64_string}},\n",
    "            {\"type\": \"text\", \"text\": prompt}\n",
    "        ]\n",
    "    }\n",
    "]"
   ]
  },
  {
   "cell_type": "code",
   "execution_count": 7,
   "metadata": {},
   "outputs": [
    {
     "name": "stdout",
     "output_type": "stream",
     "text": [
      "Let me tackle each of these creative reinterpretations:\n",
      "\n",
      "<kindergarten_abstract>\n",
      "Scientists are trying to teach computers to be nice and helpful! They want computers to help watch over other computers, like a good big sister or brother. Instead of having humans tell the computers exactly what to do, they give the computers some simple rules to follow. The computers learn to be nice by practicing and fixing their mistakes. In the end, they created a computer helper that is both nice and honest!\n",
      "</kindergarten_abstract>\n",
      "\n",
      "<moosewood_methods>\n",
      "Constitutional AI Stew\n",
      "(A nourishing recipe for training helpful AI systems)\n",
      "\n",
      "Ingredients:\n",
      "- 1 helpful AI model\n",
      "- A bundle of constitutional principles\n",
      "- Several cups of training data\n",
      "- A dash of supervised learning\n",
      "- A sprinkle of reinforcement learning\n",
      "\n",
      "Method:\n",
      "1. Begin by gently simmering your helpful AI model in a bath of training examples.\n",
      "2. In a separate bowl, whisk together your constitutional principles until well-blended.\n",
      "3. Gradually fold in the principles, allowing the AI to critique and revise its own responses.\n",
      "4. Let the mixture rest while generating self-improvements.\n",
      "5. Pour the revised responses into your supervised learning pan and bake until golden.\n",
      "6. For the final flourish, drizzle with reinforcement learning from AI feedback.\n",
      "7. Taste-test with human evaluators until the desired level of helpfulness and harmlessness is achieved.\n",
      "\n",
      "Serves: All of humanity\n",
      "Preparation time: Multiple training epochs\n",
      "</moosewood_methods>\n",
      "\n",
      "<homer_results>\n",
      "O Muse! Sing of the model's great ascent,\n",
      "From harmful depths to wisdom's lofty height.\n",
      "Through cycles of revision and intent,\n",
      "It learned to guide with truth and gentle might.\n",
      "The graph shows upward climb through training's test,\n",
      "As harmlessness and help in balance grew.\n",
      "Chain-of-thought reasoning proved the best,\n",
      "And evasiveness bid its last adieu.\n",
      "More skilled than models trained by human hand,\n",
      "This system learned from principles divine.\n",
      "Upon the pareto frontier does it stand,\n",
      "Where helpfulness and safety intertwine.\n",
      "So may this breakthrough herald future days,\n",
      "When AI serves in safe and honest ways.\n",
      "</homer_results>\n"
     ]
    }
   ],
   "source": [
    "def get_completion(client, messages):\n",
    "    return client.messages.create(\n",
    "        model=MODEL_NAME,\n",
    "        max_tokens=2048,\n",
    "        messages=messages\n",
    "    ).content[0].text\n",
    "    \n",
    "completion = get_completion(client, messages)\n",
    "print(completion)"
   ]
  }
 ],
 "metadata": {
  "kernelspec": {
   "display_name": "genaienv",
   "language": "python",
   "name": "python3"
  },
  "language_info": {
   "codemirror_mode": {
    "name": "ipython",
    "version": 3
   },
   "file_extension": ".py",
   "mimetype": "text/x-python",
   "name": "python",
   "nbconvert_exporter": "python",
   "pygments_lexer": "ipython3",
   "version": "3.12.8"
  }
 },
 "nbformat": 4,
 "nbformat_minor": 4
}
