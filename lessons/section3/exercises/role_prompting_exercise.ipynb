{
 "cells": [
  {
   "cell_type": "markdown",
   "metadata": {},
   "source": [
    "# Role Prompting with Claude API - Exercise"
   ]
  },
  {
   "cell_type": "markdown",
   "metadata": {},
   "source": [
    "## Introduction to Role Prompting\n",
    "\n",
    "Role prompting is a technique where you instruct Claude to adopt a specific persona or role before responding to your query. This can significantly influence Claude's response style, tone, and the kind of information it provides. By assigning a role, you can tailor Claude's behavior to better suit your needs.\n",
    "\n",
    "**How Role Prompting Works:**\n",
    "\n",
    "In role prompting, you start your prompt by explicitly telling Claude what role it should play. For example:\n",
    "\n",
    "*   \"You are a helpful and concise assistant.\"\n",
    "*   \"You are a seasoned software engineer.\"\n",
    "*   \"You are a creative story writer.\"\n",
    "*   \"You are a friendly tutor explaining concepts to a beginner.\"\n",
    "\n",
    "After defining the role, you then provide your actual query or request. Claude will then respond while embodying the specified role.\n",
    "\n",
    "**Example:**\n",
    "\n",
    "Let's see how role prompting can change Claude's response. First, without role prompting, ask a question like:\n",
    "\n",
    "\"Explain the theory of relativity.\"\n",
    "\n",
    "Claude might give a general explanation. Now, try role prompting:\n",
    "\n",
    "\"You are a physics professor explaining complex topics to undergraduate students. Explain the theory of relativity.\"\n",
    "\n",
    "In this case, Claude is likely to provide a more detailed, educational, and student-friendly explanation, as it's acting as a physics professor."
   ]
  },
  {
   "cell_type": "markdown",
   "metadata": {},
   "source": [
    "## Prerequisites\n",
    "\n",
    "Make sure you have the Claude API client library and `.env` setup as in the previous exercises."
   ]
  },
  {
   "cell_type": "markdown",
   "metadata": {},
   "source": [
    "## Step 1:  Prompt Claude without role prompting (baseline)"
   ]
  },
  {
   "cell_type": "code",
   "execution_count": null,
   "metadata": {},
   "outputs": [
    {
     "name": "stdout",
     "output_type": "stream",
     "text": [
      "Response without role prompting:\n",
      "\n",
      "Quantum entanglement is a phenomenon in quantum mechanics where two or more particles become interconnected in such a way that the quantum state of each particle cannot be described independently of the others, even when the particles are separated by a large distance. In other words, the particles are \"entangled\" and their properties are correlated regardless of the distance between them.\n",
      "\n",
      "Key points about quantum entanglement:\n",
      "\n",
      "1. Non-locality: Entangled particles can instantaneously influence each other, even when they are separated by vast distances. This seemingly defies the concept of locality in classical physics, which states that an object can only be influenced by its immediate surroundings.\n",
      "\n",
      "2. Superposition: Entangled particles exist in a superposition of states, meaning they can be in multiple states simultaneously until measured. The measurement of one particle instantly determines the state of the other entangled particle(s).\n",
      "\n",
      "3. Einstein-Podolsky-\n"
     ]
    }
   ],
   "source": [
    "import anthropic\n",
    "import os\n",
    "from dotenv import load_dotenv\n",
    "\n",
    "# Load environment variables and initialize Claude client\n",
    "load_dotenv()\n",
    "api_key = os.getenv(\"CLAUDE_API_KEY\")\n",
    "client = anthropic.Anthropic(api_key=api_key)\n",
    "\n",
    "# Prompt without role\n",
    "prompt_no_role = \"Explain the concept of quantum entanglement.\"\n",
    "\n",
    "# Send prompt to Claude\n",
    "messages = [\n",
    "    {\"role\": \"user\", \"content\": prompt_no_role}\n",
    "]\n",
    "\n",
    "try:\n",
    "    response = client.messages.create(\n",
    "        model=\"claude-3-7-sonnet-latest\", # Or another Claude model\n",
    "        max_tokens=200,\n",
    "        messages=messages\n",
    "    )\n",
    "    print(\"Response without role prompting:\\n\")\n",
    "    print(response.content[0].text)\n",
    "\n",
    "except anthropic.APIError as e:\n",
    "    print(f\"Error calling Claude API: {e}\")\n",
    "    print(\"Please ensure you have a valid API key and the Claude API is accessible.\")"
   ]
  },
  {
   "cell_type": "markdown",
   "metadata": {},
   "source": [
    "**Explanation:**\n",
    "\n",
    "This code sends a simple prompt, `\"Explain the concept of quantum entanglement.\"`, to Claude without any role prompting. We'll use this as a baseline to compare with role-prompted responses."
   ]
  },
  {
   "cell_type": "markdown",
   "metadata": {},
   "source": [
    "## Step 2: Prompt Claude with role prompting"
   ]
  },
  {
   "cell_type": "code",
   "execution_count": null,
   "metadata": {},
   "outputs": [
    {
     "name": "stdout",
     "output_type": "stream",
     "text": [
      "Response with role prompting (Physics Professor):\n",
      "\n",
      "Certainly! Let me explain the concept of quantum entanglement in a way that should be accessible for undergraduate students.\n",
      "\n",
      "Quantum entanglement is a peculiar phenomenon in quantum mechanics where two or more particles become linked in such a way that their quantum states are correlated, regardless of the distance between them. In other words, when particles are entangled, measuring the state of one particle instantly affects the state of the other particle(s), even if they are separated by vast distances.\n",
      "\n",
      "Here are some key points to understand about quantum entanglement:\n",
      "\n",
      "1. Entangled particles are not physically connected, but their quantum states are interdependent.\n",
      "\n",
      "2. The correlation between entangled particles is not limited by the speed of light. The interaction seems to occur instantaneously, which puzzled Albert Einstein, who famously called it \"spooky action at a distance.\"\n",
      "\n",
      "3. Entanglement arises from the superposition principle in\n"
     ]
    }
   ],
   "source": [
    "import anthropic\n",
    "import os\n",
    "from dotenv import load_dotenv\n",
    "\n",
    "# Load environment variables and initialize Claude client (same as before)\n",
    "load_dotenv()\n",
    "api_key = os.getenv(\"CLAUDE_API_KEY\")\n",
    "client = anthropic.Anthropic(api_key=api_key)\n",
    "\n",
    "# Prompt with role: Physics professor\n",
    "prompt_with_role = \"\"\"\n",
    "You are a physics professor explaining complex topics to undergraduate students.\n",
    "Explain the concept of quantum entanglement.\n",
    "\"\"\"\n",
    "\n",
    "# Send prompt to Claude\n",
    "messages = [\n",
    "    {\"role\": \"user\", \"content\": prompt_with_role}\n",
    "]\n",
    "\n",
    "try:\n",
    "    response = client.messages.create(\n",
    "        model=\"claude-3-7-sonnet-latest\", # Or another Claude model\n",
    "        max_tokens=200,\n",
    "        messages=messages\n",
    "    )\n",
    "    print(\"Response with role prompting (Physics Professor):\\n\")\n",
    "    print(response.content[0].text)\n",
    "\n",
    "except anthropic.APIError as e:\n",
    "    print(f\"Error calling Claude API: {e}\")\n",
    "    print(\"Please ensure you have a valid API key and the Claude API is accessible.\")"
   ]
  },
  {
   "cell_type": "markdown",
   "metadata": {},
   "source": [
    "**Explanation:**\n",
    "\n",
    "In this code, we define `prompt_with_role`. It starts by setting the role: `\"You are a physics professor explaining complex topics to undergraduate students.\"`. Then, it asks the same question as before: `\"Explain the concept of quantum entanglement.\"`.  We then send this role-prompted message to Claude and print the response.\n",
    "\n",
    "**Run both Step 1 and Step 2 and compare the responses.** You should observe that the response in Step 2 (with role prompting) is likely more detailed, pedagogical, and tailored for an undergraduate student audience compared to the response in Step 1 (without role prompting)."
   ]
  },
  {
   "cell_type": "markdown",
   "metadata": {},
   "source": [
    "## Exercise: Experiment with different roles\n",
    "\n",
    "1.  Modify the `prompt_with_role` in **Step 2** to use different roles. Try roles like:\n",
    "    *   \"You are a concise and technical expert.\"\n",
    "    *   \"You are a friendly and encouraging tutor.\"\n",
    "    *   \"You are a storyteller explaining science concepts through narratives.\"\n",
    "2.  Keep the query the same (`\"Explain the concept of quantum entanglement.\"`) and run the code with each different role.\n",
    "3.  Compare the responses for each role. Observe how the role influences Claude's tone, style, level of detail, and the overall explanation.\n",
    "4.  Think about scenarios where different roles might be useful in real-world applications. For example, when would you want Claude to act as a \"concise expert\" vs. a \"friendly tutor\"?"
   ]
  },
  {
   "cell_type": "code",
   "execution_count": null,
   "metadata": {},
   "outputs": [],
   "source": [
    "# Exercise code here\n",
    "# Modify prompt_with_role in Step 2 with different roles and compare responses"
   ]
  },
  {
   "cell_type": "markdown",
   "metadata": {},
   "source": [
    "## Solution (for Exercise - Example role: \"concise and technical expert\")"
   ]
  },
  {
   "cell_type": "code",
   "execution_count": null,
   "metadata": {},
   "outputs": [],
   "source": [
    "# Solution (Example role: \"concise and technical expert\"):\n",
    "\n",
    "# ... (rest of the code from Step 2 remains the same until the prompt definition) ...\n",
    "\n",
    "# Prompt with role: Concise technical expert\n",
    "prompt_with_role_expert = \"\"\"\n",
    "You are a concise and technical expert.\n",
    "Explain the concept of quantum entanglement.\n",
    "\"\"\"\n",
    "\n",
    "# ... (rest of the code in Step 2 would be modified to use 'prompt_with_role_expert' instead of 'prompt_with_role') ...\n"
   ]
  }
 ],
 "metadata": {
  "kernelspec": {
   "display_name": "genaienv",
   "language": "python",
   "name": "python3"
  },
  "language_info": {
   "codemirror_mode": {
    "name": "ipython",
    "version": 3
   },
   "file_extension": ".py",
   "mimetype": "text/x-python",
   "name": "python",
   "nbconvert_exporter": "python",
   "pygments_lexer": "ipython3",
   "version": "3.12.9"
  }
 },
 "nbformat": 4,
 "nbformat_minor": 4
}
