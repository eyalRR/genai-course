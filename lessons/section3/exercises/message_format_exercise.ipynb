{
 "cells": [
  {
   "cell_type": "markdown",
   "metadata": {},
   "source": [
    "# Message Format for Claude API - Exercise"
   ]
  },
  {
   "cell_type": "markdown",
   "metadata": {},
   "source": [
    "## Understanding the Message Format\n",
    "\n",
    "When interacting with Claude API, you communicate by sending messages. These messages need to follow a specific format to be correctly interpreted by Claude. The basic structure involves defining roles for the participants in the conversation: **user** and **assistant**.\n",
    "\n",
    "**Roles:**\n",
    "\n",
    "*   **user:** Represents the end-user or the one making the request to Claude. Your prompts and questions are sent as `user` messages.\n",
    "*   **assistant:** Represents Claude, the AI model. Claude's responses are in the form of `assistant` messages.\n",
    "\n",
    "**Message Structure:**\n",
    "\n",
    "Messages are typically sent as a list of dictionaries, where each dictionary represents a message and contains two key-value pairs:\n",
    "\n",
    "*   **`role`:**  The role of the message sender (`\"user\"` or `\"assistant\"`).\n",
    "*   **`content`:** The actual text content of the message (your prompt or Claude's response).\n",
    "\n",
    "**Example:**\n",
    "\n",
    "Let's say you want to ask Claude: \"What is the capital of France?\"\n",
    "\n",
    "The message would be structured like this:\n",
    "\n",
    "```python\n",
    "messages = [\n",
    "    {\"role\": \"user\", \"content\": \"What is the capital of France?\"}\n",
    "]\n",
    "```\n",
    "\n",
    "When Claude responds, it will add an `assistant` message to the list:\n",
    "\n",
    "```python\n",
    "messages = [\n",
    "    {\"role\": \"user\", \"content\": \"What is the capital of France?\"},\n",
    "    {\"role\": \"assistant\", \"content\": \"The capital of France is Paris.\"}\n",
    "]\n",
    "```\n",
    "\n",
    "For multi-turn conversations, you simply append new messages to the list, maintaining the conversation history."
   ]
  },
  {
   "cell_type": "markdown",
   "metadata": {},
   "source": [
    "## Prerequisites\n",
    "\n",
    "Make sure you have the Claude API client library installed. If not, install it using pip:\n",
    "\n",
    "```bash\n",
    "pip install anthropic\n",
    "```\n",
    "\n",
    "You'll also need to set up your Claude API key as an environment variable. You can follow the instructions from the previous exercise (`dotenv_exercise.ipynb`) to set up your `.env` file and load the API key."
   ]
  },
  {
   "cell_type": "markdown",
   "metadata": {},
   "source": [
    "## Step 1: Import necessary libraries and load API key"
   ]
  },
  {
   "cell_type": "code",
   "execution_count": 1,
   "metadata": {},
   "outputs": [],
   "source": [
    "import anthropic\n",
    "import os\n",
    "from dotenv import load_dotenv\n",
    "\n",
    "# Load environment variables\n",
    "load_dotenv()\n",
    "api_key = os.getenv(\"CLAUDE_API_KEY\")\n",
    "\n",
    "# Initialize Claude client\n",
    "client = anthropic.Anthropic(api_key=api_key)"
   ]
  },
  {
   "cell_type": "markdown",
   "metadata": {},
   "source": [
    "## Step 2: Create a message with user role"
   ]
  },
  {
   "cell_type": "code",
   "execution_count": 2,
   "metadata": {},
   "outputs": [],
   "source": [
    "# Define the message\n",
    "messages = [\n",
    "    {\"role\": \"user\", \"content\": \"Explain the concept of message format in Claude API for beginners.\"}\n",
    "]"
   ]
  },
  {
   "cell_type": "markdown",
   "metadata": {},
   "source": [
    "## Step 3: Send the message to Claude and get the response"
   ]
  },
  {
   "cell_type": "code",
   "execution_count": 3,
   "metadata": {},
   "outputs": [
    {
     "name": "stdout",
     "output_type": "stream",
     "text": [
      "Certainly! Let's break down the concept of message format in the Claude API for beginners.\n",
      "\n",
      "When you interact with the Claude API, you send requests to the API endpoint in a specific format called the message format. The message format defines the structure and content of the messages you exchange with the API.\n",
      "\n",
      "In the Claude API, messages are represented as JSON objects. JSON (JavaScript Object Notation) is a lightweight data interchange format that is easy for humans to read and write and easy for machines to parse and generate.\n",
      "\n",
      "A typical message in the Claude API consists of the following key components:\n",
      "\n",
      "1. `role`: This field specifies the role of the message sender. It can be either \"system\", \"user\", or \"assistant\". The \"system\" role is used for messages that provide context or instructions to the assistant. The \"user\" role represents messages sent by the user interacting with the assistant. The \"assistant\" role represents messages sent by the AI assistant itself\n"
     ]
    }
   ],
   "source": [
    "try:\n",
    "    response = client.messages.create(\n",
    "        model=\"claude-3-opus-20240229\", # Or another Claude model\n",
    "        max_tokens=200,\n",
    "        messages=messages\n",
    "    )\n",
    "    print(response.content[0].text)\n",
    "\n",
    "except anthropic.APIError as e:\n",
    "    print(f\"Error calling Claude API: {e}\")\n",
    "    print(\"Please ensure you have a valid API key and the Claude API is accessible.\")"
   ]
  },
  {
   "cell_type": "markdown",
   "metadata": {},
   "source": [
    "**Explanation:**\n",
    "\n",
    "1.  **`import anthropic`:** Imports the Anthropic Claude API client library.\n",
    "2.  **API Key Setup:**  Loads the API key from the `.env` file and initializes the Claude client as shown in the previous exercise.\n",
    "3.  **Message Definition:** Creates a list named `messages` containing a single dictionary. This dictionary defines a message with the role `\"user\"` and the content: \"Explain the concept of message format in Claude API for beginners.\"\n",
    "4.  **Sending Message to Claude:**\n",
    "    *   `client.messages.create(...)` sends the message to the Claude API.\n",
    "    *   `model=\"claude-3-opus-20240229\"` specifies the Claude model to use. You can choose other models like `claude-2.1` or `claude-3-haiku-20240307`.\n",
    "    *   `max_tokens=200` limits the response length to 200 tokens.\n",
    "    *   `messages=messages` passes the defined message list to the API.\n",
    "5.  **Printing Response:** `print(response.content[0].text)` extracts and prints the text content of Claude's response.\n",
    "6.  **Error Handling:** The `try...except` block handles potential `anthropic.APIError` exceptions, which might occur due to invalid API keys, network issues, or API errors. It prints an error message to guide the user in troubleshooting."
   ]
  },
  {
   "cell_type": "markdown",
   "metadata": {},
   "source": [
    "## Exercise:  Ask Claude about a different topic using the message format\n",
    "\n",
    "1.  Modify the `messages` list in **Step 2** to ask Claude a different question. For example, you could ask: \"What are the different Claude models available?\"\n",
    "2.  Run the code in **Step 3** to send the new message and see Claude's response.\n",
    "3.  Experiment with different questions and observe how Claude responds. Try asking follow-up questions to start a conversation."
   ]
  },
  {
   "cell_type": "code",
   "execution_count": null,
   "metadata": {},
   "outputs": [],
   "source": [
    "# Exercise code here\n",
    "# Modify the messages list with a new question and run Step 3"
   ]
  },
  {
   "cell_type": "markdown",
   "metadata": {},
   "source": [
    "## Solution (for Exercise)"
   ]
  },
  {
   "cell_type": "code",
   "execution_count": null,
   "metadata": {},
   "outputs": [],
   "source": [
    "# Solution:\n",
    "# Step 2 (Modified): Ask about Claude models\n",
    "messages = [\n",
    "    {\"role\": \"user\", \"content\": \"What are the different Claude models available?\"}\n",
    "]\n",
    "\n",
    "# Step 3: (No changes needed, just run the same code as before)"
   ]
  }
 ],
 "metadata": {
  "kernelspec": {
   "display_name": "genaienv",
   "language": "python",
   "name": "python3"
  },
  "language_info": {
   "codemirror_mode": {
    "name": "ipython",
    "version": 3
   },
   "file_extension": ".py",
   "mimetype": "text/x-python",
   "name": "python",
   "nbconvert_exporter": "python",
   "pygments_lexer": "ipython3",
   "version": "3.12.8"
  }
 },
 "nbformat": 4,
 "nbformat_minor": 4
}
