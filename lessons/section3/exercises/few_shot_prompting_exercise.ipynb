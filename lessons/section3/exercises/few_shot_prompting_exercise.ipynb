{
 "cells": [
  {
   "cell_type": "markdown",
   "metadata": {},
   "source": [
    "# Few-shot Prompting with Claude API - Exercise"
   ]
  },
  {
   "cell_type": "markdown",
   "metadata": {},
   "source": [
    "## Introduction to Few-shot Prompting\n",
    "\n",
    "Few-shot prompting is a powerful technique to guide Claude to generate the desired output by providing a few examples in the prompt itself. Instead of just telling Claude what to do, you show it *how* to do it with examples. This is especially useful when you want Claude to follow a specific style, format, or reasoning process.\n",
    "\n",
    "**How Few-shot Prompting Works:**\n",
    "\n",
    "In a few-shot prompt, you provide Claude with:\n",
    "\n",
    "1.  **Examples:**  One or more input-output pairs demonstrating the desired behavior.\n",
    "2.  **Query:** Your actual input for which you want Claude to generate an output, following the pattern shown in the examples.\n",
    "\n",
    "Claude learns from the examples and applies the learned pattern to generate a response to your query.\n",
    "\n",
    "**Example:**\n",
    "\n",
    "Let's say you want Claude to act as a \"rhyming poet\".  You can use few-shot prompting like this:\n",
    "\n",
    "```\n",
    "User:\n",
    "You are a rhyming poet.  \n",
    "\n",
    "Here are some examples of your rhyming:\n",
    "\n",
    "Input: The cat sat on the mat\n",
    "Rhyming Poem: There once was a cat, quite fat, Who loved to just sit on a mat.\n",
    "\n",
    "Input: The dog chased the frog\n",
    "Rhyming Poem: A speedy young dog, in a jog, Once chased a green frog, in a bog.\n",
    "\n",
    "Now, write a rhyming poem for the following input:\n",
    "\n",
    "Input: The bird flew in the sky\n",
    "Rhyming Poem:\n",
    "```\n",
    "\n",
    "In this prompt, we provide two examples of \"Input\" and the corresponding \"Rhyming Poem\". Then, we give a new \"Input\" and ask Claude to complete the \"Rhyming Poem\". Claude will understand the pattern from the examples and generate a rhyming poem for the new input."
   ]
  },
  {
   "cell_type": "markdown",
   "metadata": {},
   "source": [
    "## Prerequisites\n",
    "\n",
    "Make sure you have the Claude API client library and `.env` setup as in the previous exercises."
   ]
  },
  {
   "cell_type": "markdown",
   "metadata": {},
   "source": [
    "## Step 1: Define the few-shot prompt with examples"
   ]
  },
  {
   "cell_type": "code",
   "execution_count": null,
   "metadata": {},
   "outputs": [],
   "source": [
    "# Few-shot prompt for rhyming poet\n",
    "few_shot_prompt = \"\"\"\n",
    "You are a rhyming poet.  \n",
    "\n",
    "Here are some examples of your rhyming:\n",
    "\n",
    "Input: The cat sat on the mat\n",
    "Rhyming Poem: There once was a cat, quite fat, Who loved to just sit on a mat.\n",
    "\n",
    "Input: The dog chased the frog\n",
    "Rhyming Poem: A speedy young dog, in a jog, Once chased a green frog, in a bog.\n",
    "\n",
    "Now, write a rhyming poem for the following input:\n",
    "\n",
    "Input: The bird flew in the sky\n",
    "Rhyming Poem:\n",
    "\"\"\""
   ]
  },
  {
   "cell_type": "markdown",
   "metadata": {},
   "source": [
    "**Explanation:**\n",
    "\n",
    "The `few_shot_prompt` string contains the complete prompt, including:\n",
    "\n",
    "*   **Role Definition:** \"You are a rhyming poet.\"\n",
    "*   **Examples:** Two examples of \"Input\" and \"Rhyming Poem\" pairs.\n",
    "*   **Query:**  A new \"Input\" (\"The bird flew in the sky\") and an incomplete \"Rhyming Poem:\" to prompt Claude to complete it."
   ]
  },
  {
   "cell_type": "markdown",
   "metadata": {},
   "source": [
    "## Step 2: Send the few-shot prompt to Claude"
   ]
  },
  {
   "cell_type": "code",
   "execution_count": null,
   "metadata": {},
   "outputs": [
    {
     "name": "stdout",
     "output_type": "stream",
     "text": [
      "A tiny blue bird, quite spry,\n",
      "Spread its wings to fly high in the sky.\n",
      "It soared through the air,\n",
      "Without any care,\n",
      "Graceful and free, a sight for the eye.\n"
     ]
    }
   ],
   "source": [
    "import anthropic\n",
    "import os\n",
    "from dotenv import load_dotenv\n",
    "\n",
    "# Load environment variables and initialize Claude client\n",
    "load_dotenv()\n",
    "api_key = os.getenv(\"CLAUDE_API_KEY\")\n",
    "client = anthropic.Anthropic(api_key=api_key)\n",
    "\n",
    "# Few-shot prompt (from Step 1)\n",
    "few_shot_prompt = \"\"\"\n",
    "You are a rhyming poet.  \n",
    "\n",
    "Here are some examples of your rhyming:\n",
    "\n",
    "Input: The cat sat on the mat\n",
    "Rhyming Poem: There once was a cat, quite fat, Who loved to just sit on a mat.\n",
    "\n",
    "Input: The dog chased the frog\n",
    "Rhyming Poem: A speedy young dog, in a jog, Once chased a green frog, in a bog.\n",
    "\n",
    "Now, write a rhyming poem for the following input based on the examples above:\n",
    "\n",
    "Input: The bird flew in the sky\n",
    "Rhyming Poem:\n",
    "\"\"\"\n",
    "\n",
    "# Send the few-shot prompt to Claude\n",
    "messages = [\n",
    "    {\"role\": \"user\", \"content\": few_shot_prompt}\n",
    "]\n",
    "\n",
    "try:\n",
    "    response = client.messages.create(\n",
    "        model=\"claude-3-7-sonnet-latest\", # Or another Claude model\n",
    "        max_tokens=50,\n",
    "        messages=messages\n",
    "    )\n",
    "    print(response.content[0].text)\n",
    "\n",
    "except anthropic.APIError as e:\n",
    "    print(f\"Error calling Claude API: {e}\")\n",
    "    print(\"Please ensure you have a valid API key and the Claude API is accessible.\")"
   ]
  },
  {
   "cell_type": "markdown",
   "metadata": {},
   "source": [
    "**Explanation:**\n",
    "\n",
    "1.  **API Key and Client Setup:**  Standard setup for Claude API client.\n",
    "2.  **Few-shot Prompt:**  The `few_shot_prompt` defined in **Step 1** is used.\n",
    "3.  **Sending Prompt to Claude:** The `few_shot_prompt` is sent as the `content` of a `user` message to Claude API.\n",
    "4.  **Printing Response:**  The code prints Claude's generated rhyming poem."
   ]
  },
  {
   "cell_type": "markdown",
   "metadata": {},
   "source": [
    "## Exercise:  Create a few-shot prompt for a different task\n",
    "\n",
    "1.  Think of a different task where few-shot prompting could be useful (e.g.,  code generation, translation with specific style,  writing in a particular tone).\n",
    "2.  Create a new few-shot prompt similar to the \"rhyming poet\" example. Include at least two examples demonstrating the desired behavior for your chosen task.\n",
    "3.  Modify the code in **Step 2** to use your new few-shot prompt.\n",
    "4.  Run the code and observe Claude's response.  Experiment with different examples and queries to refine your few-shot prompt."
   ]
  },
  {
   "cell_type": "code",
   "execution_count": null,
   "metadata": {},
   "outputs": [],
   "source": [
    "# Exercise code here\n",
    "# Define a new few-shot prompt for a different task and run Step 2"
   ]
  },
  {
   "cell_type": "markdown",
   "metadata": {},
   "source": [
    "## Solution (for Exercise - Example:  Few-shot prompt for \"code translator\" from Python to JavaScript)"
   ]
  },
  {
   "cell_type": "code",
   "execution_count": null,
   "metadata": {},
   "outputs": [],
   "source": [
    "# Solution:"
   ]
  }
 ],
 "metadata": {
  "kernelspec": {
   "display_name": "genaienv",
   "language": "python",
   "name": "python3"
  },
  "language_info": {
   "codemirror_mode": {
    "name": "ipython",
    "version": 3
   },
   "file_extension": ".py",
   "mimetype": "text/x-python",
   "name": "python",
   "nbconvert_exporter": "python",
   "pygments_lexer": "ipython3",
   "version": "3.12.9"
  }
 },
 "nbformat": 4,
 "nbformat_minor": 4
}
