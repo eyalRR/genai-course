{
 "cells": [
  {
   "cell_type": "markdown",
   "metadata": {},
   "source": [
    "# Solution: Managing Prompts with Dictionaries - Exercise"
   ]
  },
  {
   "cell_type": "markdown",
   "metadata": {},
   "source": [
    "## Exercise:  Use a different prompt template and function\n",
    "\n",
    "1.  Choose a different prompt template from the `prompt_templates` dictionary (e.g., `\"translate_to_french\"` or `\"generate_story_idea\"`).\n",
    "2.  Modify the code in **Step 3** to use the chosen prompt template and its corresponding function (e.g., `get_translate_prompt` or `get_story_idea_prompt`).\n",
    "3.  Provide appropriate input text or keywords for the chosen prompt.\n",
    "4.  Run the modified code and observe Claude's response using the new prompt."
   ]
  },
  {
   "cell_type": "code",
   "execution_count": null,
   "metadata": {},
   "outputs": [],
   "source": [
    "# Solution (Example using \"translate_to_french\" prompt):\n",
    "\n",
    "import anthropic\n",
    "import os\n",
    "from dotenv import load_dotenv\n",
    "\n",
    "# Load environment variables and initialize Claude client\n",
    "load_dotenv()\n",
    "api_key = os.getenv(\"CLAUDE_API_KEY\")\n",
    "client = anthropic.Anthropic(api_key=api_key)\n",
    "\n",
    "# Prompt template dictionary (same as before)\n",
    "prompt_templates = {\n",
    "    \"summarize_article\": \"Summarize the following article in three sentences: {article_text}\",\n",
    "    \"translate_to_french\": \"Translate the following English text to French: {english_text}\",\n",
    "    \"generate_story_idea\": \"Generate a creative story idea based on the following keywords: {keywords}\"\n",
    "}\n",
    "\n",
    "def get_translate_prompt(english_text):\n",
    "    return prompt_templates[\"translate_to_french\"].format(english_text=english_text)\n",
    "\n",
    "# English text to translate\n",
    "english_text = \"Hello, how are you?\"\n",
    "\n",
    "# Get translate prompt\n",
    "translate_prompt = get_translate_prompt(english_text=english_text)\n",
    "\n",
    "# Send prompt to Claude and get response\n",
    "messages = [\n",
    "    {\"role\": \"user\", \"content\": translate_prompt}\n",
    "]\n",
    "\n",
    "try:\n",
    "    response = client.messages.create(\n",
    "        model=\"claude-3-opus-20240229\", # Or another Claude model\n",
    "        max_tokens=100,\n",
    "        messages=messages\n",
    "    )\n",
    "    print(\"Translation to French:\\n\")\n",
    "    print(response.content[0].text)\n",
    "\n",
    "except anthropic.APIError as e:\n",
    "    print(f\"Error calling Claude API: {e}\")\n",
    "    print(\"Please ensure you have a valid API key and the Claude API is accessible.\")"
   ]
  }
 ],
 "metadata": {
  "kernelspec": {
   "display_name": "Python 3",
   "language": "python",
   "name": "python3"
  },
  "language_info": {
   "codemirror_mode": {
    "name": "ipython",
    "version": 3
   },
   "file_extension": ".py",
   "mimetype": "text/x-python",
   "name": "python",
   "nbconvert_exporter": "python",
   "pygments_lexer": "ipython3",
   "version": "3.8.5"
  }
 },
 "nbformat": 4,
 "nbformat_minor": 4
}