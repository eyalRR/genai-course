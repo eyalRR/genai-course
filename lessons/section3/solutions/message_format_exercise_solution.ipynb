{
 "cells": [
  {
   "cell_type": "markdown",
   "metadata": {},
   "source": [
    "# Solution: Message Format for Claude API - Exercise"
   ]
  },
  {
   "cell_type": "markdown",
   "metadata": {},
   "source": [
    "## Exercise:  Ask Claude about a different topic using the message format\n",
    "\n",
    "1.  Modify the `messages` list in **Step 2** to ask Claude a different question. For example, you could ask: \"What are the different Claude models available?\"\n",
    "2.  Run the code in **Step 3** to send the new message and see Claude's response.\n",
    "3.  Experiment with different questions and observe how Claude responds. Try asking follow-up questions to start a conversation."
   ]
  },
  {
   "cell_type": "code",
   "execution_count": null,
   "metadata": {},
   "outputs": [],
   "source": [
    "# Solution:\n",
    "# Step 2 (Modified): Ask about Claude models\n",
    "messages = [\n",
    "    {\"role\": \"user\", \"content\": \"What are the different Claude models available?\"}\n",
    "]\n",
    "\n",
    "# Step 3: (No changes needed, just run the same code as before)\n",
    "import anthropic\n",
    "import os\n",
    "from dotenv import load_dotenv\n",
    "\n",
    "# Load environment variables\n",
    "load_dotenv()\n",
    "api_key = os.getenv(\"CLAUDE_API_KEY\")\n",
    "\n",
    "# Initialize Claude client\n",
    "client = anthropic.Anthropic(api_key=api_key)\n",
    "\n",
    "try:\n",
    "    response = client.messages.create(\n",
    "        model=\"claude-3-opus-20240229\", # Or another Claude model\n",
    "        max_tokens=200,\n",
    "        messages=messages\n",
    "    )\n",
    "    print(response.content[0].text)\n",
    "\n",
    "except anthropic.APIError as e:\n",
    "    print(f\"Error calling Claude API: {e}\")\n",
    "    print(\"Please ensure you have a valid API key and the Claude API is accessible.\")"
   ]
  }
 ],
 "metadata": {
  "kernelspec": {
   "display_name": "Python 3",
   "language": "python",
   "name": "python3"
  },
  "language_info": {
   "codemirror_mode": {
    "name": "ipython",
    "version": 3
   },
   "file_extension": ".py",
   "mimetype": "text/x-python",
   "name": "python",
   "nbconvert_exporter": "python",
   "pygments_lexer": "ipython3",
   "version": "3.8.5"
  }
 },
 "nbformat": 4,
 "nbformat_minor": 4
}