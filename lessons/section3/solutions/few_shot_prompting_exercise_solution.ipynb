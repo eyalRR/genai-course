{
 "cells": [
  {
   "cell_type": "markdown",
   "metadata": {},
   "source": [
    "# Solution: Few-shot Prompting with Claude API - Exercise"
   ]
  },
  {
   "cell_type": "markdown",
   "metadata": {},
   "source": [
    "## Exercise:  Create a few-shot prompt for a different task\n",
    "\n",
    "1.  Think of a different task where few-shot prompting could be useful (e.g.,  code generation, translation with specific style,  writing in a particular tone).\n",
    "2.  Create a new few-shot prompt similar to the \"rhyming poet\" example. Include at least two examples demonstrating the desired behavior for your chosen task.\n",
    "3.  Modify the code in **Step 2** to use your new few-shot prompt.\n",
    "4.  Run the code and observe Claude's response.  Experiment with different examples and queries to refine your few-shot prompt."
   ]
  },
  {
   "cell_type": "code",
   "execution_count": null,
   "metadata": {},
   "outputs": [],
   "source": [
    "# Solution (Example: Few-shot prompt for \"code translator\" from Python to JavaScript):\n",
    "\n",
    "import anthropic\n",
    "import os\n",
    "from dotenv import load_dotenv\n",
    "\n",
    "# Load environment variables and initialize Claude client\n",
    "load_dotenv()\n",
    "api_key = os.getenv(\"CLAUDE_API_KEY\")\n",
    "client = anthropic.Anthropic(api_key=api_key)\n",
    "\n",
    "# New few-shot prompt for code translation\n",
    "few_shot_prompt_code_translator = \"\"\"\n",
    "You are a code translator. You translate Python code to JavaScript code.\n",
    "\n",
    "Here are some examples of Python to JavaScript code translation:\n",
    "\n",
    "Python Input: \ndef greet(name):\n    print(f\"Hello, {name}!\")\n\n",
    "JavaScript Output: \nfunction greet(name) {\n  console.log(`Hello, ${name}!`);\n}\n\n",
    "\n",
    "Python Input: \nfor i in range(5):\n    print(i)\n\n",
    "JavaScript Output: \nfor (let i = 0; i < 5; i++) {\n  console.log(i);\n}\n\n",
    "\n",
    "Now, translate the following Python code to JavaScript:\n",
    "\n",
    "Python Input:\n\ndef add(a, b):\n    return a + b\n\n",
    "JavaScript Output:\n",
    "\"\"\"\n",
    "\n",
    "# Send the few-shot prompt to Claude\n",
    "messages = [\n",
    "    {\"role\": \"user\", \"content\": few_shot_prompt_code_translator}\n",
    "]\n",
    "\n",
    "try:\n",
    "    response = client.messages.create(\n",
    "        model=\"claude-3-opus-20240229\", # Or another Claude model\n",
    "        max_tokens=100,\n",
    "        messages=messages\n",
    "    )\n",
    "    print(\"JavaScript Code Translation:\\n\")\n",
    "    print(response.content[0].text)\n",
    "\n",
    "except anthropic.APIError as e:\n",
    "    print(f\"Error calling Claude API: {e}\")\n",
    "    print(\"Please ensure you have a valid API key and the Claude API is accessible.\")"
   ]
  }
 ],
 "metadata": {
  "kernelspec": {
   "display_name": "Python 3",
   "language": "python",
   "name": "python3"
  },
  "language_info": {
   "codemirror_mode": {
    "name": "ipython",
    "version": 3
   },
   "file_extension": ".py",
   "mimetype": "text/x-python",
   "name": "python",
   "nbconvert_exporter": "python",
   "pygments_lexer": "ipython3",
   "version": "3.8.5"
  }
 },
 "nbformat": 4,
 "nbformat_minor": 4
}