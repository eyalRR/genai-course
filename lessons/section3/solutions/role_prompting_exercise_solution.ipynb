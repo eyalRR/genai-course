{
 "cells": [
  {
   "cell_type": "markdown",
   "metadata": {},
   "source": [
    "# Solution: Role Prompting with Claude API - Exercise"
   ]
  },
  {
   "cell_type": "markdown",
   "metadata": {},
   "source": [
    "## Exercise: Experiment with different roles\n",
    "\n",
    "1.  Modify the `prompt_with_role` in **Step 2** to use different roles. Try roles like:\n",
    "    *   \"You are a concise and technical expert.\"\n",
    "    *   \"You are a friendly and encouraging tutor.\"\n",
    "    *   \"You are a storyteller explaining science concepts through narratives.\"\n",
    "2.  Keep the query the same (`\"Explain the concept of quantum entanglement.\"`) and run the code with each different role.\n",
    "3.  Compare the responses for each role. Observe how the role influences Claude's tone, style, level of detail, and the overall explanation.\n",
    "4.  Think about scenarios where different roles might be useful in real-world applications. For example, when would you want Claude to act as a \"concise expert\" vs. a \"friendly tutor\"?"
   ]
  },
  {
   "cell_type": "code",
   "execution_count": null,
   "metadata": {},
   "outputs": [],
   "source": [
    "# Solution (Example role: \"concise and technical expert\"):\n",
    "\n",
    "import anthropic\n",
    "import os\n",
    "from dotenv import load_dotenv\n",
    "\n",
    "# Load environment variables and initialize Claude client (same as before)\n",
    "load_dotenv()\n",
    "api_key = os.getenv(\"CLAUDE_API_KEY\")\n",
    "client = anthropic.Anthropic(api_key=api_key)\n",
    "\n",
    "# Prompt with role: Concise technical expert\n",
    "prompt_with_role_expert = \"\"\"\n",
    "You are a concise and technical expert.\n",
    "Explain the concept of quantum entanglement.\n",
    "\"\"\"\n",
    "\n",
    "# Send prompt to Claude\n",
    "messages = [\n",
    "    {\"role\": \"user\", \"content\": prompt_with_role_expert}\n",
    "]\n",
    "\n",
    "try:\n",
    "    response = client.messages.create(\n",
    "        model=\"claude-3-opus-20240229\", # Or another Claude model\n",
    "        max_tokens=200,\n",
    "        messages=messages\n",
    "    )\n",
    "    print(\"Response with role prompting (Concise Technical Expert):\\n\")\n",
    "    print(response.content[0].text)\n",
    "\n",
    "except anthropic.APIError as e:\n",
    "    print(f\"Error calling Claude API: {e}\")\n",
    "    print(\"Please ensure you have a valid API key and the Claude API is accessible.\")"
   ]
  }
 ],
 "metadata": {
  "kernelspec": {
   "display_name": "Python 3",
   "language": "python",
   "name": "python3"
  },
  "language_info": {
   "codemirror_mode": {
    "name": "ipython",
    "version": 3
   },
   "file_extension": ".py",
   "mimetype": "text/x-python",
   "name": "python",
   "nbconvert_exporter": "python",
   "pygments_lexer": "ipython3",
   "version": "3.8.5"
  }
 },
 "nbformat": 4,
 "nbformat_minor": 4
}