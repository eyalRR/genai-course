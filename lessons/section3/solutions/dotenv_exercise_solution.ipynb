{
 "cells": [
  {
   "cell_type": "markdown",
   "metadata": {},
   "source": [
    "# Solution: dotenv File for Claude API - Exercise"
   ]
  },
  {
   "cell_type": "markdown",
   "metadata": {},
   "source": [
    "## Exercise: Create your own `.env` file and load a variable\n",
    "\n",
    "1.  Create a new `.env` file in the same directory as this notebook.\n",
    "2.  Inside the `.env` file, define a variable named `MY_VARIABLE` and assign it a string value of your choice (e.g., `MY_VARIABLE=hello_dotenv`).\n",
    "3.  Modify the Python code in the cell below to load the `.env` file and retrieve the value of `MY_VARIABLE`.\n",
    "4.  Print the value of `MY_VARIABLE` to verify that it's loaded correctly."
   ]
  },
  {
   "cell_type": "code",
   "execution_count": null,
   "metadata": {},
   "outputs": [],
   "source": [
    "# Solution:\n",
    "import os\n",
    "from dotenv import load_dotenv\n",
    "\n",
    "load_dotenv()\n",
    "\n",
    "my_variable = os.getenv(\"MY_VARIABLE\")\n",
    "\n",
    "if my_variable:\n",
    "    print(f\"MY_VARIABLE: {my_variable}\")\n",
    "else:\n",
    "    print(\"MY_VARIABLE not found in .env file.\")"
   ]
  }
 ],
 "metadata": {
  "kernelspec": {
   "display_name": "Python 3",
   "language": "python",
   "name": "python3"
  },
  "language_info": {
   "codemirror_mode": {
    "name": "ipython",
    "version": 3
   },
   "file_extension": ".py",
   "mimetype": "text/x-python",
   "name": "python",
   "nbconvert_exporter": "python",
   "pygments_lexer": "ipython3",
   "version": "3.8.5"
  }
 },
 "nbformat": 4,
 "nbformat_minor": 4
}