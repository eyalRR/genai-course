{
 "cells": [
  {
   "cell_type": "markdown",
   "metadata": {},
   "source": [
    "# Section 7: Gradio Quickstart - Solutions"
   ]
  },
  {
   "cell_type": "markdown",
   "metadata": {},
   "source": [
    "## Exercise 1: Number Squarer\n",
    "\n",
    "**Problem:** Create a Gradio app that:\n",
    "1.  Takes a single number as input (use the `gr.Number()` component).\n",
    "2.  Has a Python function that calculates the square of that number.\n",
    "3.  Displays the squared number as output (use a `gr.Text()` or `gr.Number()` component for the output)."
   ]
  },
  {
   "cell_type": "code",
   "execution_count": null,
   "metadata": {},
   "outputs": [],
   "source": [
    "import gradio as gr\n",
    "\n",
    "# 1. Define the function\n",
    "def square_number(num):\n",
    "    if num is None: # Basic error handling for empty input\n",
    "        return \"Please enter a number.\"\n",
    "    return num * num\n",
    "\n",
    "# 2. Create the Gradio Interface\n",
    "exercise1_solution_demo = gr.Interface(\n",
    "    fn=square_number,\n",
    "    inputs=gr.Number(label=\"Enter a number\"), \n",
    "    outputs=gr.Text(label=\"Squared Result\"),\n",
    "    title=\"Number Squarer - Solution\",\n",
    "    description=\"Enter a number to see its square.\"\n",
    ")\n",
    "\n",
    "# 3. Launch the demo\n",
    "# exercise1_solution_demo.launch() # Uncomment to run"
   ]
  },
  {
   "cell_type": "markdown",
   "metadata": {},
   "source": [
    "**Explanation of Solution 1:**\n",
    "\n",
    "1.  `def square_number(num):`: We define a function that takes one argument `num`.\n",
    "2.  `if num is None: return \"Please enter a number.\"`: This is a simple check. If the user doesn't input anything, `num` might be `None`. We return a message in this case.\n",
    "3.  `return num * num`: If `num` is provided, it calculates and returns its square.\n",
    "4.  `fn=square_number`: We pass our defined function to the `Interface`.\n",
    "5.  `inputs=gr.Number(label=\"Enter a number\")`: We use `gr.Number()` for numerical input. The `label` provides a descriptive text for the input field.\n",
    "6.  `outputs=gr.Text(label=\"Squared Result\")`: We use `gr.Text()` to display the output. `gr.Number()` could also be used here if we strictly want numerical output display."
   ]
  },
  {
   "cell_type": "markdown",
   "metadata": {},
   "source": [
    "## Exercise 2: String Concatenator\n",
    "\n",
    "**Problem:** Create a Gradio app that:\n",
    "1.  Takes two text strings as input (use two `gr.Textbox()` components).\n",
    "2.  Has a Python function that concatenates these two strings with a space in between.\n",
    "3.  Displays the concatenated string as output (use a `gr.Textbox()` component for the output)."
   ]
  },
  {
   "cell_type": "code",
   "execution_count": null,
   "metadata": {},
   "outputs": [],
   "source": [
    "import gradio as gr\n",
    "\n",
    "# 1. Define the function\n",
    "def concatenate_strings(str1, str2):\n",
    "    # Handle cases where inputs might be None or not strings, though Gradio components usually provide strings\n",
    "    s1 = str(str1) if str1 is not None else \"\"\n",
    "    s2 = str(str2) if str2 is not None else \"\"\n",
    "    return s1 + \" \" + s2\n",
    "\n",
    "# 2. Create the Gradio Interface\n",
    "exercise2_solution_demo = gr.Interface(\n",
    "    fn=concatenate_strings,\n",
    "    inputs=[\n",
    "        gr.Textbox(label=\"First String\"), \n",
    "        gr.Textbox(label=\"Second String\")\n",
    "    ],\n",
    "    outputs=gr.Textbox(label=\"Concatenated Result\"),\n",
    "    title=\"String Concatenator - Solution\",\n",
    "    description=\"Enter two strings to concatenate them with a space.\"\n",
    ")\n",
    "\n",
    "# 3. Launch the demo\n",
    "# exercise2_solution_demo.launch() # Uncomment to run"
   ]
  },
  {
   "cell_type": "markdown",
   "metadata": {},
   "source": [
    "**Explanation of Solution 2:**\n",
    "\n",
    "1.  `def concatenate_strings(str1, str2):`: We define a function that takes two arguments, `str1` and `str2`.\n",
    "2.  `s1 = str(str1) if str1 is not None else \"\"`: We convert the input to a string, defaulting to an empty string if the input is `None`. This makes the concatenation more robust.\n",
    "3.  `return s1 + \" \" + s2`: The function returns the concatenation of the two strings with a space in the middle.\n",
    "4.  `fn=concatenate_strings`: We pass our defined function.\n",
    "5.  `inputs=[gr.Textbox(label=\"First String\"), gr.Textbox(label=\"Second String\")]`: Since our function takes two arguments, we provide a list of two `gr.Textbox()` components for the `inputs`. Each textbox has a descriptive `label`.\n",
    "6.  `outputs=gr.Textbox(label=\"Concatenated Result\")`: A single `gr.Textbox()` is used to display the resulting concatenated string."
   ]
  }
 ],
 "metadata": {
  "kernelspec": {
   "display_name": "Python 3 (ipykernel)",
   "language": "python",
   "name": "python3"
  },
  "language_info": {
   "codemirror_mode": {
    "name": "ipython",
    "version": 3
   },
   "file_extension": ".py",
   "mimetype": "text/x-python",
   "name": "python",
   "nbconvert_exporter": "python",
   "pygments_lexer": "ipython3",
   "version": "3.11.7"
  }
 },
 "nbformat": 4,
 "nbformat_minor": 5
}