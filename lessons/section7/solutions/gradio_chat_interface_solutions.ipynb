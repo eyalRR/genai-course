{
 "cells": [
  {
   "cell_type": "markdown",
   "metadata": {},
   "source": [
    "# Section 7: Gradio ChatInterface - Solutions"
   ]
  },
  {
   "cell_type": "markdown",
   "metadata": {},
   "source": [
    "## Exercise: Simple Echo Chatbot\n",
    "\n",
    "**Problem:** Create a Gradio Chat Interface that:\n",
    "1.  Takes a user's message.\n",
    "2.  Has a Python chat function that simply echoes back the user's message, prepended with the text \"Echo: \".\n",
    "3.  Uses `gr.ChatInterface()` to display the chat."
   ]
  },
  {
   "cell_type": "code",
   "execution_count": null,
   "metadata": {},
   "outputs": [],
   "source": [
    "import gradio as gr\n",
    "\n",
    "# 1. Define the chat function\n",
    "def echo_bot(message, history):\n",
    "    # The 'history' argument is not used in this simple echo bot,\n",
    "    # but it's good practice to include it as it's part of the\n",
    "    # standard signature for gr.ChatInterface functions.\n",
    "    # It would be used if the bot needed to remember past interactions.\n",
    "    return f\"Echo: {message}\"\n",
    "\n",
    "# 2. Create the Gradio ChatInterface\n",
    "echo_chatbot_solution_demo = gr.ChatInterface(\n",
    "    fn=echo_bot,\n",
    "    type=\"messages\", # Crucial for modern Gradio chat applications\n",
    "    title=\"Echo Bot - Solution\",\n",
    "    description=\"This bot echoes whatever you type, prepended with 'Echo: '. Try it out!\",\n",
    "    examples=[\"Hello Gradio!\", \"This is a test.\", \"How are you?\"],\n",
    "    theme=\"soft\" # Optional: adding a theme for a different look\n",
    ")\n",
    "\n",
    "# 3. Launch the demo\n",
    "# echo_chatbot_solution_demo.launch() # Uncomment to run"
   ]
  },
  {
   "cell_type": "markdown",
   "metadata": {},
   "source": [
    "**Explanation of Solution:**\n",
    "\n",
    "1.  **`import gradio as gr`**: Imports the Gradio library.\n",
    "2.  **`def echo_bot(message, history):`**: Defines the core logic of our chatbot.\n",
    "    *   It takes two arguments: `message` (the user's current input string) and `history` (a list of past interactions, which we don't use in this simple case but is required by `gr.ChatInterface`).\n",
    "    *   `return f\"Echo: {message}\"`: The function constructs a response string by prepending \"Echo: \" to the user's `message` and returns it. This is what the chatbot will display as its reply.\n",
    "3.  **`echo_chatbot_solution_demo = gr.ChatInterface(...)`**: This creates the chat user interface.\n",
    "    *   `fn=echo_bot`: Tells Gradio to use our `echo_bot` function to generate responses.\n",
    "    *   `type=\"messages\"`: Specifies the format for handling chat history. This is the recommended modern approach.\n",
    "    *   `title=\"Echo Bot - Solution\"`: Sets the title displayed at the top of the chat interface.\n",
    "    *   `description=\"...\"`: Provides a brief description under the title.\n",
    "    *   `examples=[\"Hello Gradio!\", ...]` : Adds clickable example prompts for the user to try.\n",
    "    *   `theme=\"soft\"`: (Optional) Applies a pre-defined theme to change the appearance of the chat interface.\n",
    "4.  **`# echo_chatbot_solution_demo.launch()`**: This line, when uncommented, would start the Gradio application, making the chatbot accessible in your browser or embedded in the notebook."
   ]
  }
 ],
 "metadata": {
  "kernelspec": {
   "display_name": "Python 3 (ipykernel)",
   "language": "python",
   "name": "python3"
  },
  "language_info": {
   "codemirror_mode": {
    "name": "ipython",
    "version": 3
   },
   "file_extension": ".py",
   "mimetype": "text/x-python",
   "name": "python",
   "nbconvert_exporter": "python",
   "pygments_lexer": "ipython3",
   "version": "3.11.7"
  }
 },
 "nbformat": 4,
 "nbformat_minor": 5
}