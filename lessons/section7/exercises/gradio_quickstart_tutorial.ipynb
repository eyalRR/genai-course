{
 "cells": [
  {
   "cell_type": "markdown",
   "metadata": {},
   "source": [
    "# Section 7: Gradio Quickstart Tutorial\n",
    "\n",
    "Welcome to the Gradio quickstart tutorial! Gradio is an open-source Python package that allows you to quickly build a demo or web application for your machine learning model, API, or any arbitrary Python function. You can then share a link to your demo or web application in just a few seconds using Gradio's built-in sharing features. No JavaScript, CSS, or web hosting experience needed!"
   ]
  },
  {
   "cell_type": "markdown",
   "metadata": {},
   "source": [
    "## Installation\n",
    "\n",
    "**Prerequisite:** Gradio requires Python 3.10 or higher.\n",
    "\n",
    "We recommend installing Gradio using pip, which is included by default in Python. Run this in your terminal or command prompt:\n",
    "\n",
    "```bash\n",
    "pip install --upgrade gradio\n",
    "```\n",
    "\n",
    "**Tip:** It is best to install Gradio in a virtual environment. You can create a virtual environment and activate it before running the pip install command."
   ]
  },
  {
   "cell_type": "markdown",
   "metadata": {},
   "source": [
    "## Building Your First Demo\n",
    "\n",
    "You can run Gradio in your favorite code editor, Jupyter notebook, Google Colab, or anywhere else you write Python. Let's write your first Gradio app.\n",
    "\n",
    "The following code creates a simple web interface for a Python function that greets a user."
   ]
  },
  {
   "cell_type": "code",
   "execution_count": null,
   "metadata": {},
   "outputs": [],
   "source": [
    "import gradio as gr\n",
    "\n",
    "def greet(name, intensity):\n",
    "    return \"Hello, \" + name + \"!\" * int(intensity)\n",
    "\n",
    "demo = gr.Interface(\n",
    "    fn=greet,  # The function to wrap\n",
    "    inputs=[\"text\", gr.Slider(minimum=1, maximum=10, step=1)],  # Input components: a textbox and a slider\n",
    "    outputs=[\"text\"],  # Output component: a textbox\n",
    "    title=\"Simple Greeter\",\n",
    "    description=\"Enter your name and select an intensity for a personalized greeting.\"\n",
    ")\n",
    "\n",
    "demo.launch()"
   ]
  },
  {
   "cell_type": "markdown",
   "metadata": {},
   "source": [
    "**Explanation:**\n",
    "\n",
    "1.  `import gradio as gr`: We import the Gradio library and use the alias `gr` by convention.\n",
    "2.  `def greet(name, intensity): ...`: This is the Python function we want to create an interface for. It takes two arguments: `name` (a string) and `intensity` (an integer), and returns a greeting string.\n",
    "3.  `demo = gr.Interface(...)`: This is the core of Gradio. We create an `Interface` object.\n",
    "    *   `fn=greet`: We tell Gradio which function to run.\n",
    "    *   `inputs=[\"text\", gr.Slider(minimum=1, maximum=10, step=1)]`: We specify the input components. \n",
    "        *   `\"text\"` creates a text input field for the `name` argument.\n",
    "        *   `gr.Slider(minimum=1, maximum=10, step=1)` creates a slider for the `intensity` argument, allowing values from 1 to 10.\n",
    "    *   `outputs=[\"text\"]`: We specify the output component. `\"text\"` creates a text field to display the result returned by the `greet` function.\n",
    "    *   `title` and `description` are optional parameters to add more context to your UI.\n",
    "4.  `demo.launch()`: This command starts the Gradio web server and makes your interface accessible in your browser (usually at `http://localhost:7860`) or directly within your Jupyter Notebook."
   ]
  },
  {
   "cell_type": "markdown",
   "metadata": {},
   "source": [
    "**Running the Demo:**\n",
    "\n",
    "When you run the cell above, a Gradio interface will appear. Type your name in the first textbox, adjust the slider, and click \"Submit\". You'll see the output change based on your inputs!"
   ]
  },
  {
   "cell_type": "markdown",
   "metadata": {},
   "source": [
    "## Understanding the `Interface` Class\n",
    "\n",
    "The `gr.Interface` class is designed to create demos for functions (often machine learning models) that accept one or more inputs and return one or more outputs.\n",
    "\n",
    "The three core arguments are:\n",
    "\n",
    "*   `fn`: The Python function to wrap with a UI.\n",
    "*   `inputs`: The Gradio component(s) for the input. The number of components should match the number of arguments in your function.\n",
    "*   `outputs`: The Gradio component(s) for the output. The number of components should match the number of return values from your function.\n",
    "\n",
    "Gradio includes more than 30 built-in components (like `gr.Textbox()`, `gr.Image()`, `gr.Number()`, `gr.Dropdown()`, etc.). You can pass the name of these components as a string (e.g., `\"textbox\"`, `\"number\"`) or an instance of the class (e.g., `gr.Textbox()`, `gr.Number(label=\"Enter a number\")`).\n",
    "\n",
    "If your function accepts multiple arguments, you provide a list of input components to `inputs`. Similarly, for multiple return values, provide a list of components to `outputs`."
   ]
  },
  {
   "cell_type": "markdown",
   "metadata": {},
   "source": [
    "## Sharing Your Demo\n",
    "\n",
    "Gradio makes it easy to share your demos. If you want to create a public, shareable link for your demo, set `share=True` in the `launch()` method:\n",
    "\n",
    "```python\n",
    "# import gradio as gr\n",
    "\n",
    "# def greet(name):\n",
    "#     return \"Hello \" + name + \"!\"\n",
    "\n",
    "# demo = gr.Interface(fn=greet, inputs=\"textbox\", outputs=\"textbox\")\n",
    "    \n",
    "# demo.launch(share=True)  # Share your demo with just 1 extra parameter\n",
    "```\n",
    "\n",
    "When you run this, Gradio will generate a public URL (e.g., `https://xxxxxxx.gradio.live`). Anyone can use this link to access your demo running on your local machine (or wherever the Python script is running). The link is typically active for 72 hours."
   ]
  },
  {
   "cell_type": "markdown",
   "metadata": {},
   "source": [
    "## Exercises\n",
    "\n",
    "Now it's your turn to build some Gradio interfaces! Remember, these exercises are for beginners, so focus on understanding the basic structure."
   ]
  },
  {
   "cell_type": "markdown",
   "metadata": {},
   "source": [
    "### Exercise 1: Number Squarer\n",
    "\n",
    "Create a Gradio app that:\n",
    "1.  Takes a single number as input (use the `gr.Number()` component).\n",
    "2.  Has a Python function that calculates the square of that number.\n",
    "3.  Displays the squared number as output (use a `gr.Text()` or `gr.Number()` component for the output).\n",
    "\n",
    "**Hint:** Your function will take one argument and return one value."
   ]
  },
  {
   "cell_type": "code",
   "execution_count": null,
   "metadata": {},
   "outputs": [],
   "source": [
    "# Your code for Exercise 1 here\n",
    "import gradio as gr\n",
    "\n",
    "# 1. Define the function\n",
    "def square_number(num):\n",
    "    # YOUR CODE HERE: Calculate the square of 'num'\n",
    "    pass\n",
    "\n",
    "# 2. Create the Gradio Interface\n",
    "exercise1_demo = gr.Interface(\n",
    "    fn=None, # YOUR CODE HERE: Pass your function\n",
    "    inputs=None, # YOUR CODE HERE: Define the input component (e.g., gr.Number())\n",
    "    outputs=None, # YOUR CODE HERE: Define the output component (e.g., gr.Text())\n",
    "    title=\"Number Squarer\",\n",
    "    description=\"Enter a number to see its square.\"\n",
    ")\n",
    "\n",
    "# 3. Launch the demo\n",
    "# exercise1_demo.launch() # Uncomment to run"
   ]
  },
  {
   "cell_type": "markdown",
   "metadata": {},
   "source": [
    "### Exercise 2: String Concatenator\n",
    "\n",
    "Create a Gradio app that:\n",
    "1.  Takes two text strings as input (use two `gr.Textbox()` components).\n",
    "2.  Has a Python function that concatenates these two strings with a space in between.\n",
    "3.  Displays the concatenated string as output (use a `gr.Textbox()` component for the output).\n",
    "\n",
    "**Hint:** Your function will take two arguments and return one value. You'll need to pass a list of components to the `inputs` argument."
   ]
  },
  {
   "cell_type": "code",
   "execution_count": null,
   "metadata": {},
   "outputs": [],
   "source": [
    "# Your code for Exercise 2 here\n",
    "import gradio as gr\n",
    "\n",
    "# 1. Define the function\n",
    "def concatenate_strings(str1, str2):\n",
    "    # YOUR CODE HERE: Concatenate str1 and str2 with a space in between\n",
    "    pass\n",
    "\n",
    "# 2. Create the Gradio Interface\n",
    "exercise2_demo = gr.Interface(\n",
    "    fn=None, # YOUR CODE HERE: Pass your function\n",
    "    inputs=None, # YOUR CODE HERE: Define the input components (list of two gr.Textbox())\n",
    "    outputs=None, # YOUR CODE HERE: Define the output component (gr.Textbox())\n",
    "    title=\"String Concatenator\",\n",
    "    description=\"Enter two strings to concatenate them.\"\n",
    ")\n",
    "\n",
    "# 3. Launch the demo\n",
    "# exercise2_demo.launch() # Uncomment to run"
   ]
  },
  {
   "cell_type": "markdown",
   "metadata": {},
   "source": [
    "Congratulations on completing the exercises! You've taken your first steps with Gradio. There's much more to explore, including different components, layouts with `gr.Blocks`, and advanced features."
   ]
  }
 ],
 "metadata": {
  "kernelspec": {
   "display_name": "Python 3 (ipykernel)",
   "language": "python",
   "name": "python3"
  },
  "language_info": {
   "codemirror_mode": {
    "name": "ipython",
    "version": 3
   },
   "file_extension": ".py",
   "mimetype": "text/x-python",
   "name": "python",
   "nbconvert_exporter": "python",
   "pygments_lexer": "ipython3",
   "version": "3.11.7"
  }
 },
 "nbformat": 4,
 "nbformat_minor": 5
}
