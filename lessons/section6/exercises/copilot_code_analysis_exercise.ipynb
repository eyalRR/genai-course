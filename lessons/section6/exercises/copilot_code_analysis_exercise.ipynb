{
 "cells": [
  {
   "cell_type": "markdown",
   "metadata": {},
   "source": [
    "# GitHub Copilot Code Analysis Exercise\n",
    "\n",
    "In this exercise, you will learn how to use GitHub Copilot to understand existing code, fix errors, and add documentation.\n",
    "\n",
    "## How to use Copilot to understand the code\n",
    "\n",
    "Copilot can help you understand unfamiliar code by providing explanations and insights. Simply highlight the code you want to understand and ask Copilot to explain it in plain English. You can also ask Copilot to identify potential issues or suggest improvements.\n",
    "\n",
    "## How to fix code errors?\n",
    "\n",
    "Copilot can help you identify and fix code errors. When you encounter an error, Copilot can suggest possible solutions based on the error message and the surrounding code. You can also ask Copilot to review your code for potential errors.\n",
    "\n",
    "## How to add docstring to functions\n",
    "\n",
    "Docstrings are essential for documenting your code and making it easier to understand. Copilot can automatically generate docstrings for your functions based on the function signature and the surrounding code. Simply type `\"\"\"` at the beginning of a function, and Copilot will suggest a docstring.\n",
    "\n",
    "## How to add relevant comments\n",
    "\n",
    "Comments are also important for explaining your code and making it easier to understand. Copilot can suggest relevant comments based on the code you are writing. Simply type `#` and Copilot will suggest a comment.\n",
    "\n",
    "## Exercise: Analyze, fix, and document the following code\n",
    "\n",
    "The following code contains an error. Use Copilot to analyze the code, identify and fix the error, and add a docstring and comments to explain the code."
   ]
  },
  {
   "cell_type": "code",
   "execution_count": null,
   "metadata": {},
   "outputs": [],
   "source": [
    "def calculate_average(numbers):\n",
    "    \"\"\"Calculates the average of a list of numbers.\"\"\"\n",
    "    total = 0\n",
    "    for number in numbers\n",
    "        total += number\n",
    "    average = total / len(numbers)\n",
    "    return average"
   ]
  },
  {
   "cell_type": "markdown",
   "metadata": {},
   "source": [
    "## Exercise: Analyze and document the following code\n",
    "\n",
    "The following code is a more complex example. Use Copilot to analyze the code, add docstrings to all functions, and add relevant comments to explain the code's logic."
   ]
  },
  {
   "cell_type": "code",
   "execution_count": null,
   "metadata": {},
   "outputs": [],
   "source": [
    "def process_data(data):\n",
    "    \"\"\"Processes a list of data and returns a dictionary of results.\"\"\"\n",
    "    results = {}\n",
    "    for item in data:\n",
    "        if isinstance(item, int):\n",
    "            results[item] = item * 2\n",
    "        elif isinstance(item, str):\n",
    "            results[item] = item.upper()\n",
    "        elif isinstance(item, list):\n",
    "            results[str(item)] = len(item)\n",
    "        else:\n",
    "            results[str(item)] = \"Unsupported type\"\n",
    "    return results\n",
    "\n",
    "def calculate_sum(numbers):\n",
    "    \"\"\"Calculates the sum of a list of numbers.\"\"\"\n",
    "    total = 0\n",
    "    for number in numbers:\n",
    "        total += number\n",
    "    return total\n",
    "\n",
    "def get_max_value(data):\n",
    "    \"\"\"Returns the maximum value in a list of numbers.\"\"\"\n",
    "    max_value = data[0]\n",
    "    for item in data:\n",
    "        if item > max_value:\n",
    "            max_value = item\n",
    "    return max_value"
   ]
  }
 ],
 "metadata": {
  "kernelspec": {
   "display_name": "genaienv",
   "language": "python",
   "name": "python3"
  },
  "language_info": {
   "codemirror_mode": {
    "name": "ipython",
    "version": 3
   },
   "file_extension": ".py",
   "mimetype": "text/x-python",
   "name": "python",
   "nbconvert_exporter": "python",
   "pygments_lexer": "ipython3",
   "version": "3.12.9"
  }
 },
 "nbformat": 4,
 "nbformat_minor": 5
}
