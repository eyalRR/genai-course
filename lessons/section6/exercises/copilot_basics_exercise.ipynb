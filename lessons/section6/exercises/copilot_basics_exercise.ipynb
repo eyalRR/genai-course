{
 "cells": [
  {
   "cell_type": "markdown",
   "metadata": {},
   "source": [
    "# GitHub Copilot Basics Exercise\n",
    "\n",
    "In this exercise, you will learn the basics of using GitHub Copilot. Copilot is an AI pair programmer that helps you write code faster and with less effort.\n",
    "\n",
    "## What is GitHub Copilot?\n",
    "\n",
    "GitHub Copilot is an AI-powered code completion tool that suggests code snippets and entire functions as you type. It uses machine learning models trained on billions of lines of public code to understand your coding context and provide relevant suggestions.\n",
    "\n",
    "Copilot can help you with:\n",
    "\n",
    "*   Writing code faster\n",
    "*   Exploring new languages or frameworks\n",
    "*   Reducing boilerplate code\n",
    "*   Discovering alternative ways to solve problems\n",
    "\n",
    "## How to use Autocomplete with Copilot\n",
    "\n",
    "Copilot provides suggestions as you type. To accept a suggestion, simply press `Tab`. To reject a suggestion, continue typing.\n",
    "\n",
    "## Exercise: Write a function to add two numbers\n",
    "\n",
    "Write a Python function that takes two numbers as input and returns their sum."
   ]
  },
  {
   "cell_type": "code",
   "execution_count": null,
   "metadata": {},
   "outputs": [],
   "source": [
    "def add_numbers(x, y):\n",
    "    # Write your code here\n",
    "    pass"
   ]
  },
  {
   "cell_type": "markdown",
   "id": "485e0c8b",
   "metadata": {},
   "source": [
    "## Exercise: Create a simple chatbot using an agent\n",
    "\n",
    "In this exercise, you will create a simple chatbot that can respond to user input using an agent. Use GitHub Copilot to help you write the code.\n",
    "\n",
    "Here's a suggested prompt to get you started:\n",
    "\n",
    "`Write a Python script that uses an agent to create a simple chatbot that can respond to user input. The chatbot should be able to greet the user, ask for their name, and respond to simple questions.`"
   ]
  },
  {
   "cell_type": "code",
   "execution_count": null,
   "id": "44da5b79",
   "metadata": {},
   "outputs": [],
   "source": [
    "# Write your code here"
   ]
  }
 ],
 "metadata": {
  "kernelspec": {
   "display_name": "Python 3",
   "language": "python",
   "name": "python3"
  },
  "language_info": {
   "codemirror_mode": {
    "name": "ipython",
    "version": 3
   },
   "file_extension": ".py",
   "mimetype": "text/x-python",
   "name": "python",
   "nbconvert_exporter": "python",
   "pygments_lexer": "ipython3",
   "version": "3.8.5"
  }
 },
 "nbformat": 4,
 "nbformat_minor": 5
}
