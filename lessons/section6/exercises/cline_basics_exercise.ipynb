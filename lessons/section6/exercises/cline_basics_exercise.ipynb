{
 "cells": [
  {
   "cell_type": "markdown",
   "metadata": {},
   "source": [
    "# Cline Basics Exercise\n",
    "\n",
    "In this exercise, you will learn the basics of using Cline, an autonomous coding agent integrated into your IDE. Cline can create/edit files, run commands, use the browser, and more, with your permission every step of the way.\n",
    "\n",
    "## What is Cline?\n",
    "\n",
    "Cline is an autonomous coding agent integrated into your IDE. It can create/edit files, run commands, use the browser, and more, with your permission every step of the way.\n",
    "\n",
    "## Exercise: Use Cline to create a new file\n",
    "\n",
    "In this exercise, you will use Cline to create a new Python file named `my_script.py` with a simple function that prints \"Hello, world!\".\n",
    "\n",
    "1.  Ask Cline to create a new file named `my_script.py`.\n",
    "2.  Ask Cline to add a function named `hello_world` to the file that prints \"Hello, world!\".\n",
    "3.  Ask Cline to run the file and display the output.\n",
    "\n",
    "## Exercise: Use Cline to modify an existing file\n",
    "\n",
    "In this exercise, you will use Cline to modify the `my_script.py` file you created in the previous exercise.\n",
    "\n",
    "1.  Ask Cline to add a new function named `add_numbers` to the file that takes two numbers as input and returns their sum.\n",
    "2.  Ask Cline to call the `add_numbers` function with the arguments 5 and 10 and print the result.\n",
    "3.  Ask Cline to run the file and display the output."
   ]
  },
  {
   "cell_type": "code",
   "metadata": {},
   "source": [
    "# Write your code here"
   ]
  }
 ],
 "metadata": {
  "kernelspec": {
   "display_name": "Python 3",
   "language": "python",
   "name": "python3"
  },
  "language_info": {
   "codemirror_mode": {
    "name": "ipython",
    "version": 3
   },
   "file_extension": ".py",
   "mimetype": "text/x-python",
   "name": "python",
   "nbconvert_exporter": "python",
   "pygments_lexer": "ipython3",
   "version": "3.8.5"
  }
 },
 "nbformat": 4,
 "nbformat_minor": 5
}
