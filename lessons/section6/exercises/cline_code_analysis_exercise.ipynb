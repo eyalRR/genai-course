{
 "cells": [
  {
   "cell_type": "markdown",
   "metadata": {},
   "source": [
    "# Cline Code Analysis Exercise\n",
    "\n",
    "In this exercise, you will learn how to use Cline to analyze existing code, add docstrings, and refactor code.\n",
    "\n",
    "## What is Cline?\n",
    "\n",
    "Cline is an autonomous coding agent integrated into your IDE. It can create/edit files, run commands, use the browser, and more, with your permission every step of the way.\n",
    "\n",
    "## Exercise: Use Cline to refactor code\n",
    "\n",
    "In this exercise, you will use Cline to refactor the `process_data` function to make it more readable and efficient.\n",
    "\n",
    "1.  Ask Cline to simplify the `process_data` function by using a dictionary to map data types to their corresponding processing logic.\n",
    "2.  Ask Cline to add comments to the function to explain the purpose of each code block.\n",
    "\n",
    "## Exercise: Use Cline to test a web application\n",
    "\n",
    "In this exercise, you will use Cline to test a simple web application.\n",
    "\n",
    "1.  Ask Cline to create a simple HTML file with a button that displays an alert message when clicked.\n",
    "2.  Ask Cline to use the browser to open the HTML file.\n",
    "3.  Ask Cline to click the button and verify that the alert message is displayed.\n",
    "4.  Ask Cline to take a screenshot of the web page and save it to a file."
   ]
  }
 ],
 "metadata": {
  "kernelspec": {
   "display_name": "Python 3",
   "language": "python",
   "name": "python3"
  },
  "language_info": {
   "codemirror_mode": {
    "name": "ipython",
    "version": 3
   },
   "file_extension": ".py",
   "mimetype": "text/x-python",
   "name": "python",
   "nbconvert_exporter": "python",
   "pygments_lexer": "ipython3",
   "version": "3.8.5"
  }
 },
 "nbformat": 4,
 "nbformat_minor": 5
}
