{
 "cells": [
  {
   "cell_type": "markdown",
   "metadata": {},
   "source": [
    "# GitHub Copilot Code Analysis Exercise - Solution\n",
    "\n",
    "Here is the solution to the exercise of analyzing, fixing, and documenting the code.\n"
   ]
  },
  {
   "cell_type": "code",
   "execution_count": null,
   "metadata": {},
   "outputs": [],
   "source": [
    "def calculate_average(numbers):\n",
    "    \"\"\"Calculates the average of a list of numbers.\n",
    "\n",
    "    Args:\n",
    "        numbers (list): A list of numbers to calculate the average from.\n",
    "\n",
    "    Returns:\n",
    "        float: The average of the numbers in the list.\n",
    "    \"\"\"\n",
    "    total = 0\n",
    "    for number in numbers:\n",
    "        total += number\n",
    "    average = total / len(numbers)\n",
    "    return average"
   ]
  }
 ],
 "metadata": {
  "kernelspec": {
   "display_name": "Python 3",
   "language": "python",
   "name": "python3"
  },
  "language_info": {
   "codemirror_mode": {
    "name": "ipython",
    "version": 3
   },
   "file_extension": ".py",
   "mimetype": "text/x-python",
   "name": "python",
   "nbconvert_exporter": "python",
   "pygments_lexer": "ipython3",
   "version": "3.8.5"
  }
 },
 "nbformat": 4,
 "nbformat_minor": 5
}
