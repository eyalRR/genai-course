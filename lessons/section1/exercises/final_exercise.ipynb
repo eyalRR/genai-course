{
 "cells": [
  {
   "cell_type": "markdown",
   "metadata": {},
   "source": [
    "## Israeli Football Python Exercise: A Beginner's Journey to the Beautiful Game 🇮🇱⚽\n",
    "\n",
    "Shalom and welcome! Get ready to dive into the exciting world of Israeli football through the lens of Python programming. This exercise is designed for complete beginners, so no prior coding experience is needed. We'll break down the fundamentals of Python while exploring the teams, players, and passion that make Israeli football unique.\n",
    "\n",
    "**Why Israeli Football?**\n",
    "\n",
    "Beyond the code, this exercise offers a glimpse into the cultural phenomenon that is Israeli football. From the heated rivalries to the unforgettable moments, football in Israel is more than just a game; it's a way of life. So, let's lace up our coding boots and get started!\n",
    "\n",
    "**Each part of this exercise builds upon the previous one, so take your time, experiment, and most importantly, have fun!**\n",
    "\n",
    "---\n",
    "\n",
    "### Part 1: Variables and Input/Output - Your First Touch ⚽\n",
    "\n",
    "**Task Instructions:**\n",
    "\n",
    "1. We want to know who you cheer for! Use the `input()` function to ask the user for their favorite Israeli football team.\n",
    "2. Store their passionate response in a variable named `favorite_team`.\n",
    "3. Let's show some love! Print a message:  \n",
    "   `\"Great choice! [team] rocks the pitch!\"`  \n",
    "   replacing `[team]` with the user's input.\n",
    "\n",
    "**Example:**\n",
    "\n",
    "```\n",
    "Enter your favorite Israeli football team: Maccabi Haifa\n",
    "Great choice! Maccabi Haifa rocks the pitch!\n",
    "```\n",
    "\n",
    "**Hints:**\n",
    "\n",
    "* Remember, `input()` always returns a string.\n",
    "* Use the `+` operator to concatenate (combine) strings.\n",
    "\n",
    "---\n"
   ]
  },
  {
   "cell_type": "code",
   "execution_count": null,
   "metadata": {},
   "outputs": [],
   "source": [
    "# Part 1: Variables and Input/Output\n"
   ]
  },
  {
   "cell_type": "markdown",
   "metadata": {},
   "source": [
    "### Part 2: Lists - Gathering the Teams ⚽⚽\n",
    "\n",
    "**Task Instructions:**\n",
    "\n",
    "1. Let's create our league! Create a list named `teams` containing the following legendary team names:  \n",
    "   `\"Maccabi Tel Aviv\"`, `\"Hapoel Tel Aviv\"`, `\"Beitar Jerusalem\"`, and `\"Maccabi Haifa\"`.\n",
    "2. Time to showcase our teams! Use a `for` loop to print each team in the list, each on a new line.\n",
    "\n",
    "**Example:**\n",
    "\n",
    "```\n",
    "The teams in the league are:\n",
    "Maccabi Tel Aviv\n",
    "Hapoel Tel Aviv\n",
    "Beitar Jerusalem\n",
    "Maccabi Haifa\n",
    "```\n",
    "\n",
    "**Fun Fact:** Did you know that the Tel Aviv derby between Maccabi and Hapoel is one of the most intense rivalries in Israeli football?"
   ]
  },
  {
   "cell_type": "code",
   "execution_count": null,
   "metadata": {},
   "outputs": [],
   "source": [
    "# Part 2: Lists\n"
   ]
  },
  {
   "cell_type": "markdown",
   "metadata": {},
   "source": [
    "### Part 3: Dictionaries and For Loops - Meet the Stars 🌟⚽\n",
    "\n",
    "**Task Instructions:**\n",
    "\n",
    "1. Every team has its shining star! Create a dictionary named `star_players` that maps each team (from the list in Part 2) to its star player. For example:\n",
    "   *   `\"Maccabi Tel Aviv\"` → `\"Eran Zahavi\"`\n",
    "   *   `\"Hapoel Tel Aviv\"` → `\"Omer Damari\"`\n",
    "   *   `\"Beitar Jerusalem\"` → `\"Yossi Benayoun\"`\n",
    "   *   `\"Maccabi Haifa\"` → `\"Lior Refaelov\"`\n",
    "2. Let's give them the spotlight! Use a `for` loop to iterate over the dictionary and print a statement in the format:  \n",
    "   `\"Team: [team] | Star Player: [player]\"`\n",
    "\n",
    "**Example:**\n",
    "\n",
    "```\n",
    "Check out these star players:\n",
    "Team: Maccabi Tel Aviv | Star Player: Eran Zahavi\n",
    "Team: Hapoel Tel Aviv | Star Player: Omer Damari\n",
    "Team: Beitar Jerusalem | Star Player: Yossi Benayoun\n",
    "Team: Maccabi Haifa | Star Player: Lior Refaelov\n",
    "```\n",
    "\n",
    "**Challenge:** Can you add more teams and players to the dictionary?"
   ]
  },
  {
   "cell_type": "code",
   "execution_count": null,
   "metadata": {},
   "outputs": [],
   "source": [
    "# Part 3: Dictionaries and For Loops\n"
   ]
  },
  {
   "cell_type": "markdown",
   "metadata": {},
   "source": [
    "### Part 4: If/Elif/Else Statements with Input/Output - Who's Your Hero? 🦸‍♂️⚽\n",
    "\n",
    "**Task Instructions:**\n",
    "\n",
    "1. Let's put your knowledge to the test! Prompt the user to enter a team name to discover its star player.\n",
    "2. Use an `if/elif/else` structure to handle the following scenarios:\n",
    "   *   **If** the entered team is a key in the `star_players` dictionary, print:  \n",
    "     `\"The star player of [team] is [player]!\"`\n",
    "   *   **Elif** the user enters an empty string (just presses Enter), print:  \n",
    "     `\"Oops! You didn't enter any team name!\"`\n",
    "   *   **Else** (the team is not found), print:  \n",
    "     `\"Hmm... we don't have data for [team]. Maybe it's a new team on the rise?\"`\n",
    "\n",
    "**Example:**\n",
    "\n",
    "```\n",
    "Enter a team name to see its star player: Maccabi Tel Aviv\n",
    "The star player of Maccabi Tel Aviv is Eran Zahavi!\n",
    "```\n",
    "\n",
    "**Hint:** Use `in` to check if a key exists in a dictionary."
   ]
  },
  {
   "cell_type": "code",
   "execution_count": null,
   "metadata": {},
   "outputs": [],
   "source": [
    "# Part 4: If/Elif/Else Statements with Input/Output\n"
   ]
  },
  {
   "cell_type": "markdown",
   "metadata": {},
   "source": [
    "### Part 5: While Loop for Repeated Queries - Keep the Game Going! 🔁⚽\n",
    "\n",
    "**Task Instructions:**\n",
    "\n",
    "1. Let's create an interactive experience! Implement a `while` loop that continuously asks the user to enter a team name to check for its star player.\n",
    "2. If the user types `\"exit\"` (in any case - \"EXIT\", \"Exit\", etc.), print a goodbye message and gracefully break out of the loop.\n",
    "3. Otherwise, if the entered team is in our `star_players` dictionary, proudly print its star player.\n",
    "4. If the team is not found, print an encouraging error message.\n",
    "\n",
    "**Example:**\n",
    "\n",
    "```\n",
    "Enter a team name to see its star player (or type 'exit' to quit): Maccabi Haifa\n",
    "The star player of Maccabi Haifa is Lior Refaelov!\n",
    "\n",
    "Enter a team name to see its star player (or type 'exit' to quit): Hapoel Beer Sheva\n",
    "Sorry, we don't have data for Hapoel Beer Sheva.\n",
    "\n",
    "Enter a team name to see its star player (or type 'exit' to quit): exit\n",
    "Thanks for checking out Israeli football data. See you on the pitch!\n",
    "```\n",
    "\n",
    "**Challenge:** Can you add a counter to track how many queries the user makes?"
   ]
  },
  {
   "cell_type": "code",
   "execution_count": null,
   "metadata": {},
   "outputs": [],
   "source": [
    "# Part 5: While Loop for Repeated Queries\n"
   ]
  },
  {
   "cell_type": "markdown",
   "metadata": {},
   "source": [
    "### Part 6: String Operations - Team Name Magic ✨⚽\n",
    "\n",
    "**Task Instructions:**\n",
    "\n",
    "1. Let's explore the power of strings! Create a variable called `team_example` and assign it the string `\"maccabi tel aviv\"`.\n",
    "2. Print the uppercase version of `team_example` to show its full glory.\n",
    "3. Check if the substring `\"tel\"` is present in `team_example`. If it is, print:  \n",
    "   `\"This team hails from Tel Aviv! Goal!\"`\n",
    "\n",
    "**Example:**\n",
    "\n",
    "```\n",
    "Team in uppercase: MACCABI TEL AVIV\n",
    "This team hails from Tel Aviv! Goal!\n",
    "```\n",
    "\n",
    "**Fun Fact:** Tel Aviv is known as the \"White City\" due to its unique Bauhaus architecture."
   ]
  },
  {
   "cell_type": "code",
   "execution_count": null,
   "metadata": {},
   "outputs": [],
   "source": [
    "# Part 6: String Operations\n"
   ]
  },
  {
   "cell_type": "markdown",
   "metadata": {},
   "source": [
    "### Final Challenge: Combining All Parts - The Ultimate Israeli Football Experience 🏆⚽\n",
    "\n",
    "**Task Instructions:**\n",
    "\n",
    "*   Now for the grand finale! Combine the code from all six parts into a single, seamless Python script.\n",
    "*   Ensure the entire program runs smoothly, so that:\n",
    "    *   It warmly asks for the user's favorite team right at the start.\n",
    "    *   Then, it proudly displays a list of teams and their star players.\n",
    "    *   It patiently allows the user to query for a star player by team name.\n",
    "    *   It gracefully continues to allow queries until the user types `\"exit\"`.\n",
    "    *   And, of course, it showcases string operations with our sample team name.\n",
    "*   Thoroughly test your final script to ensure it's working like a champion!\n",
    "\n",
    "**Remember:** You can refer to the individual solutions for each part if you get stuck.\n",
    "\n",
    "---\n",
    "\n",
    "Take your time to work through each part, experiment with the code, and most importantly, enjoy the journey of coding and exploring Israeli football through Python! \n",
    "B'hatzlacha (Good luck)! 🇮🇱⚽"
   ]
  }
 ],
 "metadata": {
  "kernelspec": {
   "display_name": "genaienv",
   "language": "python",
   "name": "python3"
  },
  "language_info": {
   "codemirror_mode": {
    "name": "ipython",
    "version": 3
   },
   "file_extension": ".py",
   "mimetype": "text/x-python",
   "name": "python",
   "nbconvert_exporter": "python",
   "pygments_lexer": "ipython3",
   "version": "3.12.8"
  }
 },
 "nbformat": 4,
 "nbformat_minor": 5
}
