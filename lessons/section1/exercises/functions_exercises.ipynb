{
 "cells": [
  {
   "cell_type": "markdown",
   "metadata": {},
   "source": [
    "# Functions\n",
    "\n",
    "This section covers defining and using functions in Python, including function parameters and arguments.\n",
    "\n",
    "## Function Parameters and Arguments\n",
    "\n",
    "Parameters are the names listed in the function's definition, while arguments are the actual values passed to the function when it is called.\n",
    "\n",
    "**Example:**\n",
    "\n",
    "```python\n",
    "def greet(name, greeting):\n",
    "    \"\"\"This function greets the person passed in as a parameter.\"\"\"\n",
    "    print(f'{greeting}, {name}!')\n",
    "\n",
    "greet('Alice', 'Hello')  # 'Alice' is the argument for the 'name' parameter, and 'Hello' is the argument for the 'greeting' parameter\n",
    "```\n",
    "\n",
    "**Exercise 1:**\n",
    "\n",
    "Write a function called `add` that takes two numbers as parameters and returns their sum. Then, call the function with the arguments 5 and 3 and print the result.\n",
    "\n",
    "**Exercise 2:**\n",
    "\n",
    "Write a function called `multiply` that takes three numbers as parameters and returns their product. Then, call the function with the arguments 2, 4, and 6 and print the result.\n"
   ]
  }
 ],
 "metadata": {
  "kernelspec": {
   "display_name": "Python 3",
   "language": "python",
   "name": "python3"
  },
  "language_info": {
   "codemirror_mode": {
    "name": "ipython",
    "version": 3
   },
   "file_extension": ".py",
   "mimetype": "text/x-python",
   "name": "python",
   "nbconvert_exporter": "python",
   "pygments_lexer": "ipython3",
   "version": "3.8.5"
  }
 },
 "nbformat": 4,
 "nbformat_minor": 5
}
