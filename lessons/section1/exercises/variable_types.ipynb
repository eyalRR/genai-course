{
 "cells": [
  {
   "cell_type": "markdown",
   "metadata": {},
   "source": [
    "# Variable Types"
   ]
  },
  {
   "cell_type": "markdown",
   "metadata": {},
   "source": [
    "**Example:**\n",
    "```python\n",
    "age = 25          # Integer\n",
    "price = 19.99     # Float\n",
    "name = \"Alice\"    # String\n",
    "is_adult = True   # Boolean\n",
    "\n",
    "print(type(age))\n",
    "print(type(price))\n",
    "print(type(name))\n",
    "print(type(is_adult))\n",
    "```\n",
    "\n"
   ]
  },
  {
   "cell_type": "markdown",
   "metadata": {},
   "source": [
    "**Exercise:**\n",
    "1. Create a variable `age` and assign it your age as an integer.\n",
    "2. Create a variable `price` and assign it a price value (e.g., 99.99) as a float.\n",
    "3. Create a variable `name` and assign it your name as a string.\n",
    "4. Create a variable `is_python_fun` and assign it a boolean value (`True` or `False`) indicating if you find Python fun.\n",
    "5. Print the type of each variable using the `type()` function."
   ]
  },
  {
   "cell_type": "code",
   "execution_count": null,
   "metadata": {},
   "outputs": [],
   "source": [
    "# Your code here"
   ]
  }
 ],
 "metadata": {
  "kernelspec": {
   "display_name": "Python 3",
   "language": "python",
   "name": "python3"
  },
  "language_info": {
   "codemirror_mode": {
    "name": "ipython",
    "version": 3
   },
   "file_extension": ".py",
   "mimetype": "text/x-python",
   "name": "python",
   "nbconvert_exporter": "python",
   "pygments_lexer": "ipython3",
   "version": "3.8"
  }
 },
 "nbformat": 4,
 "nbformat_minor": 4
}