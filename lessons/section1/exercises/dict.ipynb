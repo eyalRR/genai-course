{
 "cells": [
  {
   "cell_type": "markdown",
   "metadata": {},
   "source": [
    "# Dictionaries"
   ]
  },
  {
   "cell_type": "markdown",
   "metadata": {},
   "source": [
    "Dictionaries in Python are like real-world dictionaries, but for data. They store pairs of keys and values. Each key is unique and immutable (like a word in a dictionary), and each key has an associated value (like the definition of the word).\n",
    "\n",
    "**Basic Example:**\n",
    "```python\n",
    "# A simple dictionary\n",
    "person = {\n",
    "    \"name\": \"Alice\",\n",
    "    \"age\": 25\n",
    "}\n",
    "print(person)\n",
    "print(person[\"name\"])\n",
    "```\n",
    "\n",
    "**Example using JSON-like structure:**\n",
    "Dictionaries are similar to JSON (JavaScript Object Notation) format, which is commonly used for data exchange on the web.\n",
    "\n",
    "```python\n",
    "import json\n",
    "\n",
    "# Python dictionary\n",
    "person_dict = {\n",
    "    \"name\": \"Bob\",\n",
    "    \"age\": 25,\n",
    "    \"city\": \"London\"\n",
    "}\n",
    "\n",
    "# Converting dictionary to JSON string\n",
    "person_json = json.dumps(person_dict)\n",
    "print(person_json)\n",
    "```\n",
    "\n"
   ]
  },
  {
   "cell_type": "markdown",
   "metadata": {},
   "source": [
    "**Exercise:**\n",
    "1. Create a dictionary named `student` with the following keys: \"name\", \"age\", \"major\". Assign them example values.\n",
    "2. Print the dictionary.\n",
    "3. Print the value associated with the \"name\" key.\n",
    "4. Add a new key-value pair to the dictionary: \"city\" and an example city name.\n",
    "5. Print the updated dictionary.\n",
    "6. Change the value of the \"age\" key to a new age.\n",
    "7. Print the dictionary again to show the updated age."
   ]
  },
  {
   "cell_type": "code",
   "execution_count": null,
   "metadata": {},
   "outputs": [],
   "source": [
    "# Your code here"
   ]
  }
 ],
 "metadata": {
  "kernelspec": {
   "display_name": "Python 3",
   "language": "python",
   "name": "python3"
  },
  "language_info": {
   "codemirror_mode": {
    "name": "ipython",
    "version": 3
   },
   "file_extension": ".py",
   "mimetype": "text/x-python",
   "name": "python",
   "nbconvert_exporter": "python",
   "pygments_lexer": "ipython3",
   "version": "3.8"
  }
 },
 "nbformat": 4,
 "nbformat_minor": 4
}
