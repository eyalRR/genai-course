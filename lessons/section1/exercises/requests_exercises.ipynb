{
 "cells": [
  {
   "cell_type": "markdown",
   "metadata": {},
   "source": [
    "# HTTP Requests\n",
    "\n",
    "This section covers making HTTP requests in Python using the `requests` library. We'll focus on GET and POST requests without authentication and reading JSON responses.\n",
    "\n",
    "## GET Requests\n",
    "\n",
    "GET requests are used to retrieve data from a server. You can use the `requests.get()` method to make a GET request.\n",
    "\n",
    "**Example:**\n",
    "\n",
    "```python\n",
    "import requests\n",
    "\n",
    "response = requests.get('https://jsonplaceholder.typicode.com/todos/1')\n",
    "print(response.json())\n",
    "```\n",
    "\n",
    "## POST Requests\n",
    "\n",
    "POST requests are used to send data to a server. You can use the `requests.post()` method to make a POST request.\n",
    "\n",
    "**Example:**\n",
    "\n",
    "```python\n",
    "import requests\n",
    "import json\n",
    "\n",
    "data = {'title': 'foo', 'body': 'bar', 'userId': 1}\n",
    "response = requests.post('https://jsonplaceholder.typicode.com/posts', json=data)\n",
    "print(response.json())\n",
    "```\n",
    "\n",
    "## Reading JSON Responses\n",
    "\n",
    "When a server returns a JSON response, you can use the `response.json()` method to parse the JSON data into a Python dictionary.\n",
    "\n",
    "**Exercise 1:**\n",
    "\n",
    "Make a GET request to `https://jsonplaceholder.typicode.com/todos/2` and print the JSON response.\n",
    "\n",
    "**Exercise 2:**\n",
    "\n",
    "Make a POST request to `https://jsonplaceholder.typicode.com/posts` with the following data: `{'title': 'my title', 'body': 'my body', 'userId': 2}` and print the JSON response.\n"
   ]
  }
 ],
 "metadata": {
  "kernelspec": {
   "display_name": "Python 3",
   "language": "python",
   "name": "python3"
  },
  "language_info": {
   "codemirror_mode": {
    "name": "ipython",
    "version": 3
   },
   "file_extension": ".py",
   "mimetype": "text/x-python",
   "name": "python",
   "nbconvert_exporter": "python",
   "pygments_lexer": "ipython3",
   "version": "3.8.5"
  }
 },
 "nbformat": 4,
 "nbformat_minor": 5
}
