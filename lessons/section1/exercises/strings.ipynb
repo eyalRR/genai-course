{
 "cells": [
  {
   "cell_type": "markdown",
   "metadata": {},
   "source": [
    "# Strings"
   ]
  },
  {
   "cell_type": "markdown",
   "metadata": {},
   "source": [
    "**Example:**\n",
    "```python\n",
    "greeting = \"Hello\"  # String variable\n",
    "name = \"World\"\n",
    "message = greeting + \", \" + name + \"!\"  # Concatenation\n",
    "print(message)\n",
    "```\n",
    "\n"
   ]
  },
  {
   "cell_type": "markdown",
   "metadata": {},
   "source": [
    "**Exercise:**\n",
    "1. Create two string variables, `first_name` and `last_name`, and assign them your first and last names respectively.\n",
    "2. Concatenate these two variables along with a space in between to form `full_name`.\n",
    "3. Print `full_name` to the console.\n",
    "4. Use an f-string to create a greeting message like \"Hello, [Full Name]!\" and print it."
   ]
  },
  {
   "cell_type": "code",
   "execution_count": null,
   "metadata": {},
   "outputs": [],
   "source": [
    "# Your code here"
   ]
  }
 ],
 "metadata": {
  "kernelspec": {
   "display_name": "Python 3",
   "language": "python",
   "name": "python3"
  },
  "language_info": {
   "codemirror_mode": {
    "name": "ipython",
    "version": 3
   },
   "file_extension": ".py",
   "mimetype": "text/x-python",
   "name": "python",
   "nbconvert_exporter": "python",
   "pygments_lexer": "ipython3",
   "version": "3.8"
  }
 },
 "nbformat": 4,
 "nbformat_minor": 4
}