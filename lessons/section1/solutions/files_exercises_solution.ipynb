{
 "cells": [
  {
   "cell_type": "markdown",
   "metadata": {},
   "source": [
    "# File Operations Solutions\n",
    "\n",
    "This notebook contains the solutions to the file operations exercises.\n"
   ]
  },
  {
   "cell_type": "code",
   "execution_count": null,
   "metadata": {},
   "outputs": [],
   "source": [
    "# Exercise 1 Solution:\n",
    "# Create a file named `my_file.txt` and write the following text to it: \"This is my first file operation exercise.\"\n",
    "\n",
    "with open('my_file.txt', 'w') as file:\n",
    "    file.write('This is my first file operation exercise.')"
   ]
  },
  {
   "cell_type": "code",
   "execution_count": null,
   "metadata": {},
   "outputs": [],
   "source": [
    "# Exercise 2 Solution:\n",
    "# Read the content of `my_file.txt` and print it to the console.\n",
    "\n",
    "with open('my_file.txt', 'r') as file:\n",
    "    content = file.read()\n",
    "    print(content)"
   ]
  },
  {
   "cell_type": "code",
   "execution_count": null,
   "metadata": {},
   "outputs": [],
   "source": [
    "# Exercise 3 Solution:\n",
    "# Create a `.env` file with a variable named `MY_NAME` and set it to your name. Then, read the variable from the `.env` file and print it to the console.\n",
    "\n",
    "with open('.env', 'w') as file:\n",
    "    file.write('MY_NAME=Your Name') # Replace 'Your Name' with your actual name\n",
    "\n",
    "from dotenv import load_dotenv\n",
    "import os\n",
    "\n",
    "load_dotenv()\n",
    "\n",
    "my_name = os.getenv('MY_NAME')\n",
    "print(my_name)"
   ]
  }
 ],
 "metadata": {
  "kernelspec": {
   "display_name": "Python 3",
   "language": "python",
   "name": "python3"
  },
  "language_info": {
   "codemirror_mode": {
    "name": "ipython",
    "version": 3
   },
   "file_extension": ".py",
   "mimetype": "text/x-python",
   "name": "python",
   "nbconvert_exporter": "python",
   "pygments_lexer": "ipython3",
   "version": "3.8.5"
  }
 },
 "nbformat": 4,
 "nbformat_minor": 5
}
