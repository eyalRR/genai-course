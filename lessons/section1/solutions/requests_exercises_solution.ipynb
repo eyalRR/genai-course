{
 "cells": [
  {
   "cell_type": "markdown",
   "metadata": {},
   "source": [
    "# HTTP Requests Solutions\n",
    "\n",
    "This notebook contains the solutions to the HTTP requests exercises.\n"
   ]
  },
  {
   "cell_type": "code",
   "execution_count": null,
   "metadata": {},
   "outputs": [],
   "source": [
    "# Exercise 1 Solution:\n",
    "# Make a GET request to `https://jsonplaceholder.typicode.com/todos/2` and print the JSON response.\n",
    "\n",
    "import requests\n",
    "\n",
    "response = requests.get('https://jsonplaceholder.typicode.com/todos/2')\n",
    "print(response.json())"
   ]
  },
  {
   "cell_type": "code",
   "execution_count": null,
   "metadata": {},
   "outputs": [],
   "source": [
    "# Exercise 2 Solution:\n",
    "# Make a POST request to `https://jsonplaceholder.typicode.com/posts` with the following data: `{'title': 'my title', 'body': 'my body', 'userId': 2}` and print the JSON response.\n",
    "\n",
    "import requests\n",
    "import json\n",
    "\n",
    "data = {'title': 'my title', 'body': 'my body', 'userId': 2}\n",
    "response = requests.post('https://jsonplaceholder.typicode.com/posts', json=data)\n",
    "print(response.json())"
   ]
  }
 ],
 "metadata": {
  "kernelspec": {
   "display_name": "Python 3",
   "language": "python",
   "name": "python3"
  },
  "language_info": {
   "codemirror_mode": {
    "name": "ipython",
    "version": 3
   },
   "file_extension": ".py",
   "mimetype": "text/x-python",
   "name": "python",
   "nbconvert_exporter": "python",
   "pygments_lexer": "ipython3",
   "version": "3.8.5"
  }
 },
 "nbformat": 4,
 "nbformat_minor": 5
}
