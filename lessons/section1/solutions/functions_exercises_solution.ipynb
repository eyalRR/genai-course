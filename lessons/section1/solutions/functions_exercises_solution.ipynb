{
 "cells": [
  {
   "cell_type": "markdown",
   "metadata": {},
   "source": [
    "# Functions Solutions\n",
    "\n",
    "This notebook contains the solutions to the functions exercises.\n"
   ]
  },
  {
   "cell_type": "code",
   "execution_count": null,
   "metadata": {},
   "outputs": [],
   "source": [
    "# Exercise 1 Solution:\n",
    "# Write a function called `add` that takes two numbers as parameters and returns their sum. Then, call the function with the arguments 5 and 3 and print the result.\n",
    "\n",
    "def add(x, y):\n",
    "    return x + y\n",
    "\n",
    "result = add(5, 3)\n",
    "print(result)"
   ]
  },
  {
   "cell_type": "code",
   "execution_count": null,
   "metadata": {},
   "outputs": [],
   "source": [
    "# Exercise 2 Solution:\n",
    "# Write a function called `multiply` that takes three numbers as parameters and returns their product. Then, call the function with the arguments 2, 4, and 6 and print the result.\n",
    "\n",
    "def multiply(x, y, z):\n",
    "    return x * y * z\n",
    "\n",
    "result = multiply(2, 4, 6)\n",
    "print(result)"
   ]
  }
 ],
 "metadata": {
  "kernelspec": {
   "display_name": "Python 3",
   "language": "python",
   "name": "python3"
  },
  "language_info": {
   "codemirror_mode": {
    "name": "ipython",
    "version": 3
   },
   "file_extension": ".py",
   "mimetype": "text/x-python",
   "name": "python",
   "nbconvert_exporter": "python",
   "pygments_lexer": "ipython3",
   "version": "3.8.5"
  }
 },
 "nbformat": 4,
 "nbformat_minor": 5
}
