{
 "cells": [
  {
   "cell_type": "markdown",
   "metadata": {},
   "source": [
    "# Lists - Solution"
   ]
  },
  {
   "cell_type": "markdown",
   "metadata": {},
   "source": [
    "**Example:**\n",
    "```python\n",
    "# List of numbers\n",
    "numbers = [1, 2, 3, 4, 5]\n",
    "print(numbers)\n",
    "\n",
    "# Accessing elements\n",
    "print(numbers[0])  # First element\n",
    "print(numbers[-1]) # Last element\n",
    "```\n",
    "\n",
    "**Output:**\n",
    "```\n",
    "[1, 2, 3, 4, 5]\n",
    "1\n",
    "5\n",
    "```"
   ]
  },
  {
   "cell_type": "markdown",
   "metadata": {},
   "source": [
    "**Exercise:**\n",
    "1. Create a list named `programming_languages` with at least 5 programming languages.\n",
    "2. Print the list.\n",
    "3. Print the first item in the list.\n",
    "4. Print the last item in the list using negative indexing.\n",
    "5. Change the second item in the list to \"JavaScript\".\n",
    "6. Print the updated list."
   ]
  },
  {
   "cell_type": "code",
   "execution_count": null,
   "metadata": {},
   "outputs": [
    {
     "name": "stdout",
     "output_type": "stream",
     "text": [
      "['Python', 'Java', 'C++', 'C#', 'Ruby']\n",
      "Python\n",
      "Ruby\n",
      "['Python', 'JavaScript', 'C++', 'C#', 'Ruby']\n"
     ]
    }
   ],
   "source": [
    "# Solution\n",
    "\n",
    "# 1. Create a list named programming_languages with at least 5 programming languages.\n",
    "programming_languages = [\"Python\", \"Java\", \"C++\", \"C#\", \"Ruby\"]\n",
    "\n",
    "# 2. Print the list.\n",
    "print(programming_languages)\n",
    "\n",
    "# 3. Print the first item in the list.\n",
    "print(programming_languages[0])\n",
    "\n",
    "# 4. Print the last item in the list using negative indexing.\n",
    "print(programming_languages[-1])\n",
    "\n",
    "# 5. Change the second item in the list to \"JavaScript\".\n",
    "programming_languages[1] = \"JavaScript\"\n",
    "\n",
    "# 6. Print the updated list.\n",
    "print(programming_languages)"
   ]
  }
 ],
 "metadata": {
  "kernelspec": {
   "display_name": "Python 3",
   "language": "python",
   "name": "python3"
  },
  "language_info": {
   "codemirror_mode": {
    "name": "ipython",
    "version": 3
   },
   "file_extension": ".py",
   "mimetype": "text/x-python",
   "name": "python",
   "nbconvert_exporter": "python",
   "pygments_lexer": "ipython3",
   "version": "3.8"
  }
 },
 "nbformat": 4,
 "nbformat_minor": 4
}