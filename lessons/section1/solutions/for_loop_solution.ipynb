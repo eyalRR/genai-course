{
 "cells": [
  {
   "cell_type": "markdown",
   "metadata": {},
   "source": [
    "# For Loop - Solution"
   ]
  },
  {
   "cell_type": "markdown",
   "metadata": {},
   "source": [
    "**Basic Example:**\n",
    "```python\n",
    "numbers = [1, 2, 3]\n",
    "for number in numbers:\n",
    "    print(number)\n",
    "```\n",
    "\n",
    "**Output:**\n",
    "```\n",
    "1\n",
    "2\n",
    "3\n",
    "```\n",
    "\n",
    "**Example using `range()`:**\n",
    "The `range()` function is often used with for loops to iterate a specific number of times. It generates a sequence of numbers.\n",
    "\n",
    "```python\n",
    "# Using range() to print numbers from 0 to 4\n",
    "for i in range(5):\n",
    "    print(i)\n",
    "```\n",
    "\n",
    "**Output:**\n",
    "```\n",
    "0\n",
    "1\n",
    "2\n",
    "3\n",
    "4\n",
    "```"
   ]
  },
  {
   "cell_type": "markdown",
   "metadata": {},
   "source": [
    "**Exercise:**\n",
    "1. Create a list named `colors` containing the strings: \"red\", \"green\", \"blue\".\n",
    "2. Use a `for` loop to iterate through the `colors` list and print each color."
   ]
  },
  {
   "cell_type": "code",
   "execution_count": null,
   "metadata": {},
   "outputs": [
    {
     "name": "stdout",
     "output_type": "stream",
     "text": [
      "red\n",
      "green\n",
      "blue\n"
     ]
    }
   ],
   "source": [
    "# Solution\n",
    "\n",
    "# 1. Create a list named colors containing the strings: \"red\", \"green\", \"blue\".\n",
    "colors = [\"red\", \"green\", \"blue\"]\n",
    "\n",
    "# 2. Use a for loop to iterate through the colors list and print each color.\n",
    "for color in colors:\n",
    "    print(color)"
   ]
  }
 ],
 "metadata": {
  "kernelspec": {
   "display_name": "Python 3",
   "language": "python",
   "name": "python3"
  },
  "language_info": {
   "codemirror_mode": {
    "name": "ipython",
    "version": 3
   },
   "file_extension": ".py",
   "mimetype": "text/x-python",
   "name": "python",
   "nbconvert_exporter": "python",
   "pygments_lexer": "ipython3",
   "version": "3.8"
  }
 },
 "nbformat": 4,
 "nbformat_minor": 4
}