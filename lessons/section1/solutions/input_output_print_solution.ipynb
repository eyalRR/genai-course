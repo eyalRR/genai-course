{
 "cells": [
  {
   "cell_type": "markdown",
   "metadata": {},
   "source": [
    "# Input / Output (Print) - Solution"
   ]
  },
  {
   "cell_type": "markdown",
   "metadata": {},
   "source": [
    "**Example:**\n",
    "```python\n",
    "name = input(\"What is your name? \")\n",
    "print(\"Hello, \" + name + \"!\")\n",
    "```\n",
    "\n",
    "**Output:**\n",
    "```\n",
    "What is your name? User\n",
    "Hello, User!\n",
    "```"
   ]
  },
  {
   "cell_type": "markdown",
   "metadata": {},
   "source": [
    "**Exercise:**\n",
    "1. Write a Python program that asks the user to enter their name using the `input()` function.\n",
    "2. Print a personalized greeting to the user, such as \"Hello, [Name]! Welcome to Python!\", using the `print()` function and string concatenation."
   ]
  },
  {
   "cell_type": "code",
   "execution_count": null,
   "metadata": {},
   "outputs": [
    {
     "name": "stdout",
     "output_type": "stream",
     "text": [
      "Enter your name: Roo\n",
      "Hello, Roo! Welcome to Python!\n"
     ]
    }
   ],
   "source": [
    "# Solution\n",
    "\n",
    "# 1. Write a Python program that asks the user to enter their name using the input() function.\n",
    "name = input(\"Enter your name: \")\n",
    "\n",
    "# 2. Print a personalized greeting to the user.\n",
    "print(\"Hello, \" + name + \"! Welcome to Python!\")"
   ]
  }
 ],
 "metadata": {
  "kernelspec": {
   "display_name": "Python 3",
   "language": "python",
   "name": "python3"
  },
  "language_info": {
   "codemirror_mode": {
    "name": "ipython",
    "version": 3
   },
   "file_extension": ".py",
   "mimetype": "text/x-python",
   "name": "python",
   "nbconvert_exporter": "python",
   "pygments_lexer": "ipython3",
   "version": "3.8"
  }
 },
 "nbformat": 4,
 "nbformat_minor": 4
}