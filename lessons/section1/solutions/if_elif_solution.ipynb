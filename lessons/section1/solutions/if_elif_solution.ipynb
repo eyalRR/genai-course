{
 "cells": [
  {
   "cell_type": "markdown",
   "metadata": {},
   "source": [
    "# If Elif Statements - Solution"
   ]
  },
  {
   "cell_type": "markdown",
   "metadata": {},
   "source": [
    "**Example:**\n",
    "```python\n",
    "temperature = 25\n",
    "\n",
    "if temperature > 30:\n",
    "    print(\"It's hot!\")\n",
    "elif temperature > 20:\n",
    "    print(\"It's warm.\")\n",
    "else:\n",
    "    print(\"It's cool.\")\n",
    "```\n",
    "\n",
    "**Output:**\n",
    "```\n",
    "It's warm.\n",
    "```"
   ]
  },
  {
   "cell_type": "markdown",
   "metadata": {},
   "source": [
    "**Exercise:**\n",
    "1. Ask the user to enter their age using `input()` and store it in a variable `user_age`.\n",
    "2. Write an `if-elif-else` statement to check the age and print the following messages:\n",
    "   - If `user_age` is less than 13, print \"Child\".\n",
    "   - If `user_age` is between 13 and 19 (inclusive), print \"Teenager\".\n",
    "   - Otherwise, print \"Adult\"."
   ]
  },
  {
   "cell_type": "code",
   "execution_count": null,
   "metadata": {},
   "outputs": [
    {
     "name": "stdout",
     "output_type": "stream",
     "text": [
      "Enter your age: 25\n",
      "Adult\n"
     ]
    }
   ],
   "source": [
    "# Solution\n",
    "\n",
    "# 1. Ask the user to enter their age using input() and store it in a variable user_age.\n",
    "user_age = int(input(\"Enter your age: \"))\n",
    "\n",
    "# 2. Write an if-elif-else statement to check the age and print messages.\n",
    "if user_age < 13:\n",
    "    print(\"Child\")\n",
    "elif 13 <= user_age <= 19:\n",
    "    print(\"Teenager\")\n",
    "else:\n",
    "    print(\"Adult\")"
   ]
  }
 ],
 "metadata": {
  "kernelspec": {
   "display_name": "Python 3",
   "language": "python",
   "name": "python3"
  },
  "language_info": {
   "codemirror_mode": {
    "name": "ipython",
    "version": 3
   },
   "file_extension": ".py",
   "mimetype": "text/x-python",
   "name": "python",
   "nbconvert_exporter": "python",
   "pygments_lexer": "ipython3",
   "version": "3.8"
  }
 },
 "nbformat": 4,
 "nbformat_minor": 4
}