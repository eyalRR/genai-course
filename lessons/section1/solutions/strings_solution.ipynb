{
 "cells": [
  {
   "cell_type": "markdown",
   "metadata": {},
   "source": [
    "# Strings - Solution"
   ]
  },
  {
   "cell_type": "markdown",
   "metadata": {},
   "source": [
    "**Example:**\n",
    "```python\n",
    "first_name = \"John\"\n",
    "last_name = \"Doe\"\n",
    "full_name = first_name + \" \" + last_name\n",
    "print(full_name)\n",
    "```\n",
    "\n",
    "**Output:**\n",
    "```\n",
    "John Doe\n",
    "```"
   ]
  },
  {
   "cell_type": "markdown",
   "metadata": {},
   "source": [
    "**Exercise:**\n",
    "1. Create two string variables, `first_name` and `last_name`, and assign them your first and last names respectively.\n",
    "2. Concatenate these two variables along with a space in between to form `full_name`.\n",
    "3. Print `full_name` to the console.\n",
    "4. Use an f-string to create a greeting message like \"Hello, [Full Name]!\" and print it."
   ]
  },
  {
   "cell_type": "code",
   "execution_count": null,
   "metadata": {},
   "outputs": [
    {
     "name": "stdout",
     "output_type": "stream",
     "text": [
      "Roo Bot\n",
      "Hello, Roo Bot!\n"
     ]
    }
   ],
   "source": [
    "# Solution\n",
    "\n",
    "# 1. Create two string variables, first_name and last_name, and assign them your first and last names respectively.\n",
    "first_name = \"Roo\"\n",
    "last_name = \"Bot\"\n",
    "\n",
    "# 2. Concatenate these two variables along with a space in between to form full_name.\n",
    "full_name = first_name + \" \" + last_name\n",
    "\n",
    "# 3. Print full_name to the console.\n",
    "print(full_name)\n",
    "\n",
    "# 4. Use an f-string to create a greeting message like \"Hello, [Full Name]!\" and print it.\n",
    "greeting_message = f\"Hello, {full_name}!\"\n",
    "print(greeting_message)"
   ]
  }
 ],
 "metadata": {
  "kernelspec": {
   "display_name": "Python 3",
   "language": "python",
   "name": "python3"
  },
  "language_info": {
   "codemirror_mode": {
    "name": "ipython",
    "version": 3
   },
   "file_extension": ".py",
   "mimetype": "text/x-python",
   "name": "python",
   "nbconvert_exporter": "python",
   "pygments_lexer": "ipython3",
   "version": "3.8"
  }
 },
 "nbformat": 4,
 "nbformat_minor": 4
}