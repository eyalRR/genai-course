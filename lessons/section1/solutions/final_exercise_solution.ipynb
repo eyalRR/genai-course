{
 "cells": [
  {
   "cell_type": "markdown",
   "metadata": {},
   "source": [
    "## Solution: Israeli Football Python Exercise 🇮🇱⚽\n",
    "\n",
    "This notebook provides the solutions to the Israeli Football Python Exercise. Remember to try solving the exercises on your own first before checking the solutions!\n",
    "\n",
    "---\n",
    "\n",
    "### Part 1: Variables and Input/Output\n"
   ]
  },
  {
   "cell_type": "code",
   "execution_count": null,
   "metadata": {},
   "outputs": [],
   "source": [
    "# Part 1: Variables and Input/Output\n",
    "favorite_team = input(\"Enter your favorite Israeli football team: \")\n",
    "print(\"Great choice! \" + favorite_team + \" rocks the pitch!\")"
   ]
  },
  {
   "cell_type": "markdown",
   "metadata": {},
   "source": [
    "### Part 2: Lists\n"
   ]
  },
  {
   "cell_type": "code",
   "execution_count": null,
   "metadata": {},
   "outputs": [],
   "source": [
    "# Part 2: Lists\n",
    "teams = [\"Maccabi Tel Aviv\", \"Hapoel Tel Aviv\", \"Beitar Jerusalem\", \"Maccabi Haifa\"]\n",
    "\n",
    "print(\"\\nThe teams in the league are:\")\n",
    "for team in teams:\n",
    "    print(team)"
   ]
  },
  {
   "cell_type": "markdown",
   "metadata": {},
   "source": [
    "### Part 3: Dictionaries and For Loops\n"
   ]
  },
  {
   "cell_type": "code",
   "execution_count": null,
   "metadata": {},
   "outputs": [],
   "source": [
    "# Part 3: Dictionaries and For Loops\n",
    "star_players = {\n",
    "    \"Maccabi Tel Aviv\": \"Eran Zahavi\",\n",
    "    \"Hapoel Tel Aviv\": \"Omer Damari\",\n",
    "    \"Beitar Jerusalem\": \"Yossi Benayoun\",\n",
    "    \"Maccabi Haifa\": \"Lior Refaelov\"\n",
    "}\n",
    "\n",
    "print(\"\\nCheck out these star players:\")\n",
    "for team, player in star_players.items():\n",
    "    print(\"Team: \" + team + \" | Star Player: \" + player)"
   ]
  },
  {
   "cell_type": "markdown",
   "metadata": {},
   "source": [
    "### Part 4: If/Elif/Else Statements with Input/Output\n"
   ]
  },
  {
   "cell_type": "code",
   "execution_count": null,
   "metadata": {},
   "outputs": [],
   "source": [
    "# Part 4: If/Elif/Else Statements with Input/Output\n",
    "team_input = input(\"\\nEnter a team name to see its star player: \")\n",
    "\n",
    "if team_input in star_players:\n",
    "    print(\"The star player of \" + team_input + \" is \" + star_players[team_input] + \"!\")\n",
    "elif team_input == \"\":\n",
    "    print(\"Oops! You didn't enter any team name!\")\n",
    "else:\n",
    "    print(\"Hmm... we don't have data for \" + team_input + \". Maybe it's a new team on the rise?\")"
   ]
  },
  {
   "cell_type": "markdown",
   "metadata": {},
   "source": [
    "### Part 5: While Loop for Repeated Queries\n"
   ]
  },
  {
   "cell_type": "code",
   "execution_count": null,
   "metadata": {},
   "outputs": [],
   "source": [
    "# Part 5: While Loop for Repeated Queries\n",
    "while True:\n",
    "    user_team = input(\"\\nEnter a team name to see its star player (or type 'exit' to quit): \")\n",
    "    \n",
    "    if user_team.lower() == \"exit\":\n",
    "        print(\"Thanks for checking out Israeli football data. See you on the pitch!\")\n",
    "        break\n",
    "    elif user_team in star_players:\n",
    "        print(\"The star player of \" + user_team + \" is \" + star_players[user_team] + \"!\")\n",
    "    else:\n",
    "        print(\"Sorry, we don't have data for \" + user_team + \".\")"
   ]
  },
  {
   "cell_type": "markdown",
   "metadata": {},
   "source": [
    "### Part 6: String Operations\n"
   ]
  },
  {
   "cell_type": "code",
   "execution_count": null,
   "metadata": {},
   "outputs": [],
   "source": [
    "# Part 6: String Operations\n",
    "team_example = \"maccabi tel aviv\"\n",
    "print(\"\\nTeam in uppercase: \" + team_example.upper())\n",
    "\n",
    "if \"tel\" in team_example:\n",
    "    print(\"This team hails from Tel Aviv! Goal!\")"
   ]
  }
 ],
 "metadata": {
  "kernelspec": {
   "display_name": "Python 3",
   "language": "python",
   "name": "python3"
  },
  "language_info": {
   "codemirror_mode": {
    "name": "ipython",
    "version": 3
   },
   "file_extension": ".py",
   "mimetype": "text/x-python",
   "name": "python",
   "nbconvert_exporter": "python",
   "pygments_lexer": "ipython3",
   "version": "3.8.5"
  }
 },
 "nbformat": 4,
 "nbformat_minor": 5
}