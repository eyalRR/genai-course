{
 "cells": [
  {
   "cell_type": "markdown",
   "metadata": {},
   "source": [
    "# Variables - Solution"
   ]
  },
  {
   "cell_type": "markdown",
   "metadata": {},
   "source": [
    "**Example:**\n",
    "```python\n",
    "message = \"Hello\"\n",
    "n = 100\n",
    "print(message)\n",
    "print(n)\n",
    "```\n",
    "\n",
    "**Output:**\n",
    "```\n",
    "Hello\n",
    "100\n",
    "```"
   ]
  },
  {
   "cell_type": "markdown",
   "metadata": {},
   "source": [
    "**Exercise:**\n",
    "1. Create a variable named `greeting` and assign it the string value \"Hello\".\n",
    "2. Create a variable named `number` and assign it the integer value `10`.\n",
    "3. Print both variables to the console."
   ]
  },
  {
   "cell_type": "code",
   "execution_count": null,
   "metadata": {},
   "outputs": [
    {
     "name": "stdout",
     "output_type": "stream",
     "text": [
      "Hello\n",
      "10\n"
     ]
    }
   ],
   "source": [
    "# Solution\n",
    "\n",
    "# 1. Create a variable named greeting and assign it the string value \"Hello\".\n",
    "greeting = \"Hello\"\n",
    "\n",
    "# 2. Create a variable named number and assign it the integer value 10.\n",
    "number = 10\n",
    "\n",
    "# 3. Print both variables to the console.\n",
    "print(greeting)\n",
    "print(number)"
   ]
  }
 ],
 "metadata": {
  "kernelspec": {
   "display_name": "Python 3",
   "language": "python",
   "name": "python3"
  },
  "language_info": {
   "codemirror_mode": {
    "name": "ipython",
    "version": 3
   },
   "file_extension": ".py",
   "mimetype": "text/x-python",
   "name": "python",
   "nbconvert_exporter": "python",
   "pygments_lexer": "ipython3",
   "version": "3.8"
  }
 },
 "nbformat": 4,
 "nbformat_minor": 4
}