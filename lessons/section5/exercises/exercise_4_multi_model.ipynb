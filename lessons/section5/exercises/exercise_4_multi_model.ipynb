{
 "cells": [
  {
   "cell_type": "markdown",
   "id": "6d46a89c",
   "metadata": {},
   "source": [
    "### Setup code"
   ]
  },
  {
   "cell_type": "code",
   "execution_count": 1,
   "id": "b6caebd5",
   "metadata": {},
   "outputs": [
    {
     "name": "stdout",
     "output_type": "stream",
     "text": [
      "✅ Replicate API Token loaded successfully.\n"
     ]
    }
   ],
   "source": [
    "import replicate\n",
    "import os\n",
    "from dotenv import load_dotenv\n",
    "import requests\n",
    "import time\n",
    "from IPython.display import Image, display # To display images in the notebook\n",
    "\n",
    "# Load environment variables from .env file (searches current dir and parents)\n",
    "load_dotenv()\n",
    "\n",
    "api_token = os.getenv(\"REPLICATE_API_KEY\")\n",
    "os.environ[\"REPLICATE_API_TOKEN\"] = api_token\n",
    "\n",
    "if not api_token:\n",
    "    print(\"⚠️ Warning: REPLICATE_API_TOKEN not found.\")\n",
    "    print(\"   Please ensure a .env file exists in the project root directory\")\n",
    "    print(\"   with the line: REPLICATE_API_TOKEN=your_actual_token\")\n",
    "else:\n",
    "    print(\"✅ Replicate API Token loaded successfully.\")"
   ]
  },
  {
   "cell_type": "markdown",
   "id": "1ec61981",
   "metadata": {},
   "source": [
    "## 1. MMAudio: Audio-driven Talking Video Generation\n",
    "Add sound to video using the MMAudio V2 model. An advanced AI model that synthesizes high-quality audio from video content, enabling seamless video-to-audio transformation.\n",
    "\n",
    "https://replicate.com/zsxkib/mmaudio"
   ]
  },
  {
   "cell_type": "code",
   "execution_count": null,
   "metadata": {},
   "outputs": [
    {
     "name": "stdout",
     "output_type": "stream",
     "text": [
      "https://replicate.delivery/xezq/WwirkVYnB0beAaNF9Glsuqeyf03BGeDnm8BchEnykIIhbENSB/20250416_074349.mp4\n"
     ]
    }
   ],
   "source": [
    "import replicate\n",
    "\n",
    "output = replicate.run(\n",
    "    \"zsxkib/mmaudio:62871fb59889b2d7c13777f08deb3b36bdff88f7e1d53a50ad7694548a41b484\",\n",
    "    input={\n",
    "        \"video\": \"http://commondatastorage.googleapis.com/gtv-videos-bucket/sample/ForBiggerJoyrides.mp4\"\n",
    "        }\n",
    ")\n",
    "print(output)"
   ]
  },
  {
   "cell_type": "markdown",
   "metadata": {},
   "source": [
    "## 2. MEMO: Audio-driven Talking Video Generation\n",
    "MEMO is a state-of-the-art open-weight model for audio-driven talking video generation.\n",
    "\n",
    "https://replicate.com/zsxkib/memo"
   ]
  },
  {
   "cell_type": "markdown",
   "metadata": {},
   "source": [
    "## 3. Orpheus 3B: Text to Speech\n",
    "Orpheus 3B - high quality, emotive Text to Speech\n",
    "\n",
    "https://replicate.com/lucataco/orpheus-3b-0.1-ft"
   ]
  },
  {
   "cell_type": "code",
   "execution_count": 9,
   "metadata": {},
   "outputs": [
    {
     "name": "stdout",
     "output_type": "stream",
     "text": [
      "https://replicate.delivery/xezq/nYwqASP3YTJCBlZP9cZefMY51FpAoVWaIOk8LpBILEJvWRjUA/output.wav\n"
     ]
    }
   ],
   "source": [
    "output = replicate.run(\n",
    "    \"lucataco/orpheus-3b-0.1-ft:79f2a473e6a9720716a473d9b2f2951437dbf91dc02ccb7079fb3d89b881207f\",\n",
    "    input={\n",
    "        \"text\": \"Hey there my name is Tara, <chuckle> and I'm a speech generation model that can sound like a person.\",\n",
    "        \"top_p\": 0.95,\n",
    "        \"voice\": \"tara\",\n",
    "        \"temperature\": 0.6,\n",
    "        \"max_new_tokens\": 1200,\n",
    "        \"repetition_penalty\": 1.1\n",
    "    }\n",
    ")\n",
    "print(output)"
   ]
  },
  {
   "cell_type": "markdown",
   "metadata": {},
   "source": [
    "## 4. Hunyuan3D-2mv: Multiview Controlled Shape Generation\n",
    "Hunyuan3D-2mv is finetuned from Hunyuan3D-2 to support multiview controlled shape generation.\n",
    "\n",
    "https://replicate.com/tencent/hunyuan3d-2mv"
   ]
  }
 ],
 "metadata": {
  "kernelspec": {
   "display_name": "genaienv",
   "language": "python",
   "name": "python3"
  },
  "language_info": {
   "codemirror_mode": {
    "name": "ipython",
    "version": 3
   },
   "file_extension": ".py",
   "mimetype": "text/x-python",
   "name": "python",
   "nbconvert_exporter": "python",
   "pygments_lexer": "ipython3",
   "version": "3.12.9"
  }
 },
 "nbformat": 4,
 "nbformat_minor": 5
}
