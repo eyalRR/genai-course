{
 "cells": [
  {
   "cell_type": "markdown",
   "metadata": {},
   "source": [
    "# Exercise 3: Video Generation\n",
    "\n",
    "In this exercise, we will create a video dataset, train a video model, and generate a video using the trained model."
   ]
  },
  {
   "cell_type": "markdown",
   "id": "c5829b85",
   "metadata": {},
   "source": [
    "## Video Dataset Creation (Online)\n",
    "\n",
    "1.  Go to [https://replicate.com/zsxkib/create-video-dataset](https://replicate.com/zsxkib/create-video-dataset)\n",
    "2.  Enter the desired prompt, number of frames, and other parameters.\n",
    "3.  Run the model to create the video dataset.\n",
    "\n",
    "**Additional Notes:**\n",
    "*   Number of scenes: 8\n",
    "*   Custom captions: Describe the video clip briefly, focusing on the main action and visual elements\n"
   ]
  },
  {
   "cell_type": "markdown",
   "id": "76551e76",
   "metadata": {},
   "source": [
    "## Hunyuan-Video LoRA Training (Online)\n",
    "\n",
    "1.  Go to [https://replicate.com/zsxkib/hunyuan-video-lora/train](https://replicate.com/zsxkib/hunyuan-video-lora/train)\n",
    "2.  Use the output from the video dataset creation as the `train_data` input.\n",
    "3.  Run the model to train the Hunyuan-Video LoRA model.\n",
    "4. choose trigger word\n",
    "5. set epochs to 4 and batch size to 8 (faster training)"
   ]
  },
  {
   "cell_type": "markdown",
   "id": "2abb461b",
   "metadata": {},
   "source": [
    "## Video Generation\n",
    "\n",
    "We will generate a video with the model trained. Since the first 2 steps are done online, we will use the `lora_url` from the training output."
   ]
  },
  {
   "cell_type": "code",
   "execution_count": 1,
   "id": "91c6fa21",
   "metadata": {},
   "outputs": [
    {
     "name": "stdout",
     "output_type": "stream",
     "text": [
      "✅ Replicate API Token loaded successfully.\n"
     ]
    }
   ],
   "source": [
    "import replicate\n",
    "import os\n",
    "from dotenv import load_dotenv\n",
    "import requests\n",
    "import time\n",
    "from IPython.display import Image, display # To display images in the notebook\n",
    "\n",
    "# Load environment variables from .env file (searches current dir and parents)\n",
    "load_dotenv()\n",
    "\n",
    "api_token = os.getenv(\"REPLICATE_API_KEY\")\n",
    "os.environ[\"REPLICATE_API_TOKEN\"] = api_token\n",
    "\n",
    "if not api_token:\n",
    "    print(\"⚠️ Warning: REPLICATE_API_TOKEN not found.\")\n",
    "    print(\"   Please ensure a .env file exists in the project root directory\")\n",
    "    print(\"   with the line: REPLICATE_API_TOKEN=your_actual_token\")\n",
    "else:\n",
    "    print(\"✅ Replicate API Token loaded successfully.\")"
   ]
  },
  {
   "cell_type": "code",
   "execution_count": 5,
   "id": "ce58b458",
   "metadata": {},
   "outputs": [
    {
     "name": "stdout",
     "output_type": "stream",
     "text": [
      "https://replicate.delivery/xezq/liEryJBStraDIhnnfWTnda3fDBAaefWQqblWnhOOY4GCBDNSB/HunyuanVideo_00001.mp4\n"
     ]
    }
   ],
   "source": [
    "import replicate\n",
    "\n",
    "output = replicate.run(\n",
    "    \"eyalrr/yuval-euro2025:4bbf54217b87c7025a976cd49a046f82464c886ab90dadb3cbf7550dfdf685a9\",\n",
    "    input={\n",
    "        \"prompt\": \"\"\"In a style of RICKROLL. music video, medium shot of young Israeli woman with brown hair. \n",
    "        she is sitting in car and singing inside the forest. camera is moving horizontally back an forth.\"\"\",\n",
    "        \"crf\": 19,\n",
    "        \"steps\": 10,\n",
    "        \"width\": 640,\n",
    "        \"height\": 360,\n",
    "        \"prompt\": \"\",\n",
    "        \"lora_url\": \"\",\n",
    "        \"scheduler\": \"DPMSolverMultistepScheduler\",\n",
    "        \"flow_shift\": 9,\n",
    "        \"frame_rate\": 16,\n",
    "        \"num_frames\": 33,\n",
    "        \"enhance_end\": 1,\n",
    "        \"enhance_start\": 0,\n",
    "        \"force_offload\": True,\n",
    "        \"lora_strength\": 1,\n",
    "        \"enhance_double\": True,\n",
    "        \"enhance_single\": True,\n",
    "        \"enhance_weight\": 0.3,\n",
    "        \"guidance_scale\": 6,\n",
    "        \"denoise_strength\": 1\n",
    "    }\n",
    ")\n",
    "print(output)"
   ]
  }
 ],
 "metadata": {
  "kernelspec": {
   "display_name": "genaienv",
   "language": "python",
   "name": "python3"
  },
  "language_info": {
   "codemirror_mode": {
    "name": "ipython",
    "version": 3
   },
   "file_extension": ".py",
   "mimetype": "text/x-python",
   "name": "python",
   "nbconvert_exporter": "python",
   "pygments_lexer": "ipython3",
   "version": "3.12.9"
  }
 },
 "nbformat": 4,
 "nbformat_minor": 5
}
