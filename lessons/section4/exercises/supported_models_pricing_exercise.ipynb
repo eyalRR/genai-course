{
 "cells": [
  {
   "cell_type": "markdown",
   "metadata": {},
   "source": [
    "# Supported Models and Pricing\n",
    "\n",
    "Understanding the supported models and their pricing is essential for choosing the right model for your task and budget. Different models have different capabilities and costs, so it's important to carefully consider your needs before making a decision.\n",
    "\n",
    "**Theory and Explanations**\n",
    "\n",
    "*   **Model Capabilities**: Different models have different strengths and weaknesses. Some models are better at reasoning, while others are better at generating creative text. Consider the specific requirements of your task when choosing a model.\n",
    "*   **Context Length**: The context length of a model determines how much information it can process at once. Longer context lengths allow the model to maintain context over longer conversations or process larger documents.\n",
    "*   **Pricing**: The pricing of a model depends on the number of input and output tokens used. Be aware of the pricing structure and monitor your usage to avoid unexpected costs.\n",
    "\n",
    "**Supported Models**\n",
    "\n",
    "| Model Name          | Context Length | Model Type      |\n",
    "|---------------------|----------------|-------------------|\n",
    "| sonar-reasoning-pro | 127k           | Chat Completion |\n",
    "| sonar-reasoning     | 127k           | Chat Completion |\n",
    "| sonar-pro           | 200k           | Chat Completion |\n",
    "| sonar               | 127k           | Chat Completion |\n",
    "\n",
    "**Pricing**\n",
    "\n",
    "| Model               | Input Tokens (Per Million Tokens) | Output Tokens (Per Million Tokens) | Price per 1000 searches |\n",
    "|---------------------|-----------------------------------|------------------------------------|-------------------------|\n",
    "| sonar-reasoning-pro | $2                                | $8                                 | $5                      |\n",
    "| sonar-reasoning     | $1                                | $5                                 | $5                      |\n",
    "| sonar-pro           | $3                                | $15                                | $5                      |\n",
    "| sonar               | $1                                | $1                                 | $5                      |\n",
    "\n",
    "**Practice Exercises**\n",
    "\n",
    "1.  Compare the context lengths of the different models. Which model has the longest context length?\n",
    "\n",
    "2.  Compare the input and output token pricing of the different models. Which model is the most expensive for output tokens?\n",
    "\n",
    "3.  Suppose you have a task that requires a long context length and high reasoning capabilities. Which model would you choose, and why?"
   ]
  }
 ],
 "metadata": {
  "kernelspec": {
   "display_name": "Python 3",
   "language": "python",
   "name": "python3"
  },
  "language_info": {
   "codemirror_mode": {
    "name": "ipython",
    "version": 3
   },
   "file_extension": ".py",
   "mimetype": "text/x-python",
   "name": "python",
   "nbconvert_exporter": "python",
   "pygments_lexer": "ipython3",
   "version": "3.8.5"
  }
 },
 "nbformat": 4,
 "nbformat_minor": 5
}
