{
 "cells": [
  {
   "cell_type": "markdown",
   "metadata": {},
   "source": [
    "# JSON Output\n",
    "\n",
    "The Perplexity API allows you to get structured JSON output by specifying a JSON schema in the request. This can be useful for extracting specific information from the model's response in a structured format.\n",
    "\n",
    "**Theory and Explanations**\n",
    "\n",
    "*   The `response_format` parameter in the request payload is used to specify the desired output format. Set the `type` to `json_schema` and provide a `json_schema` object that defines the structure of the JSON output.\n",
    "*   The example uses Pydantic's `BaseModel` to define the JSON schema. This provides a convenient way to define the fields and their data types.\n",
    "*   The `model_json_schema()` method of the `BaseModel` class returns a JSON schema representation of the model.\n",
    "\n",
    "**Example from Text**\n"
   ]
  },
  {
   "cell_type": "code",
   "execution_count": 4,
   "metadata": {},
   "outputs": [],
   "source": [
    "import os\n",
    "from dotenv import load_dotenv\n",
    "load_dotenv()\n",
    "perplexity_api_key = os.getenv(\"PERPLEXITY_API_KEY\")"
   ]
  },
  {
   "cell_type": "code",
   "execution_count": 3,
   "metadata": {},
   "outputs": [
    {
     "name": "stdout",
     "output_type": "stream",
     "text": [
      "```json\n",
      "{\n",
      "  \"first_name\": \"Michael\",\n",
      "  \"last_name\": \"Jordan\",\n",
      "  \"year_of_birth\": 1963,\n",
      "  \"num_seasons_in_nba\": 15\n",
      "}\n",
      "```\n"
     ]
    }
   ],
   "source": [
    "import requests\n",
    "from pydantic import BaseModel\n",
    "\n",
    "class AnswerFormat(BaseModel):\n",
    "    first_name: str\n",
    "    last_name: str\n",
    "    year_of_birth: int\n",
    "    num_seasons_in_nba: int\n",
    "\n",
    "url = \"https://api.perplexity.ai/chat/completions\"\n",
    "headers = {\"Authorization\": f\"Bearer {perplexity_api_key}\"}\n",
    "payload = {\n",
    "    \"model\": \"sonar\",\n",
    "    \"messages\": [\n",
    "        {\"role\": \"system\", \"content\": \"Be precise and concise.\"},\n",
    "        {\"role\": \"user\", \"content\": \"Tell me about Michael Jordan. Please output a JSON object containing the following fields: first_name, last_name, year_of_birth, num_seasons_in_nba.\"}\n",
    "    ],\n",
    "    \"response_format\": {\n",
    "        \"type\": \"json_schema\",\n",
    "        \"json_schema\": {\"schema\": AnswerFormat.model_json_schema()}\n",
    "    },\n",
    "}\n",
    "response = requests.post(url, headers=headers, json=payload).json()\n",
    "print(response[\"choices\"][0][\"message\"][\"content\"])"
   ]
  },
  {
   "cell_type": "markdown",
   "metadata": {},
   "source": [
    "**Practice Exercises**\n",
    "\n",
    "1.  Modify the `AnswerFormat` class to include an `awards` field (e.g., `awards: list[str]`). Update the user prompt to request this information. Run the code and observe the output.\n",
    "2.  Modify the `AnswerFormat` class to include a `net_worth` field (e.g., `net_worth: float`). Update the user prompt to request this information. Run the code and observe the output.\n",
    "3.  Change the `model` parameter to `sonar-pro`. Run the code and observe the output. Does the model provide more accurate information?"
   ]
  }
 ],
 "metadata": {
  "kernelspec": {
   "display_name": "genaienv",
   "language": "python",
   "name": "python3"
  },
  "language_info": {
   "codemirror_mode": {
    "name": "ipython",
    "version": 3
   },
   "file_extension": ".py",
   "mimetype": "text/x-python",
   "name": "python",
   "nbconvert_exporter": "python",
   "pygments_lexer": "ipython3",
   "version": "3.12.8"
  }
 },
 "nbformat": 4,
 "nbformat_minor": 5
}
