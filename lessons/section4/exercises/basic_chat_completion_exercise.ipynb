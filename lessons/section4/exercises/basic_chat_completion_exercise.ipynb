{
 "cells": [
  {
   "cell_type": "markdown",
   "metadata": {},
   "source": [
    "# Basic Chat Completion\n",
    "\n",
    "Chat completion is a fundamental task in interacting with large language models (LLMs). It involves sending a series of messages to the model and receiving a response.\n",
    "\n",
    "**Theory and Explanations**\n",
    "\n",
    "*   **Messages**: The input to the chat completion endpoint is a list of messages. Each message has a `role` (either `system`, `user`, or `assistant`) and `content` (the actual text of the message).\n",
    "*   **System Message**: The system message sets the behavior of the assistant. It can be used to provide instructions, context, or personality to the model.\n",
    "*   **User Message**: The user message represents the query or request from the user.\n",
    "*   **Assistant Message**: The assistant message represents a previous response from the assistant. This is useful for maintaining context in a conversation.\n",
    "*   **Model**: The `model` parameter specifies which LLM to use for the chat completion task.\n",
    "\n",
    "**Example from Text**\n",
    "\n",
    "Here's an example from the provided text:\n"
   ]
  },
  {
   "cell_type": "code",
   "execution_count": 1,
   "metadata": {},
   "outputs": [],
   "source": [
    "import os\n",
    "from dotenv import load_dotenv\n",
    "load_dotenv()\n",
    "perplexity_api_key = os.getenv(\"PERPLEXITY_API_KEY\")"
   ]
  },
  {
   "cell_type": "code",
   "execution_count": 22,
   "metadata": {},
   "outputs": [
    {
     "name": "stdout",
     "output_type": "stream",
     "text": [
      "ChatCompletion(id='a0306383-dec5-4bec-b8b4-04d7e98cb208', choices=[Choice(finish_reason='stop', index=0, logprobs=None, message=ChatCompletionMessage(content=\"Astronomers estimate there are approximately 200 billion trillion (2 x 10^23) stars in the observable universe[2][3]. This incredibly large number is based on estimates of the number of galaxies in the observable universe and the average number of stars per galaxy.\\n\\nTo break this down further:\\n\\n1. Number of galaxies: Recent estimates suggest there are about 2 trillion galaxies in the observable universe[3][5].\\n\\n2. Stars per galaxy: While galaxies vary greatly in size, astronomers often use the Milky Way as a reference point. Our galaxy is estimated to contain about 100-400 billion stars[1][4].\\n\\n3. Calculation: Multiplying the number of galaxies by an average number of stars per galaxy yields the total estimate.\\n\\nIt's important to note that this is just an estimate for the observable universe - the portion we can see from Earth given the speed of light and the age of the universe. The actual number of stars in the entire universe could be much larger.\\n\\nTo put this enormous number into perspective:\\n\\n- It's more than the number of grains of sand on all of Earth's beaches[1].\\n- If you could count one star per second, it would take you over 6 trillion years to count them all[2].\\n\\nThis estimate may change as our understanding of the universe improves and as we develop more advanced telescopes and observation techniques. For example, the James Webb Space Telescope and other future missions may reveal even more galaxies and stars than we currently estimate.\", refusal=None, role='assistant', audio=None, function_call=None, tool_calls=None), delta={'role': 'assistant', 'content': ''})], created=1739565019, model='sonar-pro', object='chat.completion', service_tier=None, system_fingerprint=None, usage=CompletionUsage(completion_tokens=332, prompt_tokens=31, total_tokens=363, completion_tokens_details=None, prompt_tokens_details=None, citation_tokens=4529, num_search_queries=1), citations=['https://www.esa.int/Science_Exploration/Space_Science/Herschel/How_many_stars_are_there_in_the_Universe', 'https://www.littlepassports.com/blog/space/how-many-stars-are-in-the-universe/', 'https://skyandtelescope.org/astronomy-resources/how-many-stars-are-there/', 'https://education.cosmosmagazine.com/how-many-stars-are-there-in-space/', 'https://bigthink.com/starts-with-a-bang/overestimated-stars-in-universe/', 'https://coolcosmos.ipac.caltech.edu/ask/207-How-many-stars-are-there-', 'https://www.space.com/26078-how-many-stars-are-there.html', 'https://science.nasa.gov/universe/stars/'])\n"
     ]
    }
   ],
   "source": [
    "from openai import OpenAI\n",
    "\n",
    "YOUR_API_KEY = perplexity_api_key\n",
    "\n",
    "messages = [\n",
    "    {\n",
    "        \"role\": \"system\",\n",
    "        \"content\": (\n",
    "            \"You are an artificial intelligence assistant and you need to \"\n",
    "            \"engage in a helpful, detailed, polite conversation with a user.\"\n",
    "        ),\n",
    "    },\n",
    "    {\n",
    "        \"role\": \"user\",\n",
    "        \"content\": (\n",
    "            \"How many stars are in the universe?\"\n",
    "        ),\n",
    "    },\n",
    "]\n",
    "\n",
    "client = OpenAI(api_key=YOUR_API_KEY, base_url=\"https://api.perplexity.ai\")\n",
    "\n",
    "# chat completion without streaming\n",
    "response = client.chat.completions.create(\n",
    "    model=\"sonar-pro\",\n",
    "    messages=messages,\n",
    ")\n",
    "print(response)"
   ]
  },
  {
   "cell_type": "code",
   "execution_count": null,
   "id": "6519ebc8",
   "metadata": {},
   "outputs": [
    {
     "name": "stdout",
     "output_type": "stream",
     "text": [
      "Astronomers estimate there are approximately 200 billion trillion (2 x 10^23) stars in the observable universe[2][3]. This incredibly large number is based on estimates of the number of galaxies in the observable universe and the average number of stars per galaxy.\n",
      "\n",
      "To break this down further:\n",
      "\n",
      "1. Number of galaxies: Recent estimates suggest there are about 2 trillion galaxies in the observable universe[3][5].\n",
      "\n",
      "2. Stars per galaxy: While galaxies vary greatly in size, astronomers often use the Milky Way as a reference point. Our galaxy is estimated to contain about 100-400 billion stars[1][4].\n",
      "\n",
      "3. Calculation: Multiplying the number of galaxies by an average number of stars per galaxy yields the total estimate.\n",
      "\n",
      "It's important to note that this is just an estimate for the observable universe - the portion we can see from Earth given the speed of light and the age of the universe. The actual number of stars in the entire universe could be much larger.\n",
      "\n",
      "To put this enormous number into perspective:\n",
      "\n",
      "- It's more than the number of grains of sand on all of Earth's beaches[1].\n",
      "- If you could count one star per second, it would take you over 6 trillion years to count them all[2].\n",
      "\n",
      "This estimate may change as our understanding of the universe improves and as we develop more advanced telescopes and observation techniques. For example, the James Webb Space Telescope and other future missions may reveal even more galaxies and stars than we currently estimate.\n"
     ]
    }
   ],
   "source": [
    "# Print the content of the first message choice from the AI response\n",
    "print(response.choices[0].message.content)"
   ]
  },
  {
   "cell_type": "code",
   "execution_count": null,
   "id": "ac91ccec",
   "metadata": {},
   "outputs": [
    {
     "name": "stdout",
     "output_type": "stream",
     "text": [
      "['https://www.esa.int/Science_Exploration/Space_Science/Herschel/How_many_stars_are_there_in_the_Universe', 'https://www.littlepassports.com/blog/space/how-many-stars-are-in-the-universe/', 'https://skyandtelescope.org/astronomy-resources/how-many-stars-are-there/', 'https://education.cosmosmagazine.com/how-many-stars-are-there-in-space/', 'https://bigthink.com/starts-with-a-bang/overestimated-stars-in-universe/', 'https://coolcosmos.ipac.caltech.edu/ask/207-How-many-stars-are-there-', 'https://www.space.com/26078-how-many-stars-are-there.html', 'https://science.nasa.gov/universe/stars/']\n"
     ]
    }
   ],
   "source": [
    "# Print the citations from the response object\n",
    "print(response.citations)"
   ]
  },
  {
   "cell_type": "markdown",
   "metadata": {},
   "source": [
    "**Practice Exercises**\n",
    "\n",
    "1.  Modify the user prompt to ask a different question (e.g., \"What is the capital of France?\"). Run the code and observe the response.\n",
    "2.  Modify the system prompt to change the assistant's behavior (e.g., \"You are a sarcastic AI assistant\"). Run the code and observe the response.\n",
    "3.  Try a different model (e.g., \"sonar\"). Run the code and observe the response."
   ]
  },
  {
   "cell_type": "code",
   "execution_count": null,
   "id": "a95381db",
   "metadata": {},
   "outputs": [],
   "source": [
    "# Solution for Exercise 1\n"
   ]
  }
 ],
 "metadata": {
  "kernelspec": {
   "display_name": "genaienv",
   "language": "python",
   "name": "python3"
  },
  "language_info": {
   "codemirror_mode": {
    "name": "ipython",
    "version": 3
   },
   "file_extension": ".py",
   "mimetype": "text/x-python",
   "name": "python",
   "nbconvert_exporter": "python",
   "pygments_lexer": "ipython3",
   "version": "3.12.8"
  }
 },
 "nbformat": 4,
 "nbformat_minor": 5
}
