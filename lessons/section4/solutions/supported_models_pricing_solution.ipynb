{
 "cells": [
  {
   "cell_type": "markdown",
   "metadata": {},
   "source": [
    "# Supported Models and Pricing - Solution\n",
    "\n",
    "Here are the solutions to the practice exercises for understanding the supported models and their pricing.\n",
    "\n",
    "**Supported Models**\n",
    "\n",
    "| Model Name          | Context Length | Model Type      |\n",
    "|---------------------|----------------|-------------------|\n",
    "| sonar-reasoning-pro | 127k           | Chat Completion |\n",
    "| sonar-reasoning     | 127k           | Chat Completion |\n",
    "| sonar-pro           | 200k           | Chat Completion |\n",
    "| sonar               | 127k           | Chat Completion |\n",
    "\n",
    "**Pricing**\n",
    "\n",
    "| Model               | Input Tokens (Per Million Tokens) | Output Tokens (Per Million Tokens) | Price per 1000 searches |\n",
    "|---------------------|-----------------------------------|------------------------------------|-------------------------|\n",
    "| sonar-reasoning-pro | $2                                | $8                                 | $5                      |\n",
    "| sonar-reasoning     | $1                                | $5                                 | $5                      |\n",
    "| sonar-pro           | $3                                | $15                                | $5                      |\n",
    "| sonar               | $1                                | $1                                 | $5                      |\n",
    "\n",
    "**Solution to Exercise 1: Compare the context lengths of the different models**\n",
    "\n",
    "The model with the longest context length is **sonar-pro**, with a context length of 200k.\n",
    "\n",
    "**Solution to Exercise 2: Compare the input and output token pricing of the different models**\n",
    "\n",
    "The model with the most expensive output token pricing is **sonar-pro**, with a price of $15 per million tokens.\n",
    "\n",
    "**Solution to Exercise 3: Suppose you have a task that requires a long context length and high reasoning capabilities. Which model would you choose, and why?**\n",
    "\n",
    "The best model for this task would be **sonar-reasoning-pro**. While **sonar-pro** has a longer context length (200k vs 127k), **sonar-reasoning-pro** is specifically designed for reasoning tasks. Therefore, the combination of reasoning capabilities and a long context length makes it the most suitable choice."
   ]
  }
 ],
 "metadata": {
  "kernelspec": {
   "display_name": "Python 3",
   "language": "python",
   "name": "python3"
  },
  "language_info": {
   "codemirror_mode": {
    "name": "ipython",
    "version": 3
   },
   "file_extension": ".py",
   "mimetype": "text/x-python",
   "name": "python",
   "nbconvert_exporter": "python",
   "pygments_lexer": "ipython3",
   "version": "3.8.5"
  }
 },
 "nbformat": 4,
 "nbformat_minor": 5
}
